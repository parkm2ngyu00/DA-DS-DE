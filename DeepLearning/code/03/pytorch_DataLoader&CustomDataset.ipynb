{
 "cells": [
  {
   "cell_type": "markdown",
   "id": "fb8efc82-3e6e-40c2-9c23-f049cd0db684",
   "metadata": {},
   "source": [
    "# Pytorch 기초: DataLoader & CustomDataset"
   ]
  },
  {
   "cell_type": "code",
   "execution_count": 1,
   "id": "677da842-7d0c-4a50-884b-8a470624fa1e",
   "metadata": {},
   "outputs": [
    {
     "data": {
      "text/plain": [
       "<torch._C.Generator at 0x7ff3c7de4b10>"
      ]
     },
     "execution_count": 1,
     "metadata": {},
     "output_type": "execute_result"
    }
   ],
   "source": [
    "import torch\n",
    "import torch.nn as nn\n",
    "import torch.nn.functional as F\n",
    "\n",
    "from torch.utils.data import TensorDataset # 텐서데이터셋\n",
    "from torch.utils.data import DataLoader # 데이터로더\n",
    "\n",
    "torch.manual_seed(1)"
   ]
  },
  {
   "cell_type": "markdown",
   "id": "a1838b05-d87c-4fda-bbd8-5537b65ceecb",
   "metadata": {},
   "source": [
    "## 1. DataLaoder: Batch"
   ]
  },
  {
   "cell_type": "markdown",
   "id": "801a5ab2-c924-4734-9897-6a3f2123360f",
   "metadata": {},
   "source": [
    "### 1.1 Input Data"
   ]
  },
  {
   "cell_type": "code",
   "execution_count": 2,
   "id": "898d020e-2395-4808-966e-28e252fb7935",
   "metadata": {},
   "outputs": [
    {
     "data": {
      "text/plain": [
       "(torch.Size([5, 3]), torch.Size([5, 1]))"
      ]
     },
     "execution_count": 2,
     "metadata": {},
     "output_type": "execute_result"
    }
   ],
   "source": [
    "X_train  =  torch.FloatTensor([[73,  80,  75], \n",
    "                               [93,  88,  93], \n",
    "                               [89,  91,  90], \n",
    "                               [96,  98,  100],   \n",
    "                               [73,  66,  70]])  \n",
    "\n",
    "y_train  =  torch.FloatTensor([[152],  [185],  [180],  [196],  [142]])\n",
    "\n",
    "X_train.shape, y_train.shape"
   ]
  },
  {
   "cell_type": "markdown",
   "id": "1d789229-cff2-4688-bc75-d0db7cf9989c",
   "metadata": {},
   "source": [
    "### 1.2 TensorDataset & DataLoader"
   ]
  },
  {
   "cell_type": "code",
   "execution_count": 3,
   "id": "d8c1b41a-e50d-4197-9c26-5effe29e2e1d",
   "metadata": {},
   "outputs": [],
   "source": [
    "dataset = TensorDataset(X_train, y_train)"
   ]
  },
  {
   "cell_type": "code",
   "execution_count": 4,
   "id": "69ab3674-5ba8-4adc-9e9e-4620772e600d",
   "metadata": {},
   "outputs": [],
   "source": [
    "dataloader = DataLoader(dataset, batch_size=2, shuffle=True)"
   ]
  },
  {
   "cell_type": "markdown",
   "id": "d969f5d3-9e42-4718-9717-0b6c98630a7a",
   "metadata": {},
   "source": [
    "### 1.3 torch.nn 및 Optimizer"
   ]
  },
  {
   "cell_type": "code",
   "execution_count": 5,
   "id": "912b96f9-0c57-4813-bc71-58c3b4bf4bfd",
   "metadata": {},
   "outputs": [],
   "source": [
    "model = nn.Linear(3,1)\n",
    "optimizer = torch.optim.SGD(model.parameters(), lr=1e-5) "
   ]
  },
  {
   "cell_type": "markdown",
   "id": "2a449dcc-87b0-40ed-bb10-7c236f32fae3",
   "metadata": {},
   "source": [
    "### 1.4 Training"
   ]
  },
  {
   "cell_type": "code",
   "execution_count": 6,
   "id": "e7217782-e78a-4a98-80fc-d03edf242153",
   "metadata": {},
   "outputs": [
    {
     "name": "stdout",
     "output_type": "stream",
     "text": [
      "Epoch    0/20 Batch 1/3 Cost: 23071.781250\n",
      "Epoch    0/20 Batch 2/3 Cost: 17581.359375\n",
      "Epoch    0/20 Batch 3/3 Cost: 3703.553467\n",
      "Epoch    1/20 Batch 1/3 Cost: 857.131592\n",
      "Epoch    1/20 Batch 2/3 Cost: 194.912628\n",
      "Epoch    1/20 Batch 3/3 Cost: 103.150658\n",
      "Epoch    2/20 Batch 1/3 Cost: 16.461014\n",
      "Epoch    2/20 Batch 2/3 Cost: 10.970690\n",
      "Epoch    2/20 Batch 3/3 Cost: 2.953000\n",
      "Epoch    3/20 Batch 1/3 Cost: 1.246350\n",
      "Epoch    3/20 Batch 2/3 Cost: 0.095024\n",
      "Epoch    3/20 Batch 3/3 Cost: 0.104377\n",
      "Epoch    4/20 Batch 1/3 Cost: 0.678442\n",
      "Epoch    4/20 Batch 2/3 Cost: 0.123370\n",
      "Epoch    4/20 Batch 3/3 Cost: 0.118080\n",
      "Epoch    5/20 Batch 1/3 Cost: 0.094797\n",
      "Epoch    5/20 Batch 2/3 Cost: 0.531496\n",
      "Epoch    5/20 Batch 3/3 Cost: 0.011195\n",
      "Epoch    6/20 Batch 1/3 Cost: 0.219984\n",
      "Epoch    6/20 Batch 2/3 Cost: 0.042416\n",
      "Epoch    6/20 Batch 3/3 Cost: 0.917457\n",
      "Epoch    7/20 Batch 1/3 Cost: 0.213805\n",
      "Epoch    7/20 Batch 2/3 Cost: 0.640260\n",
      "Epoch    7/20 Batch 3/3 Cost: 0.005267\n",
      "Epoch    8/20 Batch 1/3 Cost: 0.454904\n",
      "Epoch    8/20 Batch 2/3 Cost: 0.011372\n",
      "Epoch    8/20 Batch 3/3 Cost: 0.298672\n",
      "Epoch    9/20 Batch 1/3 Cost: 0.560366\n",
      "Epoch    9/20 Batch 2/3 Cost: 0.011228\n",
      "Epoch    9/20 Batch 3/3 Cost: 0.244175\n",
      "Epoch   10/20 Batch 1/3 Cost: 0.613756\n",
      "Epoch   10/20 Batch 2/3 Cost: 0.024911\n",
      "Epoch   10/20 Batch 3/3 Cost: 0.066373\n",
      "Epoch   11/20 Batch 1/3 Cost: 0.116618\n",
      "Epoch   11/20 Batch 2/3 Cost: 0.045004\n",
      "Epoch   11/20 Batch 3/3 Cost: 0.958777\n",
      "Epoch   12/20 Batch 1/3 Cost: 0.234987\n",
      "Epoch   12/20 Batch 2/3 Cost: 0.154504\n",
      "Epoch   12/20 Batch 3/3 Cost: 0.861088\n",
      "Epoch   13/20 Batch 1/3 Cost: 0.398479\n",
      "Epoch   13/20 Batch 2/3 Cost: 0.304441\n",
      "Epoch   13/20 Batch 3/3 Cost: 0.015352\n",
      "Epoch   14/20 Batch 1/3 Cost: 0.050674\n",
      "Epoch   14/20 Batch 2/3 Cost: 0.482778\n",
      "Epoch   14/20 Batch 3/3 Cost: 0.414241\n",
      "Epoch   15/20 Batch 1/3 Cost: 0.513221\n",
      "Epoch   15/20 Batch 2/3 Cost: 0.068333\n",
      "Epoch   15/20 Batch 3/3 Cost: 0.215187\n",
      "Epoch   16/20 Batch 1/3 Cost: 0.069608\n",
      "Epoch   16/20 Batch 2/3 Cost: 0.052825\n",
      "Epoch   16/20 Batch 3/3 Cost: 1.164131\n",
      "Epoch   17/20 Batch 1/3 Cost: 0.034010\n",
      "Epoch   17/20 Batch 2/3 Cost: 0.486735\n",
      "Epoch   17/20 Batch 3/3 Cost: 0.209240\n",
      "Epoch   18/20 Batch 1/3 Cost: 0.024249\n",
      "Epoch   18/20 Batch 2/3 Cost: 0.129105\n",
      "Epoch   18/20 Batch 3/3 Cost: 1.134490\n",
      "Epoch   19/20 Batch 1/3 Cost: 0.490361\n",
      "Epoch   19/20 Batch 2/3 Cost: 0.154794\n",
      "Epoch   19/20 Batch 3/3 Cost: 0.011797\n",
      "Epoch   20/20 Batch 1/3 Cost: 0.408733\n",
      "Epoch   20/20 Batch 2/3 Cost: 0.194442\n",
      "Epoch   20/20 Batch 3/3 Cost: 0.004536\n"
     ]
    }
   ],
   "source": [
    "nb_epochs = 20\n",
    "for epoch in range(nb_epochs + 1):\n",
    "  for batch_idx, samples in enumerate(dataloader):\n",
    "    # print(batch_idx)\n",
    "    # print(samples)\n",
    "    x_train, y_train = samples\n",
    "    \n",
    "    # H(x) 계산\n",
    "    prediction = model(x_train)\n",
    "\n",
    "    # cost 계산\n",
    "    cost = F.mse_loss(prediction, y_train)\n",
    "\n",
    "    # cost로 H(x) 계산\n",
    "    optimizer.zero_grad()\n",
    "    cost.backward()\n",
    "    optimizer.step()\n",
    "\n",
    "    print('Epoch {:4d}/{} Batch {}/{} Cost: {:.6f}'.format(\n",
    "        epoch, nb_epochs, batch_idx+1, len(dataloader),\n",
    "        cost.item()\n",
    "        ))"
   ]
  },
  {
   "cell_type": "markdown",
   "id": "d0dee4e9-573d-481c-a475-c444238d5eca",
   "metadata": {},
   "source": [
    "### 1.5 Predict"
   ]
  },
  {
   "cell_type": "code",
   "execution_count": 7,
   "id": "4e25a7b6-c371-4c1e-8c11-603ec9ee2681",
   "metadata": {},
   "outputs": [
    {
     "name": "stdout",
     "output_type": "stream",
     "text": [
      "훈련 후 입력이 73, 80, 75일 때의 예측값 : tensor([[151.0829]], grad_fn=<AddmmBackward0>)\n"
     ]
    }
   ],
   "source": [
    "# 임의의 입력 [73, 80, 75]를 선언\n",
    "new_var =  torch.FloatTensor([[73, 80, 75]]) \n",
    "\n",
    "# 입력한 값 [73, 80, 75]에 대해서 예측값 y를 리턴받아서 pred_y에 저장\n",
    "pred_y = model(new_var) \n",
    "print(\"훈련 후 입력이 73, 80, 75일 때의 예측값 :\", pred_y) "
   ]
  },
  {
   "cell_type": "markdown",
   "id": "4eaaabd0-cc35-47e0-917c-3a82cc68d479",
   "metadata": {},
   "source": [
    "## 2. CustomDataset "
   ]
  },
  {
   "cell_type": "code",
   "execution_count": 8,
   "id": "f385de03-955b-491b-9464-ce802dcb1e3d",
   "metadata": {},
   "outputs": [],
   "source": [
    "import torch\n",
    "import torch.nn.functional as F\n",
    "from torch.utils.data import Dataset\n",
    "from torch.utils.data import DataLoader"
   ]
  },
  {
   "cell_type": "markdown",
   "id": "2e6e842f-2050-4ea2-b69c-6cfb6af71d47",
   "metadata": {},
   "source": [
    "### 2.1 CustomDataset Class"
   ]
  },
  {
   "cell_type": "code",
   "execution_count": null,
   "id": "2d192a22-de26-4fb8-9f41-96532f51086b",
   "metadata": {},
   "outputs": [],
   "source": [
    "# 기본 구성\n",
    "class CustomDataset(torch.utils.data.Dataset): \n",
    "    def __init__(self):\n",
    "    # 데이터셋의 전처리를 해주는 부분\n",
    "\n",
    "    def __len__(self):\n",
    "    # 데이터셋의 길이. 즉, 총 샘플의 수를 적어주는 부분\n",
    "\n",
    "    def __getitem__(self, idx): \n",
    "    # 데이터셋에서 특정 1개의 샘플을 가져오는 함수"
   ]
  },
  {
   "cell_type": "code",
   "execution_count": 10,
   "id": "756e06cb-8648-4128-8cd6-6717fb8d3ae3",
   "metadata": {},
   "outputs": [],
   "source": [
    "# Dataset 상속\n",
    "class CustomDataset(Dataset): \n",
    "  def __init__(self):\n",
    "    self.x_data = [[73, 80, 75],\n",
    "                   [93, 88, 93],\n",
    "                   [89, 91, 90],\n",
    "                   [96, 98, 100],\n",
    "                   [73, 66, 70]]\n",
    "    self.y_data = [[152], [185], [180], [196], [142]]\n",
    "\n",
    "  # 총 데이터의 개수를 리턴\n",
    "  def __len__(self): \n",
    "    return len(self.x_data)\n",
    "\n",
    "  # 인덱스를 입력받아 그에 맵핑되는 입출력 데이터를 파이토치의 Tensor 형태로 리턴\n",
    "  def __getitem__(self, idx): \n",
    "    x = torch.FloatTensor(self.x_data[idx])\n",
    "    y = torch.FloatTensor(self.y_data[idx])\n",
    "    return x, y"
   ]
  },
  {
   "cell_type": "markdown",
   "id": "a001ba1f-99e8-4fa5-829f-dd36eb6e971a",
   "metadata": {},
   "source": [
    "### 2.2 Batch Dataset 구축"
   ]
  },
  {
   "cell_type": "code",
   "execution_count": 11,
   "id": "61fbc7fd-99df-4364-9f45-3febfeec8141",
   "metadata": {},
   "outputs": [],
   "source": [
    "dataset = CustomDataset()\n",
    "dataloader = DataLoader(dataset, batch_size=2, shuffle=True)"
   ]
  },
  {
   "cell_type": "markdown",
   "id": "6817cf64-d98e-4bc6-bf27-0fd26ccab79d",
   "metadata": {},
   "source": [
    "### 2.3 torch.nn & Optimizer"
   ]
  },
  {
   "cell_type": "code",
   "execution_count": 12,
   "id": "2949a2c6-044b-4dcb-9856-220b9be1a7c3",
   "metadata": {},
   "outputs": [],
   "source": [
    "model = torch.nn.Linear(3,1)\n",
    "optimizer = torch.optim.SGD(model.parameters(), lr=1e-5)"
   ]
  },
  {
   "cell_type": "markdown",
   "id": "5f7ca4ab-fb15-454e-addd-1880594d5b4d",
   "metadata": {},
   "source": [
    "### 2.4 Training"
   ]
  },
  {
   "cell_type": "code",
   "execution_count": 13,
   "id": "cf5d547a-a6ca-4469-9200-378e8a11ef3b",
   "metadata": {},
   "outputs": [
    {
     "name": "stdout",
     "output_type": "stream",
     "text": [
      "Epoch    0/20 Batch 1/3 Loss: 0.004536\n",
      "Epoch    0/20 Batch 2/3 Loss: 0.004536\n",
      "Epoch    0/20 Batch 3/3 Loss: 0.004536\n",
      "Epoch    1/20 Batch 1/3 Loss: 0.004536\n",
      "Epoch    1/20 Batch 2/3 Loss: 0.004536\n",
      "Epoch    1/20 Batch 3/3 Loss: 0.004536\n",
      "Epoch    2/20 Batch 1/3 Loss: 0.004536\n",
      "Epoch    2/20 Batch 2/3 Loss: 0.004536\n",
      "Epoch    2/20 Batch 3/3 Loss: 0.004536\n",
      "Epoch    3/20 Batch 1/3 Loss: 0.004536\n",
      "Epoch    3/20 Batch 2/3 Loss: 0.004536\n",
      "Epoch    3/20 Batch 3/3 Loss: 0.004536\n",
      "Epoch    4/20 Batch 1/3 Loss: 0.004536\n",
      "Epoch    4/20 Batch 2/3 Loss: 0.004536\n",
      "Epoch    4/20 Batch 3/3 Loss: 0.004536\n",
      "Epoch    5/20 Batch 1/3 Loss: 0.004536\n",
      "Epoch    5/20 Batch 2/3 Loss: 0.004536\n",
      "Epoch    5/20 Batch 3/3 Loss: 0.004536\n",
      "Epoch    6/20 Batch 1/3 Loss: 0.004536\n",
      "Epoch    6/20 Batch 2/3 Loss: 0.004536\n",
      "Epoch    6/20 Batch 3/3 Loss: 0.004536\n",
      "Epoch    7/20 Batch 1/3 Loss: 0.004536\n",
      "Epoch    7/20 Batch 2/3 Loss: 0.004536\n",
      "Epoch    7/20 Batch 3/3 Loss: 0.004536\n",
      "Epoch    8/20 Batch 1/3 Loss: 0.004536\n",
      "Epoch    8/20 Batch 2/3 Loss: 0.004536\n",
      "Epoch    8/20 Batch 3/3 Loss: 0.004536\n",
      "Epoch    9/20 Batch 1/3 Loss: 0.004536\n",
      "Epoch    9/20 Batch 2/3 Loss: 0.004536\n",
      "Epoch    9/20 Batch 3/3 Loss: 0.004536\n",
      "Epoch   10/20 Batch 1/3 Loss: 0.004536\n",
      "Epoch   10/20 Batch 2/3 Loss: 0.004536\n",
      "Epoch   10/20 Batch 3/3 Loss: 0.004536\n",
      "Epoch   11/20 Batch 1/3 Loss: 0.004536\n",
      "Epoch   11/20 Batch 2/3 Loss: 0.004536\n",
      "Epoch   11/20 Batch 3/3 Loss: 0.004536\n",
      "Epoch   12/20 Batch 1/3 Loss: 0.004536\n",
      "Epoch   12/20 Batch 2/3 Loss: 0.004536\n",
      "Epoch   12/20 Batch 3/3 Loss: 0.004536\n",
      "Epoch   13/20 Batch 1/3 Loss: 0.004536\n",
      "Epoch   13/20 Batch 2/3 Loss: 0.004536\n",
      "Epoch   13/20 Batch 3/3 Loss: 0.004536\n",
      "Epoch   14/20 Batch 1/3 Loss: 0.004536\n",
      "Epoch   14/20 Batch 2/3 Loss: 0.004536\n",
      "Epoch   14/20 Batch 3/3 Loss: 0.004536\n",
      "Epoch   15/20 Batch 1/3 Loss: 0.004536\n",
      "Epoch   15/20 Batch 2/3 Loss: 0.004536\n",
      "Epoch   15/20 Batch 3/3 Loss: 0.004536\n",
      "Epoch   16/20 Batch 1/3 Loss: 0.004536\n",
      "Epoch   16/20 Batch 2/3 Loss: 0.004536\n",
      "Epoch   16/20 Batch 3/3 Loss: 0.004536\n",
      "Epoch   17/20 Batch 1/3 Loss: 0.004536\n",
      "Epoch   17/20 Batch 2/3 Loss: 0.004536\n",
      "Epoch   17/20 Batch 3/3 Loss: 0.004536\n",
      "Epoch   18/20 Batch 1/3 Loss: 0.004536\n",
      "Epoch   18/20 Batch 2/3 Loss: 0.004536\n",
      "Epoch   18/20 Batch 3/3 Loss: 0.004536\n",
      "Epoch   19/20 Batch 1/3 Loss: 0.004536\n",
      "Epoch   19/20 Batch 2/3 Loss: 0.004536\n",
      "Epoch   19/20 Batch 3/3 Loss: 0.004536\n",
      "Epoch   20/20 Batch 1/3 Loss: 0.004536\n",
      "Epoch   20/20 Batch 2/3 Loss: 0.004536\n",
      "Epoch   20/20 Batch 3/3 Loss: 0.004536\n"
     ]
    }
   ],
   "source": [
    "nb_epochs = 20\n",
    "for epoch in range(nb_epochs + 1):\n",
    "  for batch_idx, samples in enumerate(dataloader):\n",
    "    # print(batch_idx)\n",
    "    # print(samples)\n",
    "    x_train, y_train = samples\n",
    "    # H(x) 계산\n",
    "    prediction = model(x_train)\n",
    "\n",
    "    # loss 계산\n",
    "    loss = F.mse_loss(prediction, y_train)\n",
    "\n",
    "    # loss로 H(x) 계산\n",
    "    optimizer.zero_grad()\n",
    "    loss.backward()\n",
    "    optimizer.step()\n",
    "\n",
    "    print('Epoch {:4d}/{} Batch {}/{} Loss: {:.6f}'.format(\n",
    "        epoch, nb_epochs, batch_idx+1, len(dataloader),\n",
    "        cost.item()\n",
    "        ))"
   ]
  },
  {
   "cell_type": "markdown",
   "id": "31b8b933-1587-4a49-b111-24e13402e4bf",
   "metadata": {},
   "source": [
    "### 2.5 Predict"
   ]
  },
  {
   "cell_type": "code",
   "execution_count": 14,
   "id": "2305857b-0d0f-40aa-83d8-b5d2788d4255",
   "metadata": {},
   "outputs": [
    {
     "name": "stdout",
     "output_type": "stream",
     "text": [
      "훈련 후 입력이 73, 80, 75일 때의 예측값 : tensor([[153.5689]], grad_fn=<AddmmBackward0>)\n"
     ]
    }
   ],
   "source": [
    "# 임의의 입력 [73, 80, 75]를 선언\n",
    "new_var =  torch.FloatTensor([[73, 80, 75]]) \n",
    "\n",
    "# 입력한 값 [73, 80, 75]에 대해서 예측값 y를 리턴받아서 pred_y에 저장\n",
    "pred_y = model(new_var) \n",
    "\n",
    "print(\"훈련 후 입력이 73, 80, 75일 때의 예측값 :\", pred_y) "
   ]
  }
 ],
 "metadata": {
  "kernelspec": {
   "display_name": "pytorch",
   "language": "python",
   "name": "pytorch"
  },
  "language_info": {
   "codemirror_mode": {
    "name": "ipython",
    "version": 3
   },
   "file_extension": ".py",
   "mimetype": "text/x-python",
   "name": "python",
   "nbconvert_exporter": "python",
   "pygments_lexer": "ipython3",
   "version": "3.9.17"
  }
 },
 "nbformat": 4,
 "nbformat_minor": 5
}
