{
 "cells": [
  {
   "cell_type": "markdown",
   "metadata": {
    "id": "aXkszegKMMMn"
   },
   "source": [
    "# 데이터 구조의 이해 (4) - Tensor\n",
    "- pytorch installation: https://pytorch.org/get-started/locally/\n",
    "1. cpu installation: `pip install torch torchvision torchaudio`\n",
    "1. gpu instalation: `pip install` 또는 `conda install`로 OS, CUDA 버전에 맞게 설치"
   ]
  },
  {
   "cell_type": "code",
   "execution_count": 6,
   "metadata": {
    "tags": []
   },
   "outputs": [
    {
     "data": {
      "text/plain": [
       "'2.0.1+cpu'"
      ]
     },
     "execution_count": 6,
     "metadata": {},
     "output_type": "execute_result"
    }
   ],
   "source": [
    "import torch\n",
    "torch.__version__"
   ]
  },
  {
   "cell_type": "markdown",
   "metadata": {
    "id": "QbzMwCbOLF4T"
   },
   "source": [
    "## 1. Simple CPU Example"
   ]
  },
  {
   "cell_type": "code",
   "execution_count": 2,
   "metadata": {
    "colab": {
     "base_uri": "https://localhost:8080/"
    },
    "executionInfo": {
     "elapsed": 358,
     "status": "ok",
     "timestamp": 1612991134258,
     "user": {
      "displayName": "Joe Papa",
      "photoUrl": "",
      "userId": "00487850786587503652"
     },
     "user_tz": 300
    },
    "id": "HWv6NA5YKpLU",
    "outputId": "6f60ffef-148b-4ee5-e499-4b54fb8ee652",
    "tags": []
   },
   "outputs": [
    {
     "name": "stdout",
     "output_type": "stream",
     "text": [
      "tensor([[ 8, 10, 12],\n",
      "        [14, 16, 18]])\n",
      "torch.Size([2, 3])\n"
     ]
    }
   ],
   "source": [
    "x = torch.tensor([[1,2,3],[4,5,6]])\n",
    "y = torch.tensor([[7,8,9],[10,11,12]])\n",
    "z = x + y\n",
    "\n",
    "print(z) \n",
    "print(z.size()) "
   ]
  },
  {
   "cell_type": "markdown",
   "metadata": {
    "id": "7cvJwOfpRjyp"
   },
   "source": [
    "## 2. Simple GPU Example"
   ]
  },
  {
   "cell_type": "code",
   "execution_count": 3,
   "metadata": {
    "colab": {
     "base_uri": "https://localhost:8080/"
    },
    "executionInfo": {
     "elapsed": 248,
     "status": "ok",
     "timestamp": 1612991309666,
     "user": {
      "displayName": "Joe Papa",
      "photoUrl": "",
      "userId": "00487850786587503652"
     },
     "user_tz": 300
    },
    "id": "lB62TcNkQpjn",
    "outputId": "d913f0b3-7f2d-428a-8bee-f88582e5dc7d",
    "tags": []
   },
   "outputs": [
    {
     "name": "stdout",
     "output_type": "stream",
     "text": [
      "torch.Size([2, 3])\n",
      "cpu\n"
     ]
    }
   ],
   "source": [
    "device = \"cuda\" if torch.cuda.is_available() else \"cpu\"\n",
    "\n",
    "x = torch.tensor([[1,2,3],\n",
    "                  [4,5,6]], device=device)\n",
    "y = torch.tensor([[7,8,9],\n",
    "                  [10,11,12]], device=device)\n",
    "z = x + y\n",
    "\n",
    "print(z.size())\n",
    "print(z.device)"
   ]
  },
  {
   "cell_type": "markdown",
   "metadata": {
    "id": "siupc0FJR0ma"
   },
   "source": [
    "## 3. Moving Tensors CPU & GPU"
   ]
  },
  {
   "cell_type": "code",
   "execution_count": 7,
   "metadata": {
    "colab": {
     "base_uri": "https://localhost:8080/"
    },
    "executionInfo": {
     "elapsed": 248,
     "status": "ok",
     "timestamp": 1612991465747,
     "user": {
      "displayName": "Joe Papa",
      "photoUrl": "",
      "userId": "00487850786587503652"
     },
     "user_tz": 300
    },
    "id": "U5yCYvynR1md",
    "outputId": "b10eefc8-cc7e-4297-aabf-7902b3bef246",
    "tags": []
   },
   "outputs": [
    {
     "data": {
      "text/plain": [
       "tensor([[ 8, 10, 12],\n",
       "        [14, 16, 18]])"
      ]
     },
     "execution_count": 7,
     "metadata": {},
     "output_type": "execute_result"
    }
   ],
   "source": [
    "device = \"cuda\" if torch.cuda.is_available() else \"cpu\"\n",
    "\n",
    "x.to(device)\n",
    "y.to(device)\n",
    "\n",
    "z = x + y\n",
    "z.to(\"cpu\")"
   ]
  },
  {
   "cell_type": "markdown",
   "metadata": {
    "id": "XIAXms9fS1LA"
   },
   "source": [
    "## 4. Tensors 생성"
   ]
  },
  {
   "cell_type": "code",
   "execution_count": 8,
   "metadata": {
    "id": "vHDeTeERR525",
    "tags": []
   },
   "outputs": [
    {
     "name": "stdout",
     "output_type": "stream",
     "text": [
      "tensor([1, 2, 3]) tensor([1, 2, 3]) tensor([1, 2, 3], dtype=torch.int32)\n"
     ]
    }
   ],
   "source": [
    "import numpy \n",
    "\n",
    "w1 = torch.tensor([1,2,3])\n",
    "w2 = torch.tensor((1,2,3)) \n",
    "w3 = torch.tensor(numpy.array([1,2,3])) \n",
    "\n",
    "print(w1, w2, w3)"
   ]
  },
  {
   "cell_type": "code",
   "execution_count": 9,
   "metadata": {
    "id": "vHDeTeERR525",
    "tags": []
   },
   "outputs": [
    {
     "name": "stdout",
     "output_type": "stream",
     "text": [
      "tensor([[0., 0., 0.],\n",
      "        [0., 0., 0.],\n",
      "        [0., 0., 0.]]) tensor([[0., 0., 0., 0.],\n",
      "        [0., 0., 0., 0.],\n",
      "        [0., 0., 0., 0.],\n",
      "        [0., 0., 0., 0.]]) tensor([[1., 1., 1., 1., 1.],\n",
      "        [1., 1., 1., 1., 1.],\n",
      "        [1., 1., 1., 1., 1.],\n",
      "        [1., 1., 1., 1., 1.],\n",
      "        [1., 1., 1., 1., 1.]])\n",
      "torch.Size([3, 3]) torch.Size([4, 4]) torch.Size([5, 5])\n"
     ]
    }
   ],
   "source": [
    "w4 = torch.empty(3,3) \n",
    "w5 = torch.zeros(4,4) \n",
    "w6 = torch.ones(5,5) \n",
    "\n",
    "print(w4, w5, w6)\n",
    "print(w4.shape, w5.shape, w6.shape) "
   ]
  },
  {
   "cell_type": "code",
   "execution_count": 10,
   "metadata": {
    "id": "L4VLExcC0EFk",
    "tags": []
   },
   "outputs": [
    {
     "name": "stdout",
     "output_type": "stream",
     "text": [
      "tensor([[0.8740, 0.8263, 0.6071, 0.5184],\n",
      "        [0.0559, 0.9969, 0.2647, 0.2324],\n",
      "        [0.3972, 0.2889, 0.7804, 0.3805],\n",
      "        [0.4452, 0.6120, 0.6309, 0.1816]]) tensor([[ 1.0792,  2.2401, -0.2091, -0.2217],\n",
      "        [-0.8278, -0.5067,  0.0789,  1.3663],\n",
      "        [-1.6561,  0.7945,  0.3220,  0.7661],\n",
      "        [-0.8429, -1.2088, -0.9730,  1.2078]]) tensor([[8, 8, 5, 9],\n",
      "        [4, 8, 5, 4],\n",
      "        [6, 7, 6, 7],\n",
      "        [8, 9, 9, 4]])\n"
     ]
    }
   ],
   "source": [
    "w7 = torch.rand(4,4)   \n",
    "w8 = torch.randn(4,4)   \n",
    "w9 = torch.randint(4, 10, (4,4)) \n",
    "print(w7, w8, w9)"
   ]
  },
  {
   "cell_type": "code",
   "execution_count": 12,
   "metadata": {
    "id": "L4VLExcC0EFk",
    "tags": []
   },
   "outputs": [
    {
     "data": {
      "text/plain": [
       "tensor([[7.5659e-307, 1.3796e-306, 1.0570e-307, 1.9582e-306],\n",
       "        [2.2252e-306, 9.4574e-308, 6.2304e-307, 6.2305e-307],\n",
       "        [9.3461e-307, 8.4559e-307, 9.3460e-307, 1.8692e-306]],\n",
       "       dtype=torch.float64)"
      ]
     },
     "execution_count": 12,
     "metadata": {},
     "output_type": "execute_result"
    }
   ],
   "source": [
    "w10 = torch.empty((3,4), dtype=torch.float64, \n",
    "                device=device)\n",
    "\n",
    "x = torch.empty_like(w10)\n",
    "x"
   ]
  },
  {
   "cell_type": "markdown",
   "metadata": {
    "id": "uvwi0dyuTZFA"
   },
   "source": [
    "## 6. Torch Tensors 데이터 타입"
   ]
  },
  {
   "cell_type": "code",
   "execution_count": 13,
   "metadata": {
    "colab": {
     "base_uri": "https://localhost:8080/"
    },
    "executionInfo": {
     "elapsed": 350,
     "status": "ok",
     "timestamp": 1612988520904,
     "user": {
      "displayName": "Joe Papa",
      "photoUrl": "",
      "userId": "00487850786587503652"
     },
     "user_tz": 300
    },
    "id": "Zy_IzoICSt_E",
    "outputId": "b0019ac2-4072-4f42-a92c-965c40d6e838",
    "tags": []
   },
   "outputs": [
    {
     "name": "stdout",
     "output_type": "stream",
     "text": [
      "tensor([1., 2., 3.]) tensor([1, 2, 3], dtype=torch.int32)\n"
     ]
    }
   ],
   "source": [
    "w11 = torch.tensor([1,2,3], \n",
    "                   dtype=torch.float32)\n",
    "\n",
    "w12 = w11.int()   # w changes to int32 after cast\n",
    "\n",
    "print(w11, w12)"
   ]
  },
  {
   "cell_type": "code",
   "execution_count": 14,
   "metadata": {
    "colab": {
     "base_uri": "https://localhost:8080/"
    },
    "executionInfo": {
     "elapsed": 350,
     "status": "ok",
     "timestamp": 1612988520904,
     "user": {
      "displayName": "Joe Papa",
      "photoUrl": "",
      "userId": "00487850786587503652"
     },
     "user_tz": 300
    },
    "id": "Zy_IzoICSt_E",
    "outputId": "b0019ac2-4072-4f42-a92c-965c40d6e838",
    "tags": []
   },
   "outputs": [
    {
     "name": "stdout",
     "output_type": "stream",
     "text": [
      "tensor([1., 2., 3.], dtype=torch.float64) tensor([1., 2., 3.], dtype=torch.float64)\n"
     ]
    }
   ],
   "source": [
    "w13 = w11.to(torch.float64) \n",
    "w14 = w11.to(dtype=torch.float64) \n",
    "\n",
    "print(w13, w14)"
   ]
  },
  {
   "cell_type": "code",
   "execution_count": 15,
   "metadata": {
    "colab": {
     "base_uri": "https://localhost:8080/"
    },
    "executionInfo": {
     "elapsed": 350,
     "status": "ok",
     "timestamp": 1612988520904,
     "user": {
      "displayName": "Joe Papa",
      "photoUrl": "",
      "userId": "00487850786587503652"
     },
     "user_tz": 300
    },
    "id": "Zy_IzoICSt_E",
    "outputId": "b0019ac2-4072-4f42-a92c-965c40d6e838",
    "tags": []
   },
   "outputs": [
    {
     "name": "stdout",
     "output_type": "stream",
     "text": [
      "tensor([2., 4., 6.])\n",
      "torch.float32\n"
     ]
    }
   ],
   "source": [
    "x = torch.tensor([1,2,3], \n",
    "                 dtype=torch.int32)\n",
    "y = torch.tensor([1,2,3], \n",
    "                 dtype=torch.float32)\n",
    "\n",
    "z = x + y\n",
    "print(z)\n",
    "print(z.dtype)"
   ]
  },
  {
   "cell_type": "markdown",
   "metadata": {
    "id": "BLvRdCYET-cG"
   },
   "source": [
    "## 7. Tensor 인덱싱, 슬라이싱"
   ]
  },
  {
   "cell_type": "code",
   "execution_count": 16,
   "metadata": {
    "colab": {
     "base_uri": "https://localhost:8080/"
    },
    "executionInfo": {
     "elapsed": 281,
     "status": "ok",
     "timestamp": 1612993669230,
     "user": {
      "displayName": "Joe Papa",
      "photoUrl": "",
      "userId": "00487850786587503652"
     },
     "user_tz": 300
    },
    "id": "YnLlmRdwTesO",
    "outputId": "adba42a9-f5da-454b-dc39-493d1518008b",
    "tags": []
   },
   "outputs": [
    {
     "name": "stdout",
     "output_type": "stream",
     "text": [
      "tensor(4)\n",
      "4\n"
     ]
    }
   ],
   "source": [
    "x = torch.tensor([[1,2],\n",
    "                  [3,4],\n",
    "                  [5,6],\n",
    "                  [7,8]])\n",
    "\n",
    "print(x[1,1])\n",
    "\n",
    "print(x[1,1].item())"
   ]
  },
  {
   "cell_type": "code",
   "execution_count": 17,
   "metadata": {
    "colab": {
     "base_uri": "https://localhost:8080/"
    },
    "executionInfo": {
     "elapsed": 237,
     "status": "ok",
     "timestamp": 1612993669909,
     "user": {
      "displayName": "Joe Papa",
      "photoUrl": "",
      "userId": "00487850786587503652"
     },
     "user_tz": 300
    },
    "id": "BouHJUe84a-g",
    "outputId": "085155a5-a11d-4478-fbdb-474fabf0243f",
    "tags": []
   },
   "outputs": [
    {
     "data": {
      "text/plain": [
       "tensor([1, 2, 3, 4])"
      ]
     },
     "execution_count": 17,
     "metadata": {},
     "output_type": "execute_result"
    }
   ],
   "source": [
    "# Slicing\n",
    "x[:2, 1]\n",
    "x[x < 5]"
   ]
  },
  {
   "cell_type": "code",
   "execution_count": 18,
   "metadata": {
    "colab": {
     "base_uri": "https://localhost:8080/"
    },
    "executionInfo": {
     "elapsed": 245,
     "status": "ok",
     "timestamp": 1612993670711,
     "user": {
      "displayName": "Joe Papa",
      "photoUrl": "",
      "userId": "00487850786587503652"
     },
     "user_tz": 300
    },
    "id": "4a2FDWWD4myP",
    "outputId": "898253dc-f7a0-4ed0-9278-c5c5dcf08bed",
    "tags": []
   },
   "outputs": [
    {
     "name": "stdout",
     "output_type": "stream",
     "text": [
      "tensor([[1, 3, 5, 7],\n",
      "        [2, 4, 6, 8]])\n"
     ]
    },
    {
     "data": {
      "text/plain": [
       "tensor([[1, 2, 3, 4],\n",
       "        [5, 6, 7, 8]])"
      ]
     },
     "execution_count": 18,
     "metadata": {},
     "output_type": "execute_result"
    }
   ],
   "source": [
    "# 전치 transpose\n",
    "print(x.t())\n",
    "\n",
    "# view() 함수 = numpy의 reshape()와 동일\n",
    "x.view((2,4))"
   ]
  },
  {
   "cell_type": "code",
   "execution_count": 19,
   "metadata": {
    "colab": {
     "base_uri": "https://localhost:8080/"
    },
    "executionInfo": {
     "elapsed": 243,
     "status": "ok",
     "timestamp": 1612993671431,
     "user": {
      "displayName": "Joe Papa",
      "photoUrl": "",
      "userId": "00487850786587503652"
     },
     "user_tz": 300
    },
    "id": "jqXM3ECQ53_h",
    "outputId": "5c2af4fe-f1ca-4f29-e9e8-2d56d9eaf0c6",
    "tags": []
   },
   "outputs": [
    {
     "name": "stdout",
     "output_type": "stream",
     "text": [
      "tensor([[[1, 2],\n",
      "         [3, 4],\n",
      "         [5, 6],\n",
      "         [7, 8]],\n",
      "\n",
      "        [[1, 2],\n",
      "         [3, 4],\n",
      "         [5, 6],\n",
      "         [7, 8]]])\n",
      "tensor([1, 3, 5, 7]) tensor([2, 4, 6, 8])\n"
     ]
    }
   ],
   "source": [
    "# stack 함수로 합치기\n",
    "y = torch.stack((x, x))\n",
    "print(y)\n",
    "\n",
    "# unbind로 분리하기\n",
    "a,b = x.unbind(dim=1)\n",
    "print(a,b)"
   ]
  },
  {
   "cell_type": "markdown",
   "metadata": {
    "id": "E6vwyrpvUPLE"
   },
   "source": [
    "## 8. Automatic Differentiation (Autograd)"
   ]
  },
  {
   "cell_type": "code",
   "execution_count": 20,
   "metadata": {
    "colab": {
     "base_uri": "https://localhost:8080/"
    },
    "executionInfo": {
     "elapsed": 292,
     "status": "ok",
     "timestamp": 1612995280088,
     "user": {
      "displayName": "Joe Papa",
      "photoUrl": "",
      "userId": "00487850786587503652"
     },
     "user_tz": 300
    },
    "id": "IBHw-IziUKAa",
    "outputId": "217508e9-3cdb-4ebd-feac-80089f4b760b",
    "tags": []
   },
   "outputs": [
    {
     "data": {
      "text/plain": [
       "tensor([[1., 2., 3.],\n",
       "        [4., 5., 6.]], requires_grad=True)"
      ]
     },
     "execution_count": 20,
     "metadata": {},
     "output_type": "execute_result"
    }
   ],
   "source": [
    "x = torch.tensor([[1,2,3],\n",
    "                  [4,5,6]], \n",
    "                  dtype=torch.float, \n",
    "                  requires_grad=True)\n",
    "x"
   ]
  },
  {
   "cell_type": "code",
   "execution_count": 21,
   "metadata": {
    "colab": {
     "base_uri": "https://localhost:8080/"
    },
    "executionInfo": {
     "elapsed": 292,
     "status": "ok",
     "timestamp": 1612995280088,
     "user": {
      "displayName": "Joe Papa",
      "photoUrl": "",
      "userId": "00487850786587503652"
     },
     "user_tz": 300
    },
    "id": "IBHw-IziUKAa",
    "outputId": "217508e9-3cdb-4ebd-feac-80089f4b760b",
    "tags": []
   },
   "outputs": [
    {
     "data": {
      "text/plain": [
       "tensor(91., grad_fn=<SumBackward0>)"
      ]
     },
     "execution_count": 21,
     "metadata": {},
     "output_type": "execute_result"
    }
   ],
   "source": [
    "f = x.pow(2).sum()\n",
    "f"
   ]
  },
  {
   "cell_type": "code",
   "execution_count": 22,
   "metadata": {
    "colab": {
     "base_uri": "https://localhost:8080/"
    },
    "executionInfo": {
     "elapsed": 292,
     "status": "ok",
     "timestamp": 1612995280088,
     "user": {
      "displayName": "Joe Papa",
      "photoUrl": "",
      "userId": "00487850786587503652"
     },
     "user_tz": 300
    },
    "id": "IBHw-IziUKAa",
    "outputId": "217508e9-3cdb-4ebd-feac-80089f4b760b",
    "tags": []
   },
   "outputs": [
    {
     "data": {
      "text/plain": [
       "tensor([[ 2.,  4.,  6.],\n",
       "        [ 8., 10., 12.]])"
      ]
     },
     "execution_count": 22,
     "metadata": {},
     "output_type": "execute_result"
    }
   ],
   "source": [
    "f.backward()\n",
    "x.grad # df/dx = 2x "
   ]
  }
 ],
 "metadata": {
  "accelerator": "GPU",
  "colab": {
   "authorship_tag": "ABX9TyMmZrwpk+TR0fSUOT0KmY+T",
   "collapsed_sections": [],
   "name": "02_Tensors.ipynb",
   "provenance": []
  },
  "kernelspec": {
   "display_name": "py_3_10_4",
   "language": "python",
   "name": "python3"
  },
  "language_info": {
   "codemirror_mode": {
    "name": "ipython",
    "version": 3
   },
   "file_extension": ".py",
   "mimetype": "text/x-python",
   "name": "python",
   "nbconvert_exporter": "python",
   "pygments_lexer": "ipython3",
   "version": "3.10.4"
  }
 },
 "nbformat": 4,
 "nbformat_minor": 4
}
