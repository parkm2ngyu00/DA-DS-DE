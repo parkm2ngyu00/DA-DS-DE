{
 "cells": [
  {
   "cell_type": "markdown",
   "id": "4944314b-9f25-4ab6-aa7a-1015da4d1ea7",
   "metadata": {},
   "source": [
    "# 플라스틱 이미지 Annotation "
   ]
  },
  {
   "cell_type": "markdown",
   "id": "bb269956-fc1f-4d52-8e3d-93270c83c8e9",
   "metadata": {},
   "source": [
    "## 1. Labelbox(https://labelstud.io) 설치 및 실행\n",
    "1. 설치: `!pip install -U label-studio`\n",
    "1. 실행: `label-studio`\n",
    "1. Plastic file 5장 `COCO *.json` 포맷으로 annotation"
   ]
  },
  {
   "cell_type": "markdown",
   "id": "ce4c006c-bfed-40de-8560-78369021eb55",
   "metadata": {},
   "source": [
    "## 2. Annotation 완료 디렉토리 구성\n",
    "> **plastic/** <br>\n",
    "ㄴ annotations/ <br>\n",
    "ㄴ images/"
   ]
  },
  {
   "cell_type": "markdown",
   "id": "15f7bead-790a-45f0-ae36-2313bb183f00",
   "metadata": {},
   "source": [
    "## 3. COCO JSON to YOLO TXT"
   ]
  },
  {
   "cell_type": "code",
   "execution_count": 4,
   "id": "de14d9ee-cbd8-4be1-b642-c2ed6b23cd95",
   "metadata": {},
   "outputs": [],
   "source": [
    "import os\n",
    "import json\n",
    "import glob\n",
    "from tqdm import tqdm\n",
    "import shutil\n",
    "from pycocotools.coco import COCO\n",
    "\n",
    "def make_folders(path=\"output\"):\n",
    "    if os.path.exists(path):\n",
    "        shutil.rmtree(path)\n",
    "    os.makedirs(path)\n",
    "    return path\n",
    "\n",
    "def convert_bbox_coco2yolo(img_width, img_height, bbox):\n",
    "\n",
    "    # YOLO bounding box format: [x_center, y_center, width, height]\n",
    "    # (float values relative to width and height of image)\n",
    "    x_tl, y_tl, w, h = bbox\n",
    "    \n",
    "    # normalization\n",
    "    dw = 1.0 / img_width\n",
    "    dh = 1.0 / img_height\n",
    "\n",
    "    x_center = x_tl + w / 2.0\n",
    "    y_center = y_tl + h / 2.0\n",
    "\n",
    "    x = x_center * dw\n",
    "    y = y_center * dh\n",
    "    w = w * dw\n",
    "    h = h * dh\n",
    "\n",
    "    return [x, y, w, h]\n",
    "\n",
    "\n",
    "def convert_coco_json_to_yolo_bbox(input_path, output_path):\n",
    "\n",
    "    make_folders(output_path + '/labels')\n",
    "    path = glob.glob(input_path + '/annotations/**.json')\n",
    "    shutil.copytree(input_path + '/images', output_path + '/images')\n",
    "    \n",
    "    for json_file in path:\n",
    "        with open(json_file) as f:\n",
    "            json_data = json.load(f)\n",
    "\n",
    "        label_file = os.path.join(output_path, \"_darknet.labels\")\n",
    "        with open(label_file, \"w\") as f:\n",
    "            for category in tqdm(json_data[\"categories\"], desc=\"Categories\"):\n",
    "                category_name = category[\"name\"]\n",
    "                f.write(f\"{category_name}\\n\")\n",
    "\n",
    "        for image in tqdm(json_data[\"images\"], desc=\"Annotation txt for each iamge\"):\n",
    "            img_id = image[\"id\"]\n",
    "            img_name = image[\"file_name\"]\n",
    "            img_width = image[\"width\"]\n",
    "            img_height = image[\"height\"]\n",
    "\n",
    "            anno_in_image = [anno for anno in json_data[\"annotations\"] if anno[\"image_id\"] == img_id]\n",
    "            anno_txt = os.path.join(output_path + '/labels', img_name.split(\".\")[0] + \".txt\")\n",
    "            with open(anno_txt, \"w\") as f:\n",
    "                for anno in anno_in_image:\n",
    "                    category = anno[\"category_id\"] - 1 # 데이터셋의 Class ID가 1부터 시작하기 때문에 -1을 해줌\n",
    "                    bbox_COCO = anno[\"bbox\"] # coco bbox values\n",
    "                    x, y, w, h = convert_bbox_coco2yolo(img_width, img_height, bbox_COCO)\n",
    "                    f.write(f\"{category} {x:.6f} {y:.6f} {w:.6f} {h:.6f}\\n\")\n",
    "\n",
    "    print(\"Converting COCO Json to YOLO BBox txt finished!\")"
   ]
  },
  {
   "cell_type": "code",
   "execution_count": 5,
   "id": "3174292a-ec1e-4437-a3aa-3baa3768b28e",
   "metadata": {},
   "outputs": [
    {
     "name": "stderr",
     "output_type": "stream",
     "text": [
      "Categories: 100%|██████████| 4/4 [00:00<?, ?it/s]\n",
      "Annotation txt for each iamge: 100%|██████████| 1/1 [00:00<00:00, 1001.27it/s]\n",
      "Categories: 100%|██████████| 4/4 [00:00<?, ?it/s]\n",
      "Annotation txt for each iamge: 100%|██████████| 1/1 [00:00<00:00, 264.49it/s]\n",
      "Categories: 100%|██████████| 4/4 [00:00<?, ?it/s]\n",
      "Annotation txt for each iamge: 100%|██████████| 1/1 [00:00<00:00, 324.91it/s]\n",
      "Categories: 100%|██████████| 4/4 [00:00<?, ?it/s]\n",
      "Annotation txt for each iamge: 100%|██████████| 1/1 [00:00<00:00, 499.32it/s]\n",
      "Categories: 100%|██████████| 4/4 [00:00<?, ?it/s]\n",
      "Annotation txt for each iamge: 100%|██████████| 1/1 [00:00<00:00, 500.27it/s]\n",
      "Categories: 100%|██████████| 4/4 [00:00<?, ?it/s]\n",
      "Annotation txt for each iamge: 100%|██████████| 1/1 [00:00<00:00, 1001.27it/s]\n",
      "Categories: 100%|██████████| 4/4 [00:00<?, ?it/s]\n",
      "Annotation txt for each iamge: 100%|██████████| 1/1 [00:00<00:00, 232.14it/s]\n",
      "Categories: 100%|██████████| 4/4 [00:00<?, ?it/s]\n",
      "Annotation txt for each iamge: 100%|██████████| 1/1 [00:00<00:00, 499.74it/s]\n",
      "Categories: 100%|██████████| 4/4 [00:00<?, ?it/s]\n",
      "Annotation txt for each iamge: 100%|██████████| 1/1 [00:00<00:00, 516.03it/s]\n",
      "Categories: 100%|██████████| 4/4 [00:00<?, ?it/s]\n",
      "Annotation txt for each iamge: 100%|██████████| 1/1 [00:00<00:00, 334.02it/s]\n",
      "Categories: 100%|██████████| 4/4 [00:00<?, ?it/s]\n",
      "Annotation txt for each iamge: 100%|██████████| 1/1 [00:00<00:00, 498.67it/s]\n",
      "Categories: 100%|██████████| 4/4 [00:00<00:00, 4010.81it/s]\n",
      "Annotation txt for each iamge: 100%|██████████| 1/1 [00:00<00:00, 500.87it/s]\n",
      "Categories: 100%|██████████| 4/4 [00:00<00:00, 3883.61it/s]\n",
      "Annotation txt for each iamge: 100%|██████████| 1/1 [00:00<00:00, 142.76it/s]\n",
      "Categories: 100%|██████████| 4/4 [00:00<?, ?it/s]\n",
      "Annotation txt for each iamge: 100%|██████████| 1/1 [00:00<00:00, 249.74it/s]\n",
      "Categories: 100%|██████████| 4/4 [00:00<00:00, 3975.64it/s]\n",
      "Annotation txt for each iamge: 100%|██████████| 1/1 [00:00<00:00, 332.96it/s]\n",
      "Categories: 100%|██████████| 4/4 [00:00<?, ?it/s]\n",
      "Annotation txt for each iamge: 100%|██████████| 1/1 [00:00<00:00, 500.45it/s]\n",
      "Categories: 100%|██████████| 4/4 [00:00<?, ?it/s]\n",
      "Annotation txt for each iamge: 100%|██████████| 1/1 [00:00<00:00, 248.95it/s]\n",
      "Categories: 100%|██████████| 4/4 [00:00<?, ?it/s]\n",
      "Annotation txt for each iamge: 100%|██████████| 1/1 [00:00<00:00, 332.96it/s]\n",
      "Categories: 100%|██████████| 4/4 [00:00<?, ?it/s]\n",
      "Annotation txt for each iamge: 100%|██████████| 1/1 [00:00<00:00, 499.56it/s]\n",
      "Categories: 100%|██████████| 4/4 [00:00<?, ?it/s]\n",
      "Annotation txt for each iamge: 100%|██████████| 1/1 [00:00<00:00, 332.70it/s]\n",
      "Categories: 100%|██████████| 4/4 [00:00<00:00, 3976.59it/s]\n",
      "Annotation txt for each iamge: 100%|██████████| 1/1 [00:00<00:00, 200.00it/s]\n",
      "Categories: 100%|██████████| 4/4 [00:00<?, ?it/s]\n",
      "Annotation txt for each iamge: 100%|██████████| 1/1 [00:00<00:00, 333.23it/s]\n",
      "Categories: 100%|██████████| 4/4 [00:00<?, ?it/s]\n",
      "Annotation txt for each iamge: 100%|██████████| 1/1 [00:00<00:00, 498.67it/s]\n",
      "Categories: 100%|██████████| 4/4 [00:00<?, ?it/s]\n",
      "Annotation txt for each iamge: 100%|██████████| 1/1 [00:00<00:00, 497.60it/s]\n",
      "Categories: 100%|██████████| 4/4 [00:00<?, ?it/s]\n",
      "Annotation txt for each iamge: 100%|██████████| 1/1 [00:00<00:00, 500.69it/s]"
     ]
    },
    {
     "name": "stdout",
     "output_type": "stream",
     "text": [
      "Converting COCO Json to YOLO BBox txt finished!\n"
     ]
    },
    {
     "name": "stderr",
     "output_type": "stream",
     "text": [
      "\n"
     ]
    }
   ],
   "source": [
    "output_path = '../dataset/plastic-yolo'\n",
    "input_path = '../dataset/plastic'\n",
    "convert_coco_json_to_yolo_bbox(input_path, output_path, )"
   ]
  },
  {
   "cell_type": "markdown",
   "id": "2715eaa6-30b1-4ff1-ab7c-c70bbd2f1db5",
   "metadata": {},
   "source": [
    "## 4. Train/Val Split 폴더로 이동 "
   ]
  },
  {
   "cell_type": "code",
   "execution_count": 6,
   "id": "d93959e5-1464-4d08-b37d-0fe625771ca6",
   "metadata": {},
   "outputs": [],
   "source": [
    "import glob\n",
    "import random\n",
    "import os\n",
    "import shutil\n",
    "\n",
    "# Get all paths to your images files and text files\n",
    "PATH = '../dataset/plastic-yolo/'\n",
    "img_paths = sorted(glob.glob(PATH+'images/**.jpg'))\n",
    "txt_paths = sorted(glob.glob(PATH+'labels/**.txt'))\n",
    "\n",
    "# Calculate number of files for training, validation\n",
    "data_size = len(img_paths)\n",
    "r = 0.7\n",
    "train_size = int(data_size * 0.7)\n",
    "\n",
    "# Shuffle two list\n",
    "img_txt = list(zip(img_paths, txt_paths))\n",
    "random.seed(43)\n",
    "random.shuffle(img_txt)\n",
    "img_paths, txt_paths = zip(*img_txt)\n",
    "\n",
    "# Now split them\n",
    "train_img_paths = img_paths[:train_size]\n",
    "train_txt_paths = txt_paths[:train_size]\n",
    "\n",
    "valid_img_paths = img_paths[train_size:]\n",
    "valid_txt_paths = txt_paths[train_size:]\n",
    "\n",
    "# Move them to train, valid folders\n",
    "train_images_folder = PATH+'train/images' \n",
    "train_labels_folder = PATH+'train/labels' \n",
    "valid_images_folder = PATH+'val/images' \n",
    "valid_labels_folder = PATH+'val/labels' \n",
    "\n",
    "os.mkdir(PATH+'train')\n",
    "os.mkdir(PATH+'val')\n",
    "os.mkdir(train_images_folder)\n",
    "os.mkdir(train_labels_folder)\n",
    "os.mkdir(valid_images_folder)\n",
    "os.mkdir(valid_labels_folder)\n",
    "\n",
    "def move(paths, folder):\n",
    "    for p in paths:\n",
    "        shutil.move(p, folder)\n",
    "\n",
    "move(train_img_paths, train_images_folder)\n",
    "move(train_txt_paths, train_labels_folder)\n",
    "move(valid_img_paths, valid_images_folder)\n",
    "move(valid_txt_paths, valid_labels_folder)\n",
    "\n",
    "os.rmdir(PATH+'images')\n",
    "os.rmdir(PATH+'labels')"
   ]
  }
 ],
 "metadata": {
  "kernelspec": {
   "display_name": "py_3_10_4",
   "language": "python",
   "name": "python3"
  },
  "language_info": {
   "codemirror_mode": {
    "name": "ipython",
    "version": 3
   },
   "file_extension": ".py",
   "mimetype": "text/x-python",
   "name": "python",
   "nbconvert_exporter": "python",
   "pygments_lexer": "ipython3",
   "version": "3.10.4"
  }
 },
 "nbformat": 4,
 "nbformat_minor": 5
}
