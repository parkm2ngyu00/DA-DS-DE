{
 "cells": [
  {
   "cell_type": "markdown",
   "id": "4944314b-9f25-4ab6-aa7a-1015da4d1ea7",
   "metadata": {},
   "source": [
    "# 플라스틱 이미지 Annotation \n",
    "#### 고우주 | kubwa 쿱와"
   ]
  },
  {
   "cell_type": "markdown",
   "id": "bb269956-fc1f-4d52-8e3d-93270c83c8e9",
   "metadata": {},
   "source": [
    "## 1. Labelbox(https://labelstud.io) 설치 및 실행\n",
    "1. 설치: `!pip install -U label-studio`\n",
    "1. 실행: `label-studio`\n",
    "1. Plastic file 5장 `COCO *.json` 포맷으로 annotation"
   ]
  },
  {
   "cell_type": "markdown",
   "id": "ce4c006c-bfed-40de-8560-78369021eb55",
   "metadata": {},
   "source": [
    "## 2. Annotation 완료 디렉토리 구성\n",
    "> **plastic/** <br>\n",
    "ㄴ annotations/ <br>\n",
    "ㄴ images/"
   ]
  },
  {
   "cell_type": "markdown",
   "id": "436b2f19-6dc0-455d-b4f1-18f83f86bb90",
   "metadata": {},
   "source": [
    "## 4. COCO Visualization: BBox"
   ]
  },
  {
   "cell_type": "code",
   "execution_count": 1,
   "id": "4a2df9d4",
   "metadata": {
    "tags": []
   },
   "outputs": [
    {
     "name": "stdout",
     "output_type": "stream",
     "text": [
      "Collecting pycocotools\n",
      "  Downloading pycocotools-2.0.6.tar.gz (24 kB)\n",
      "  Installing build dependencies ... \u001b[?25ldone\n",
      "\u001b[?25h  Getting requirements to build wheel ... \u001b[?25ldone\n",
      "\u001b[?25h  Preparing metadata (pyproject.toml) ... \u001b[?25ldone\n",
      "\u001b[?25hRequirement already satisfied: matplotlib>=2.1.0 in /home/kubwa/anaconda3/envs/pytorch/lib/python3.9/site-packages (from pycocotools) (3.7.2)\n",
      "Requirement already satisfied: numpy in /home/kubwa/anaconda3/envs/pytorch/lib/python3.9/site-packages (from pycocotools) (1.25.1)\n",
      "Requirement already satisfied: contourpy>=1.0.1 in /home/kubwa/anaconda3/envs/pytorch/lib/python3.9/site-packages (from matplotlib>=2.1.0->pycocotools) (1.1.0)\n",
      "Requirement already satisfied: cycler>=0.10 in /home/kubwa/anaconda3/envs/pytorch/lib/python3.9/site-packages (from matplotlib>=2.1.0->pycocotools) (0.11.0)\n",
      "Requirement already satisfied: fonttools>=4.22.0 in /home/kubwa/anaconda3/envs/pytorch/lib/python3.9/site-packages (from matplotlib>=2.1.0->pycocotools) (4.41.1)\n",
      "Requirement already satisfied: kiwisolver>=1.0.1 in /home/kubwa/anaconda3/envs/pytorch/lib/python3.9/site-packages (from matplotlib>=2.1.0->pycocotools) (1.4.4)\n",
      "Requirement already satisfied: packaging>=20.0 in /home/kubwa/anaconda3/envs/pytorch/lib/python3.9/site-packages (from matplotlib>=2.1.0->pycocotools) (23.1)\n",
      "Requirement already satisfied: pillow>=6.2.0 in /home/kubwa/anaconda3/envs/pytorch/lib/python3.9/site-packages (from matplotlib>=2.1.0->pycocotools) (10.0.0)\n",
      "Requirement already satisfied: pyparsing<3.1,>=2.3.1 in /home/kubwa/anaconda3/envs/pytorch/lib/python3.9/site-packages (from matplotlib>=2.1.0->pycocotools) (3.0.9)\n",
      "Requirement already satisfied: python-dateutil>=2.7 in /home/kubwa/anaconda3/envs/pytorch/lib/python3.9/site-packages (from matplotlib>=2.1.0->pycocotools) (2.8.2)\n",
      "Requirement already satisfied: importlib-resources>=3.2.0 in /home/kubwa/anaconda3/envs/pytorch/lib/python3.9/site-packages (from matplotlib>=2.1.0->pycocotools) (6.0.0)\n",
      "Requirement already satisfied: zipp>=3.1.0 in /home/kubwa/anaconda3/envs/pytorch/lib/python3.9/site-packages (from importlib-resources>=3.2.0->matplotlib>=2.1.0->pycocotools) (3.16.2)\n",
      "Requirement already satisfied: six>=1.5 in /home/kubwa/anaconda3/envs/pytorch/lib/python3.9/site-packages (from python-dateutil>=2.7->matplotlib>=2.1.0->pycocotools) (1.16.0)\n",
      "Building wheels for collected packages: pycocotools\n",
      "  Building wheel for pycocotools (pyproject.toml) ... \u001b[?25ldone\n",
      "\u001b[?25h  Created wheel for pycocotools: filename=pycocotools-2.0.6-cp39-cp39-linux_x86_64.whl size=111186 sha256=14d43a766b6518dbe5677763df66abc6689cd525c0413280f4bb65d63a4d09fb\n",
      "  Stored in directory: /home/kubwa/.cache/pip/wheels/2f/58/25/e78f1f766e904a9071266661d20d0bc6644df86bcd160aba11\n",
      "Successfully built pycocotools\n",
      "Installing collected packages: pycocotools\n",
      "Successfully installed pycocotools-2.0.6\n",
      "Note: you may need to restart the kernel to use updated packages.\n"
     ]
    }
   ],
   "source": [
    "%pip install pycocotools"
   ]
  },
  {
   "cell_type": "code",
   "execution_count": 1,
   "id": "8974f1ea-50df-4021-9406-c7b79b6cf458",
   "metadata": {
    "tags": []
   },
   "outputs": [
    {
     "name": "stderr",
     "output_type": "stream",
     "text": [
      "c:\\Users\\parkm\\anaconda3\\envs\\py_3_10_4\\lib\\site-packages\\numpy\\_distributor_init.py:30: UserWarning: loaded more than 1 DLL from .libs:\n",
      "c:\\Users\\parkm\\anaconda3\\envs\\py_3_10_4\\lib\\site-packages\\numpy\\.libs\\libopenblas64__v0.3.21-gcc_10_3_0.dll\n",
      "c:\\Users\\parkm\\anaconda3\\envs\\py_3_10_4\\lib\\site-packages\\numpy\\.libs\\libopenblas64__v0.3.23-gcc_10_3_0.dll\n",
      "  warnings.warn(\"loaded more than 1 DLL from .libs:\"\n"
     ]
    }
   ],
   "source": [
    "import matplotlib.pyplot as plt\n",
    "plt.rcParams[\"figure.figsize\"] = (20,12)\n",
    "\n",
    "from pycocotools.coco import COCO\n",
    "import cv2\n",
    "\n",
    "def coco_json_viz_bbox(img_file_path, annot_path):\n",
    "\n",
    "    annFile = annot_path\n",
    "    coco=COCO(annFile)\n",
    "\n",
    "    catIds = coco.getCatIds();\n",
    "    imgIds = coco.getImgIds(catIds=catIds );\n",
    "\n",
    "    img = coco.loadImgs(1)[0]\n",
    "    annIds = coco.getAnnIds(imgIds=img['id'], catIds=catIds, iscrowd=None)\n",
    "    anns = coco.loadAnns(annIds)\n",
    "\n",
    "    image_array = cv2.imread(img_file_path)\n",
    "    image_array = cv2.cvtColor(image_array, cv2.COLOR_BGR2RGB)\n",
    "    print(annFile)\n",
    "\n",
    "    for ann in anns:\n",
    "        #polygon = ann['segmentation']\n",
    "        ann_bbox = ann['bbox']\n",
    "        ann_catogory_id = ann['category_id']\n",
    "        \n",
    "        # bounding box를 시각화  \n",
    "        start_x = ann_bbox[0]\n",
    "        start_y = ann_bbox[1]\n",
    "        right = ann_bbox[0] + ann_bbox[2]\n",
    "        bottom = ann_bbox[1] + ann_bbox[3]\n",
    "        cv2.rectangle(image_array, (int(start_x), int(start_y)), (int(right), int(bottom)), (125, 255, 51), thickness=3)\n",
    "\n",
    "        category = coco.loadCats(ann_catogory_id)[0]\n",
    "        print(category)\n",
    "        category_name = category['name']\n",
    "        cv2.putText(image_array, category_name, (int(start_x - 5), int(start_y - 5)), \n",
    "                   cv2.FONT_HERSHEY_SIMPLEX, 3, (125, 255, 51), 2)\n",
    "\n",
    "    plt.figure(figsize=(8, 10))\n",
    "    plt.imshow(image_array) \n",
    "    plt.axis('off')"
   ]
  },
  {
   "cell_type": "code",
   "execution_count": 2,
   "id": "2cc5adc6-3eeb-4136-ba72-55829cb59a12",
   "metadata": {
    "scrolled": true,
    "tags": []
   },
   "outputs": [
    {
     "name": "stdout",
     "output_type": "stream",
     "text": [
      "loading annotations into memory...\n",
      "Done (t=0.01s)\n",
      "creating index...\n",
      "index created!\n",
      "../dataset/plastic/annotations/plastic_test_001.json\n",
      "{'id': 4, 'name': 'pe'}\n",
      "{'id': 3, 'name': 'pp'}\n",
      "{'id': 3, 'name': 'pp'}\n",
      "{'id': 1, 'name': 'pet'}\n",
      "{'id': 1, 'name': 'pet'}\n"
     ]
    }
   ],
   "source": [
    "img_file_path = '../dataset/plastic/images/plastic_test_001.jpg'\n",
    "annot_path = '../dataset/plastic/annotations/plastic_test_001.json'\n",
    "coco_json_viz_bbox(img_file_path, annot_path)"
   ]
  },
  {
   "cell_type": "markdown",
   "id": "15f7bead-790a-45f0-ae36-2313bb183f00",
   "metadata": {},
   "source": [
    "## 4. COCO Visualization: Polygon"
   ]
  },
  {
   "cell_type": "code",
   "execution_count": 5,
   "id": "dc7ed1cc-d2da-4417-b4c2-302df69932e6",
   "metadata": {
    "tags": []
   },
   "outputs": [],
   "source": [
    "from pycocotools.coco import COCO\n",
    "import numpy as np\n",
    "import matplotlib.pyplot as plt\n",
    "import os\n",
    "import cv2\n",
    "\n",
    "def coco_json_viz_polygon(img_file_path, annot_path):\n",
    "\n",
    "    annFile = annot_path\n",
    "    coco=COCO(annFile)\n",
    "\n",
    "    cats = coco.loadCats(coco.getCatIds())\n",
    "\n",
    "    if 'supercategory' in cats:\n",
    "        nms=[cat['name'] for cat in cats]\n",
    "        nms = set([cat['supercategory'] for cat in cats])\n",
    "        print('COCO supercategories: \\n{}'.format(' '.join(nms)))\n",
    "        print('COCO categories: \\n{}\\n'.format(' '.join(nms)))\n",
    "    else: \n",
    "        nms=[cat['name'] for cat in cats]\n",
    "        print('COCO categories: \\n{}\\n'.format(' '.join(nms)))\n",
    "\n",
    "    catIds = coco.getCatIds(catNms=['top']);\n",
    "    imgIds = coco.getImgIds(catIds=catIds)\n",
    "    print(cats)\n",
    "\n",
    "    img = coco.loadImgs(imgIds[0])[0]\n",
    "\n",
    "    image = cv2.imread(img_file_path)\n",
    "    image = cv2.cvtColor(image, cv2.COLOR_BGR2RGB)\n",
    "\n",
    "    plt.imshow(image)\n",
    "    cat_ids = coco.getCatIds()\n",
    "    anns_ids = coco.getAnnIds(imgIds=img['id'], catIds=cat_ids, iscrowd=None)\n",
    "    anns = coco.loadAnns(anns_ids)\n",
    "    coco.showAnns(anns)"
   ]
  },
  {
   "cell_type": "code",
   "execution_count": 6,
   "id": "53427b11-520f-41d7-9b31-ed0d7d3fd717",
   "metadata": {
    "tags": []
   },
   "outputs": [
    {
     "name": "stdout",
     "output_type": "stream",
     "text": [
      "loading annotations into memory...\n",
      "Done (t=0.00s)\n",
      "creating index...\n",
      "index created!\n",
      "COCO categories: \n",
      "pet ps pp pe\n",
      "\n",
      "[{'id': 1, 'name': 'pet'}, {'id': 2, 'name': 'ps'}, {'id': 3, 'name': 'pp'}, {'id': 4, 'name': 'pe'}]\n"
     ]
    }
   ],
   "source": [
    "img_file_path = '../dataset/plastic/images/plastic_test_001.jpg'\n",
    "annot_path = '../dataset/plastic/annotations/plastic_test_001.json'\n",
    "coco_json_viz_polygon(img_file_path, annot_path)"
   ]
  },
  {
   "cell_type": "markdown",
   "id": "5aa60a3a-7ef0-4c4e-9406-c73320f89f43",
   "metadata": {},
   "source": [
    "## 5. COCO Visualization Mask"
   ]
  },
  {
   "cell_type": "code",
   "execution_count": 7,
   "id": "78a11ed0-58ee-4d2b-9c35-4c0224ecaecc",
   "metadata": {
    "tags": []
   },
   "outputs": [],
   "source": [
    "def coco_json_viz_mask(img_file_path, annot_path):\n",
    "\n",
    "    annFile = annot_path\n",
    "    coco=COCO(annFile)\n",
    "\n",
    "    cats = coco.loadCats(coco.getCatIds())\n",
    "\n",
    "    if 'supercategory' in cats:\n",
    "        nms=[cat['name'] for cat in cats]\n",
    "        nms = set([cat['supercategory'] for cat in cats])\n",
    "        print('COCO supercategories: \\n{}'.format(' '.join(nms)))\n",
    "        print('COCO categories: \\n{}\\n'.format(' '.join(nms)))\n",
    "    else: \n",
    "        nms=[cat['name'] for cat in cats]\n",
    "        print('COCO categories: \\n{}\\n'.format(' '.join(nms)))\n",
    "\n",
    "    catIds = coco.getCatIds(catNms=['top']);\n",
    "    imgIds = coco.getImgIds(catIds=catIds)\n",
    "    print(cats)\n",
    "\n",
    "    img = coco.loadImgs(imgIds[0])[0]\n",
    "\n",
    "    image = cv2.imread(img_file_path)\n",
    "    image = cv2.cvtColor(image, cv2.COLOR_BGR2RGB)\n",
    "\n",
    "    plt.imshow(image)\n",
    "    cat_ids = coco.getCatIds()\n",
    "    anns_ids = coco.getAnnIds(imgIds=img['id'], catIds=cat_ids, iscrowd=None)\n",
    "    anns = coco.loadAnns(anns_ids)\n",
    "\n",
    "    mask = coco.annToMask(anns[0])\n",
    "    for i in range(len(anns)):\n",
    "        mask += coco.annToMask(anns[i])\n",
    "\n",
    "    plt.imshow(mask)\n",
    "    \n",
    "    return mask"
   ]
  },
  {
   "cell_type": "code",
   "execution_count": 8,
   "id": "0c3fd6aa-aa33-4a81-b65f-48ec08b77cde",
   "metadata": {
    "tags": []
   },
   "outputs": [
    {
     "name": "stdout",
     "output_type": "stream",
     "text": [
      "loading annotations into memory...\n",
      "Done (t=0.00s)\n",
      "creating index...\n",
      "index created!\n",
      "COCO categories: \n",
      "pet ps pp pe\n",
      "\n",
      "[{'id': 1, 'name': 'pet'}, {'id': 2, 'name': 'ps'}, {'id': 3, 'name': 'pp'}, {'id': 4, 'name': 'pe'}]\n"
     ]
    }
   ],
   "source": [
    "mask = coco_json_viz_mask(img_file_path, annot_path)"
   ]
  }
 ],
 "metadata": {
  "kernelspec": {
   "display_name": "py_3_10_4",
   "language": "python",
   "name": "python3"
  },
  "language_info": {
   "codemirror_mode": {
    "name": "ipython",
    "version": 3
   },
   "file_extension": ".py",
   "mimetype": "text/x-python",
   "name": "python",
   "nbconvert_exporter": "python",
   "pygments_lexer": "ipython3",
   "version": "3.10.4"
  }
 },
 "nbformat": 4,
 "nbformat_minor": 5
}
