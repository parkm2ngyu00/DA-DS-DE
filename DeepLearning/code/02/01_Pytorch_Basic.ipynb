{
 "cells": [
  {
   "cell_type": "markdown",
   "metadata": {},
   "source": [
    "## 1. Pytorch Autograd"
   ]
  },
  {
   "cell_type": "code",
   "execution_count": 144,
   "metadata": {},
   "outputs": [
    {
     "data": {
      "text/plain": [
       "'2.0.1+cpu'"
      ]
     },
     "execution_count": 144,
     "metadata": {},
     "output_type": "execute_result"
    }
   ],
   "source": [
    "import torch\n",
    "torch.__version__"
   ]
  },
  {
   "cell_type": "code",
   "execution_count": 145,
   "metadata": {},
   "outputs": [],
   "source": [
    "x = torch.randn(3)\n",
    "y = x + 2"
   ]
  },
  {
   "cell_type": "code",
   "execution_count": 146,
   "metadata": {},
   "outputs": [
    {
     "data": {
      "text/plain": [
       "tensor([-0.3088,  1.4061, -0.2115])"
      ]
     },
     "execution_count": 146,
     "metadata": {},
     "output_type": "execute_result"
    }
   ],
   "source": [
    "x"
   ]
  },
  {
   "cell_type": "code",
   "execution_count": 147,
   "metadata": {},
   "outputs": [
    {
     "data": {
      "text/plain": [
       "tensor([1.6912, 3.4061, 1.7885])"
      ]
     },
     "execution_count": 147,
     "metadata": {},
     "output_type": "execute_result"
    }
   ],
   "source": [
    "y"
   ]
  },
  {
   "cell_type": "code",
   "execution_count": 148,
   "metadata": {},
   "outputs": [
    {
     "data": {
      "text/plain": [
       "tensor([ 8.5803, 34.8050,  9.5962])"
      ]
     },
     "execution_count": 148,
     "metadata": {},
     "output_type": "execute_result"
    }
   ],
   "source": [
    "z = y * y * 3\n",
    "z"
   ]
  },
  {
   "cell_type": "code",
   "execution_count": 149,
   "metadata": {},
   "outputs": [
    {
     "data": {
      "text/plain": [
       "tensor(17.6605)"
      ]
     },
     "execution_count": 149,
     "metadata": {},
     "output_type": "execute_result"
    }
   ],
   "source": [
    "z.mean()"
   ]
  },
  {
   "cell_type": "code",
   "execution_count": 150,
   "metadata": {},
   "outputs": [
    {
     "data": {
      "text/plain": [
       "17.660497665405273"
      ]
     },
     "execution_count": 150,
     "metadata": {},
     "output_type": "execute_result"
    }
   ],
   "source": [
    "z.mean().item()"
   ]
  },
  {
   "cell_type": "code",
   "execution_count": 151,
   "metadata": {},
   "outputs": [
    {
     "data": {
      "text/plain": [
       "tensor([[0.1707, 0.1893],\n",
       "        [0.0442, 0.1106]], requires_grad=True)"
      ]
     },
     "execution_count": 151,
     "metadata": {},
     "output_type": "execute_result"
    }
   ],
   "source": [
    "a = torch.rand(2, 2, requires_grad=True)\n",
    "a"
   ]
  },
  {
   "cell_type": "code",
   "execution_count": 152,
   "metadata": {},
   "outputs": [
    {
     "data": {
      "text/plain": [
       "True"
      ]
     },
     "execution_count": 152,
     "metadata": {},
     "output_type": "execute_result"
    }
   ],
   "source": [
    "a.requires_grad"
   ]
  },
  {
   "cell_type": "code",
   "execution_count": 153,
   "metadata": {},
   "outputs": [
    {
     "data": {
      "text/plain": [
       "tensor([[0.1707, 0.1893],\n",
       "        [0.0442, 0.1106]])"
      ]
     },
     "execution_count": 153,
     "metadata": {},
     "output_type": "execute_result"
    }
   ],
   "source": [
    "a.detach()"
   ]
  },
  {
   "cell_type": "code",
   "execution_count": 154,
   "metadata": {},
   "outputs": [
    {
     "name": "stdout",
     "output_type": "stream",
     "text": [
      "False\n",
      "tensor([[0.0291, 0.0358],\n",
      "        [0.0020, 0.0122]])\n"
     ]
    }
   ],
   "source": [
    "with torch.no_grad():\n",
    "    print((a**2).requires_grad)\n",
    "    print(a**2)"
   ]
  },
  {
   "cell_type": "code",
   "execution_count": 155,
   "metadata": {},
   "outputs": [
    {
     "name": "stdout",
     "output_type": "stream",
     "text": [
      "tensor([3., 3., 3., 3.])\n",
      "tensor([3., 3., 3., 3.])\n",
      "tensor([3., 3., 3., 3.])\n",
      "tensor([3., 3., 3., 3.])\n",
      "tensor([3., 3., 3., 3.])\n",
      "tensor([-0.5000, -0.5000, -0.5000, -0.5000], requires_grad=True)\n",
      "tensor(-2.4000, grad_fn=<SumBackward0>)\n"
     ]
    }
   ],
   "source": [
    "weight = torch.ones(4, requires_grad=True)\n",
    "\n",
    "for epoch in range(5):\n",
    "    model_out = (weight*3).sum()\n",
    "    model_out.backward()\n",
    "\n",
    "    print(weight.grad)\n",
    "\n",
    "    with torch.no_grad():\n",
    "        weight -= 0.1 * weight.grad\n",
    "\n",
    "    weight.grad.zero_()\n",
    "\n",
    "print(weight)\n",
    "print(model_out)"
   ]
  },
  {
   "cell_type": "markdown",
   "metadata": {},
   "source": [
    "## 2. Back Propagation"
   ]
  },
  {
   "cell_type": "code",
   "execution_count": 156,
   "metadata": {},
   "outputs": [],
   "source": [
    "x = torch.tensor(1.0)\n",
    "y = torch.tensor(2.0)"
   ]
  },
  {
   "cell_type": "code",
   "execution_count": 157,
   "metadata": {},
   "outputs": [],
   "source": [
    "w = torch.tensor(1.0, requires_grad=True)"
   ]
  },
  {
   "cell_type": "code",
   "execution_count": 158,
   "metadata": {},
   "outputs": [
    {
     "name": "stdout",
     "output_type": "stream",
     "text": [
      "tensor(1., grad_fn=<PowBackward0>)\n"
     ]
    }
   ],
   "source": [
    "y_predict = w * x\n",
    "loss = (y - y_predict)**2\n",
    "print(loss)"
   ]
  },
  {
   "cell_type": "code",
   "execution_count": 159,
   "metadata": {},
   "outputs": [
    {
     "data": {
      "text/plain": [
       "tensor(-2.)"
      ]
     },
     "execution_count": 159,
     "metadata": {},
     "output_type": "execute_result"
    }
   ],
   "source": [
    "loss.backward()\n",
    "w.grad"
   ]
  },
  {
   "cell_type": "code",
   "execution_count": 160,
   "metadata": {},
   "outputs": [
    {
     "data": {
      "text/plain": [
       "tensor(0.)"
      ]
     },
     "execution_count": 160,
     "metadata": {},
     "output_type": "execute_result"
    }
   ],
   "source": [
    "with torch.no_grad():\n",
    "    w -= 0.01 * w.grad\n",
    "w.grad.zero_() # weight 초기화"
   ]
  },
  {
   "cell_type": "markdown",
   "metadata": {},
   "source": [
    "### Gradient Descent : Manually"
   ]
  },
  {
   "cell_type": "code",
   "execution_count": 161,
   "metadata": {},
   "outputs": [],
   "source": [
    "import numpy as np\n",
    "\n",
    "x = np.array([1, 2, 3, 4], dtype=np.float32)\n",
    "y = np.array([2, 4, 6, 8], dtype=np.float32)\n",
    "\n",
    "w = 0.0"
   ]
  },
  {
   "cell_type": "code",
   "execution_count": 162,
   "metadata": {},
   "outputs": [],
   "source": [
    "def forward(x):\n",
    "    return w * x"
   ]
  },
  {
   "cell_type": "code",
   "execution_count": 163,
   "metadata": {},
   "outputs": [],
   "source": [
    "def loss(y, y_pred):\n",
    "    return ((y - y_pred)**2).mean()"
   ]
  },
  {
   "cell_type": "code",
   "execution_count": 164,
   "metadata": {},
   "outputs": [
    {
     "name": "stdout",
     "output_type": "stream",
     "text": [
      "0.0\n"
     ]
    }
   ],
   "source": [
    "def gradient(x, y, y_pred):\n",
    "    return np.dot(2 * x, y_pred - y).mean()\n",
    "\n",
    "print(forward(5))"
   ]
  },
  {
   "cell_type": "code",
   "execution_count": 165,
   "metadata": {},
   "outputs": [
    {
     "name": "stdout",
     "output_type": "stream",
     "text": [
      "epoch : 1 w : 1.20 loss : 30.00\n",
      "epoch : 3 w : 1.87 loss : 0.77\n",
      "epoch : 5 w : 1.98 loss : 0.02\n",
      "epoch : 7 w : 2.00 loss : 0.00\n",
      "epoch : 9 w : 2.00 loss : 0.00\n",
      "epoch : 11 w : 2.00 loss : 0.00\n",
      "epoch : 13 w : 2.00 loss : 0.00\n",
      "epoch : 15 w : 2.00 loss : 0.00\n",
      "epoch : 17 w : 2.00 loss : 0.00\n",
      "epoch : 19 w : 2.00 loss : 0.00\n"
     ]
    }
   ],
   "source": [
    "# training\n",
    "learning_rate = 0.01\n",
    "n_iters = 20\n",
    "\n",
    "for epoch in range(n_iters):\n",
    "    y_pred = forward(x)\n",
    "    l = loss(y, y_pred)\n",
    "    dw = gradient(x, y, y_pred)\n",
    "    # update weight\n",
    "    w -= learning_rate * dw\n",
    "\n",
    "    if epoch % 2 == 0:\n",
    "        print('epoch : %d w : %.2f loss : %.2f' %(epoch+1, w, l))"
   ]
  },
  {
   "cell_type": "code",
   "execution_count": 166,
   "metadata": {},
   "outputs": [
    {
     "name": "stdout",
     "output_type": "stream",
     "text": [
      "1.9999999547004699\n"
     ]
    }
   ],
   "source": [
    "print(w)"
   ]
  },
  {
   "cell_type": "markdown",
   "metadata": {},
   "source": [
    "### Gradient Descent : Autograd"
   ]
  },
  {
   "cell_type": "code",
   "execution_count": 173,
   "metadata": {},
   "outputs": [],
   "source": [
    "import torch\n",
    "\n",
    "x = torch.tensor([1, 2, 3, 4], dtype=torch.float32)\n",
    "y = torch.tensor([2, 4, 6, 8], dtype=torch.float32)\n",
    "\n",
    "w = torch.tensor(0.0, dtype=torch.float32, requires_grad=True)"
   ]
  },
  {
   "cell_type": "code",
   "execution_count": 174,
   "metadata": {},
   "outputs": [],
   "source": [
    "def forward(x):\n",
    "    return w*x\n",
    "\n",
    "# def loss(y, y_pred):\n",
    "#     return ((y_pred - y)**2).mean()"
   ]
  },
  {
   "cell_type": "code",
   "execution_count": 175,
   "metadata": {},
   "outputs": [],
   "source": [
    "import torch.nn as nn\n",
    "\n",
    "loss = nn.MSELoss()\n",
    "optimizer = torch.optim.SGD([w], lr=learning_rate)"
   ]
  },
  {
   "cell_type": "code",
   "execution_count": 176,
   "metadata": {},
   "outputs": [
    {
     "name": "stdout",
     "output_type": "stream",
     "text": [
      "epoch : 1 w : 0.300 l : 30.000\n",
      "epoch : 6 w : 1.246 l : 5.906\n",
      "epoch : 11 w : 1.665 l : 1.163\n",
      "epoch : 16 w : 1.851 l : 0.229\n",
      "epoch : 21 w : 1.934 l : 0.045\n",
      "epoch : 26 w : 1.971 l : 0.009\n",
      "epoch : 31 w : 1.987 l : 0.002\n",
      "epoch : 36 w : 1.994 l : 0.000\n",
      "epoch : 41 w : 1.997 l : 0.000\n",
      "epoch : 46 w : 1.999 l : 0.000\n",
      "epoch : 51 w : 1.999 l : 0.000\n",
      "epoch : 56 w : 2.000 l : 0.000\n",
      "epoch : 61 w : 2.000 l : 0.000\n",
      "epoch : 66 w : 2.000 l : 0.000\n",
      "epoch : 71 w : 2.000 l : 0.000\n",
      "epoch : 76 w : 2.000 l : 0.000\n",
      "epoch : 81 w : 2.000 l : 0.000\n",
      "epoch : 86 w : 2.000 l : 0.000\n",
      "epoch : 91 w : 2.000 l : 0.000\n",
      "epoch : 96 w : 2.000 l : 0.000\n",
      "Prediction after training : 10.000\n"
     ]
    }
   ],
   "source": [
    "# torch training\n",
    "learning_rate = 0.01\n",
    "n_iters = 100\n",
    "\n",
    "for epoch in range(n_iters):\n",
    "    y_pred = forward(x)\n",
    "    l = loss(y, y_pred)\n",
    "    # backward pass\n",
    "    l.backward()\n",
    "\n",
    "    # update weight\n",
    "    # with torch.no_grad():\n",
    "    #     w -= learning_rate * w.grad\n",
    "    optimizer.step()\n",
    "    \n",
    "    # update 후에 w를 zero화 시킨다\n",
    "    # w.grad.zero_()\n",
    "    optimizer.zero_grad()\n",
    "\n",
    "    if epoch % 5 == 0:\n",
    "        print(f'epoch : {epoch+1} w : {w.item():.3f} l : {l.item():.3f}')\n",
    "\n",
    "print(f'Prediction after training : {forward(5).item():.3f}')"
   ]
  },
  {
   "cell_type": "markdown",
   "metadata": {},
   "source": [
    "### Advanced Training"
   ]
  },
  {
   "cell_type": "code",
   "execution_count": 217,
   "metadata": {},
   "outputs": [],
   "source": [
    "import torch\n",
    "\n",
    "x = torch.tensor([1, 2, 3, 4], dtype=torch.float32).reshape(-1, 1)\n",
    "y = torch.tensor([2, 4, 6, 8], dtype=torch.float32).reshape(-1, 1)\n",
    "\n",
    "n_samples, n_features = x.shape"
   ]
  },
  {
   "cell_type": "code",
   "execution_count": 218,
   "metadata": {},
   "outputs": [
    {
     "data": {
      "text/plain": [
       "tensor([[1.],\n",
       "        [2.],\n",
       "        [3.],\n",
       "        [4.]])"
      ]
     },
     "execution_count": 218,
     "metadata": {},
     "output_type": "execute_result"
    }
   ],
   "source": [
    "x"
   ]
  },
  {
   "cell_type": "code",
   "execution_count": 219,
   "metadata": {},
   "outputs": [
    {
     "data": {
      "text/plain": [
       "tensor([5.])"
      ]
     },
     "execution_count": 219,
     "metadata": {},
     "output_type": "execute_result"
    }
   ],
   "source": [
    "x_test = torch.tensor([5], dtype=torch.float32)\n",
    "x_test"
   ]
  },
  {
   "cell_type": "code",
   "execution_count": 220,
   "metadata": {},
   "outputs": [],
   "source": [
    "input_size = x.shape[1]\n",
    "output_size = y.shape[1]"
   ]
  },
  {
   "cell_type": "code",
   "execution_count": 221,
   "metadata": {},
   "outputs": [],
   "source": [
    "# model build\n",
    "model = nn.Linear(input_size, output_size)"
   ]
  },
  {
   "cell_type": "code",
   "execution_count": 222,
   "metadata": {},
   "outputs": [],
   "source": [
    "class LinearRegression(nn.Module):\n",
    "    def __init__(self, input_dim, output_dim):\n",
    "        super(LinearRegression, self).__init__()\n",
    "        # define layers\n",
    "        self.lin = nn.Linear(input_dim, output_dim)\n",
    "    \n",
    "    def forward(self, x):\n",
    "        return self.lin(x)"
   ]
  },
  {
   "cell_type": "code",
   "execution_count": 223,
   "metadata": {},
   "outputs": [],
   "source": [
    "model = LinearRegression(input_size, output_size)"
   ]
  },
  {
   "cell_type": "code",
   "execution_count": 224,
   "metadata": {},
   "outputs": [],
   "source": [
    "learning_rate = 0.01\n",
    "n_iters = 100\n",
    "\n",
    "loss = nn.MSELoss()\n",
    "optimizer = torch.optim.SGD(model.parameters(), lr=learning_rate)"
   ]
  },
  {
   "cell_type": "code",
   "execution_count": 225,
   "metadata": {},
   "outputs": [
    {
     "name": "stdout",
     "output_type": "stream",
     "text": [
      "epoch : 1 w : 0.275 l : 22.310\n",
      "epoch : 6 w : 1.049 l : 3.821\n",
      "epoch : 11 w : 1.363 l : 0.840\n",
      "epoch : 16 w : 1.493 l : 0.354\n",
      "epoch : 21 w : 1.549 l : 0.269\n",
      "epoch : 26 w : 1.575 l : 0.249\n",
      "epoch : 31 w : 1.589 l : 0.240\n",
      "epoch : 36 w : 1.598 l : 0.232\n",
      "epoch : 41 w : 1.605 l : 0.225\n",
      "epoch : 46 w : 1.612 l : 0.219\n",
      "epoch : 51 w : 1.618 l : 0.212\n",
      "epoch : 56 w : 1.623 l : 0.206\n",
      "epoch : 61 w : 1.629 l : 0.200\n",
      "epoch : 66 w : 1.634 l : 0.194\n",
      "epoch : 71 w : 1.640 l : 0.188\n",
      "epoch : 76 w : 1.645 l : 0.183\n",
      "epoch : 81 w : 1.651 l : 0.177\n",
      "epoch : 86 w : 1.656 l : 0.172\n",
      "epoch : 91 w : 1.661 l : 0.167\n",
      "epoch : 96 w : 1.666 l : 0.162\n",
      "Prediction after training : 9.320\n"
     ]
    }
   ],
   "source": [
    "for epoch in range(n_iters):\n",
    "    y_pred = model(x)\n",
    "    l = loss(y, y_pred)\n",
    "    # backward pass\n",
    "    l.backward()\n",
    "\n",
    "    # update weight\n",
    "    # with torch.no_grad():\n",
    "    #     w -= learning_rate * w.grad\n",
    "    optimizer.step()\n",
    "    \n",
    "    # update 후에 w를 zero화 시킨다\n",
    "    # w.grad.zero_()\n",
    "    optimizer.zero_grad()\n",
    "\n",
    "    if epoch % 5 == 0:\n",
    "        w, b = model.parameters()\n",
    "        print(f'epoch : {epoch+1} w : {w[0].item():.3f} l : {l.item():.3f}')\n",
    "\n",
    "print(f'Prediction after training : {model(x_test).item():.3f}')"
   ]
  }
 ],
 "metadata": {
  "kernelspec": {
   "display_name": "py_3_10_4",
   "language": "python",
   "name": "python3"
  },
  "language_info": {
   "codemirror_mode": {
    "name": "ipython",
    "version": 3
   },
   "file_extension": ".py",
   "mimetype": "text/x-python",
   "name": "python",
   "nbconvert_exporter": "python",
   "pygments_lexer": "ipython3",
   "version": "3.10.4"
  },
  "orig_nbformat": 4
 },
 "nbformat": 4,
 "nbformat_minor": 2
}
