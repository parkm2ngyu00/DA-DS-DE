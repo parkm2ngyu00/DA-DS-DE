{
 "cells": [
  {
   "cell_type": "markdown",
   "metadata": {},
   "source": [
    "## 1. 문자 단위 RNN 언어 모델(Char RNNLM)"
   ]
  },
  {
   "cell_type": "markdown",
   "metadata": {},
   "source": [
    "### 데이터에 대한 이해와 전처리"
   ]
  },
  {
   "cell_type": "code",
   "execution_count": 1,
   "metadata": {},
   "outputs": [],
   "source": [
    "import numpy as np\n",
    "import urllib.request\n",
    "from tensorflow.keras.utils import to_categorical\n",
    "\n",
    "# 데이터 로드\n",
    "urllib.request.urlretrieve(\"http://www.gutenberg.org/files/11/11-0.txt\", filename=\"../Data/11-0.txt\")\n",
    "\n",
    "f = open('../Data/11-0.txt', 'rb')\n",
    "sentences = []\n",
    "for sentence in f: # 데이터로부터 한 줄씩 읽는다.\n",
    "    sentence = sentence.strip() # strip()을 통해 \\r, \\n을 제거한다.\n",
    "    sentence = sentence.lower() # 소문자화.\n",
    "    sentence = sentence.decode('ascii', 'ignore') # \\xe2\\x80\\x99 등과 같은 바이트 열 제거\n",
    "    if len(sentence) > 0:\n",
    "        sentences.append(sentence)\n",
    "f.close()"
   ]
  },
  {
   "cell_type": "code",
   "execution_count": 2,
   "metadata": {},
   "outputs": [
    {
     "data": {
      "text/plain": [
       "['the project gutenberg ebook of alices adventures in wonderland, by lewis carroll',\n",
       " 'this ebook is for the use of anyone anywhere in the united states and',\n",
       " 'most other parts of the world at no cost and with almost no restrictions',\n",
       " 'whatsoever. you may copy it, give it away or re-use it under the terms',\n",
       " 'of the project gutenberg license included with this ebook or online at']"
      ]
     },
     "execution_count": 2,
     "metadata": {},
     "output_type": "execute_result"
    }
   ],
   "source": [
    "sentences[:5]"
   ]
  },
  {
   "cell_type": "code",
   "execution_count": 3,
   "metadata": {},
   "outputs": [
    {
     "data": {
      "text/plain": [
       "159484"
      ]
     },
     "execution_count": 3,
     "metadata": {},
     "output_type": "execute_result"
    }
   ],
   "source": [
    "total_data = ' '.join(sentences)\n",
    "len(total_data)"
   ]
  },
  {
   "cell_type": "code",
   "execution_count": 4,
   "metadata": {},
   "outputs": [
    {
     "data": {
      "text/plain": [
       "'the project gutenberg ebook of alices adventures in wonderland, by lewis carroll this ebook is for t'"
      ]
     },
     "execution_count": 4,
     "metadata": {},
     "output_type": "execute_result"
    }
   ],
   "source": [
    "total_data[:100]"
   ]
  },
  {
   "cell_type": "code",
   "execution_count": 5,
   "metadata": {},
   "outputs": [
    {
     "data": {
      "text/plain": [
       "56"
      ]
     },
     "execution_count": 5,
     "metadata": {},
     "output_type": "execute_result"
    }
   ],
   "source": [
    "char_vocab = sorted(list(set(total_data)))\n",
    "vocab_size = len(char_vocab)\n",
    "vocab_size"
   ]
  },
  {
   "cell_type": "code",
   "execution_count": 6,
   "metadata": {},
   "outputs": [
    {
     "name": "stdout",
     "output_type": "stream",
     "text": [
      "{' ': 0, '!': 1, '\"': 2, '#': 3, '$': 4, '%': 5, \"'\": 6, '(': 7, ')': 8, '*': 9, ',': 10, '-': 11, '.': 12, '/': 13, '0': 14, '1': 15, '2': 16, '3': 17, '4': 18, '5': 19, '6': 20, '7': 21, '8': 22, '9': 23, ':': 24, ';': 25, '?': 26, '[': 27, ']': 28, '_': 29, 'a': 30, 'b': 31, 'c': 32, 'd': 33, 'e': 34, 'f': 35, 'g': 36, 'h': 37, 'i': 38, 'j': 39, 'k': 40, 'l': 41, 'm': 42, 'n': 43, 'o': 44, 'p': 45, 'q': 46, 'r': 47, 's': 48, 't': 49, 'u': 50, 'v': 51, 'w': 52, 'x': 53, 'y': 54, 'z': 55}\n"
     ]
    }
   ],
   "source": [
    "# 문자에 고유한 정수 부여\n",
    "char_to_index = dict((char, index) for index, char in enumerate(char_vocab))\n",
    "print(char_to_index)"
   ]
  },
  {
   "cell_type": "code",
   "execution_count": 7,
   "metadata": {},
   "outputs": [],
   "source": [
    "index_to_char = {}\n",
    "for key, value in char_to_index.items():\n",
    "    index_to_char[value] = key"
   ]
  },
  {
   "cell_type": "code",
   "execution_count": 8,
   "metadata": {},
   "outputs": [],
   "source": [
    "# appl (입력 시퀀스) -> pple (예측해야하는 시퀀스)\n",
    "train_X = 'appl'\n",
    "train_y = 'pple'"
   ]
  },
  {
   "cell_type": "code",
   "execution_count": 9,
   "metadata": {},
   "outputs": [
    {
     "data": {
      "text/plain": [
       "2658"
      ]
     },
     "execution_count": 9,
     "metadata": {},
     "output_type": "execute_result"
    }
   ],
   "source": [
    "seq_length = 60\n",
    "\n",
    "# 문자열의 길이를 seq_length로 나누면 전처리 후 생겨날 샘플 수\n",
    "n_samples = int(np.floor((len(total_data) - 1) / seq_length))\n",
    "n_samples"
   ]
  },
  {
   "cell_type": "code",
   "execution_count": 10,
   "metadata": {},
   "outputs": [],
   "source": [
    "train_X = []\n",
    "train_y = []\n",
    "\n",
    "for i in range(n_samples):\n",
    "    # 0:60 -> 60:120 -> 120:180로 loop를 돌면서 문장 샘플을 1개씩 pick.\n",
    "    X_sample = total_data[i * seq_length : (i+1) * seq_length]\n",
    "    # 정수 인코딩\n",
    "    X_encoded = [char_to_index[c] for c in X_sample]\n",
    "    train_X.append(X_encoded)\n",
    "    # 오른쪽으로 1칸 쉬프트\n",
    "    y_sample = total_data[i * seq_length + 1: (i + 1) * seq_length + 1]\n",
    "    y_encoded = [char_to_index[c] for c in y_sample]\n",
    "    train_y.append(y_encoded)"
   ]
  },
  {
   "cell_type": "code",
   "execution_count": 11,
   "metadata": {},
   "outputs": [
    {
     "name": "stdout",
     "output_type": "stream",
     "text": [
      "X 데이터의 첫번째 샘플 : [49, 37, 34, 0, 45, 47, 44, 39, 34, 32, 49, 0, 36, 50, 49, 34, 43, 31, 34, 47, 36, 0, 34, 31, 44, 44, 40, 0, 44, 35, 0, 30, 41, 38, 32, 34, 48, 0, 30, 33, 51, 34, 43, 49, 50, 47, 34, 48, 0, 38, 43, 0, 52, 44, 43, 33, 34, 47, 41, 30]\n",
      "y 데이터의 첫번째 샘플 : [37, 34, 0, 45, 47, 44, 39, 34, 32, 49, 0, 36, 50, 49, 34, 43, 31, 34, 47, 36, 0, 34, 31, 44, 44, 40, 0, 44, 35, 0, 30, 41, 38, 32, 34, 48, 0, 30, 33, 51, 34, 43, 49, 50, 47, 34, 48, 0, 38, 43, 0, 52, 44, 43, 33, 34, 47, 41, 30, 43]\n",
      "--------------------------------------------------\n",
      "X 데이터의 첫번째 샘플 디코딩 : ['t', 'h', 'e', ' ', 'p', 'r', 'o', 'j', 'e', 'c', 't', ' ', 'g', 'u', 't', 'e', 'n', 'b', 'e', 'r', 'g', ' ', 'e', 'b', 'o', 'o', 'k', ' ', 'o', 'f', ' ', 'a', 'l', 'i', 'c', 'e', 's', ' ', 'a', 'd', 'v', 'e', 'n', 't', 'u', 'r', 'e', 's', ' ', 'i', 'n', ' ', 'w', 'o', 'n', 'd', 'e', 'r', 'l', 'a']\n",
      "y 데이터의 첫번째 샘플 디코딩 : ['h', 'e', ' ', 'p', 'r', 'o', 'j', 'e', 'c', 't', ' ', 'g', 'u', 't', 'e', 'n', 'b', 'e', 'r', 'g', ' ', 'e', 'b', 'o', 'o', 'k', ' ', 'o', 'f', ' ', 'a', 'l', 'i', 'c', 'e', 's', ' ', 'a', 'd', 'v', 'e', 'n', 't', 'u', 'r', 'e', 's', ' ', 'i', 'n', ' ', 'w', 'o', 'n', 'd', 'e', 'r', 'l', 'a', 'n']\n"
     ]
    }
   ],
   "source": [
    "print('X 데이터의 첫번째 샘플 :',train_X[0])\n",
    "print('y 데이터의 첫번째 샘플 :',train_y[0])\n",
    "print('-'*50)\n",
    "print('X 데이터의 첫번째 샘플 디코딩 :',[index_to_char[i] for i in train_X[0]])\n",
    "print('y 데이터의 첫번째 샘플 디코딩 :',[index_to_char[i] for i in train_y[0]])"
   ]
  },
  {
   "cell_type": "markdown",
   "metadata": {},
   "source": [
    "train_y[0]은 train_X[0]에서 오른쪽으로 한 칸 쉬프트 된 문장임을 알 수 있습니다. train_X와 train_y의 두번째 샘플. 즉, 인덱스가 1번인 샘플을 출력하여 데이터의 구성을 확인해봅시다."
   ]
  },
  {
   "cell_type": "markdown",
   "metadata": {},
   "source": [
    "이제 train_X와 train_y에 대해서 원-핫 인코딩을 수행합니다. 문자 단위 RNN에서는 입력 시퀀스에 대해서 워드 임베딩을 하지 않습니다. 다시 말해 임베딩층(embedding layer)을 사용하지 않을 것이므로, 입력 시퀀스인 train_X에 대해서도 원-핫 인코딩을 합니다."
   ]
  },
  {
   "cell_type": "code",
   "execution_count": 12,
   "metadata": {},
   "outputs": [
    {
     "name": "stdout",
     "output_type": "stream",
     "text": [
      "train_X의 크기(shape) : (2658, 60, 56)\n",
      "train_y의 크기(shape) : (2658, 60, 56)\n"
     ]
    }
   ],
   "source": [
    "train_X = to_categorical(train_X)\n",
    "train_y = to_categorical(train_y)\n",
    "\n",
    "print('train_X의 크기(shape) : {}'.format(train_X.shape)) # 원-핫 인코딩\n",
    "print('train_y의 크기(shape) : {}'.format(train_y.shape)) # 원-핫 인코딩"
   ]
  },
  {
   "cell_type": "markdown",
   "metadata": {},
   "source": [
    "이는 샘플의 수(No. of samples)가 2,658개, 입력 시퀀스의 길이(input_length)가 60, 각 벡터의 차원(input_dim)이 55임을 의미합니다. 원-핫 벡터의 차원은 문자 집합의 크기인 56이어야 하므로 원-핫 인코딩이 수행되었음을 알 수 있습니다."
   ]
  },
  {
   "cell_type": "markdown",
   "metadata": {},
   "source": [
    "### 모델 설계하기"
   ]
  },
  {
   "cell_type": "markdown",
   "metadata": {},
   "source": [
    "하이퍼파라미터인 은닉 상태의 크기는 256입니다. 모델은 다 대 다 구조의 LSTM을 사용하며, LSTM 은닉층은 두 개를 사용합니다. 전결합층(Fully Connected Layer)을 출력층으로 문자 집합 크기만큼의 뉴런을 배치하여 모델을 설계합니다. 해당 모델은 모든 시점에서 모든 가능한 문자 중 하나의 문자를 예측하는 다중 클래스 분류 문제를 수행하는 모델입니다. 출력층에 소프트맥스 회귀를 사용해야 하므로 활성화 함수로는 소프트맥스 함수를 사용하고, 손실 함수로 크로스 엔트로피 함수를 사용하여 80 에포크를 수행합니다."
   ]
  },
  {
   "cell_type": "code",
   "execution_count": 13,
   "metadata": {},
   "outputs": [
    {
     "name": "stdout",
     "output_type": "stream",
     "text": [
      "Epoch 1/80\n",
      "84/84 - 51s - loss: 3.0712 - accuracy: 0.1826 - 51s/epoch - 605ms/step\n",
      "Epoch 2/80\n",
      "84/84 - 43s - loss: 2.8384 - accuracy: 0.2155 - 43s/epoch - 509ms/step\n",
      "Epoch 3/80\n",
      "84/84 - 47s - loss: 2.4578 - accuracy: 0.3124 - 47s/epoch - 560ms/step\n",
      "Epoch 4/80\n",
      "84/84 - 51s - loss: 2.3109 - accuracy: 0.3443 - 51s/epoch - 603ms/step\n",
      "Epoch 5/80\n",
      "84/84 - 48s - loss: 2.2057 - accuracy: 0.3714 - 48s/epoch - 571ms/step\n",
      "Epoch 6/80\n",
      "84/84 - 44s - loss: 2.1206 - accuracy: 0.3925 - 44s/epoch - 518ms/step\n",
      "Epoch 7/80\n",
      "84/84 - 46s - loss: 2.0584 - accuracy: 0.4091 - 46s/epoch - 547ms/step\n",
      "Epoch 8/80\n",
      "84/84 - 43s - loss: 2.0004 - accuracy: 0.4226 - 43s/epoch - 511ms/step\n",
      "Epoch 9/80\n",
      "84/84 - 41s - loss: 1.9557 - accuracy: 0.4339 - 41s/epoch - 485ms/step\n",
      "Epoch 10/80\n",
      "84/84 - 43s - loss: 1.9156 - accuracy: 0.4436 - 43s/epoch - 512ms/step\n",
      "Epoch 11/80\n",
      "84/84 - 41s - loss: 1.8817 - accuracy: 0.4525 - 41s/epoch - 486ms/step\n",
      "Epoch 12/80\n",
      "84/84 - 40s - loss: 1.8464 - accuracy: 0.4621 - 40s/epoch - 476ms/step\n",
      "Epoch 13/80\n",
      "84/84 - 38s - loss: 1.8132 - accuracy: 0.4717 - 38s/epoch - 453ms/step\n",
      "Epoch 14/80\n",
      "84/84 - 38s - loss: 1.7847 - accuracy: 0.4804 - 38s/epoch - 456ms/step\n",
      "Epoch 15/80\n",
      "84/84 - 38s - loss: 1.7573 - accuracy: 0.4884 - 38s/epoch - 448ms/step\n",
      "Epoch 16/80\n",
      "84/84 - 38s - loss: 1.7316 - accuracy: 0.4955 - 38s/epoch - 447ms/step\n",
      "Epoch 17/80\n",
      "84/84 - 38s - loss: 1.7036 - accuracy: 0.5024 - 38s/epoch - 454ms/step\n",
      "Epoch 18/80\n",
      "84/84 - 38s - loss: 1.6807 - accuracy: 0.5087 - 38s/epoch - 458ms/step\n",
      "Epoch 19/80\n",
      "84/84 - 37s - loss: 1.6543 - accuracy: 0.5151 - 37s/epoch - 446ms/step\n",
      "Epoch 20/80\n",
      "84/84 - 38s - loss: 1.6277 - accuracy: 0.5225 - 38s/epoch - 449ms/step\n",
      "Epoch 21/80\n",
      "84/84 - 37s - loss: 1.6053 - accuracy: 0.5273 - 37s/epoch - 446ms/step\n",
      "Epoch 22/80\n",
      "84/84 - 37s - loss: 1.5848 - accuracy: 0.5331 - 37s/epoch - 446ms/step\n",
      "Epoch 23/80\n",
      "84/84 - 37s - loss: 1.5632 - accuracy: 0.5382 - 37s/epoch - 445ms/step\n",
      "Epoch 24/80\n",
      "84/84 - 37s - loss: 1.5382 - accuracy: 0.5448 - 37s/epoch - 444ms/step\n",
      "Epoch 25/80\n",
      "84/84 - 37s - loss: 1.5159 - accuracy: 0.5513 - 37s/epoch - 446ms/step\n",
      "Epoch 26/80\n",
      "84/84 - 37s - loss: 1.4968 - accuracy: 0.5563 - 37s/epoch - 445ms/step\n",
      "Epoch 27/80\n",
      "84/84 - 37s - loss: 1.4768 - accuracy: 0.5616 - 37s/epoch - 446ms/step\n",
      "Epoch 28/80\n",
      "84/84 - 38s - loss: 1.4580 - accuracy: 0.5668 - 38s/epoch - 449ms/step\n",
      "Epoch 29/80\n",
      "84/84 - 37s - loss: 1.4374 - accuracy: 0.5725 - 37s/epoch - 446ms/step\n",
      "Epoch 30/80\n",
      "84/84 - 38s - loss: 1.4145 - accuracy: 0.5788 - 38s/epoch - 449ms/step\n",
      "Epoch 31/80\n",
      "84/84 - 38s - loss: 1.3971 - accuracy: 0.5835 - 38s/epoch - 448ms/step\n",
      "Epoch 32/80\n",
      "84/84 - 38s - loss: 1.3755 - accuracy: 0.5899 - 38s/epoch - 449ms/step\n",
      "Epoch 33/80\n",
      "84/84 - 38s - loss: 1.3574 - accuracy: 0.5948 - 38s/epoch - 449ms/step\n",
      "Epoch 34/80\n",
      "84/84 - 38s - loss: 1.3390 - accuracy: 0.5997 - 38s/epoch - 453ms/step\n",
      "Epoch 35/80\n",
      "84/84 - 38s - loss: 1.3188 - accuracy: 0.6057 - 38s/epoch - 451ms/step\n",
      "Epoch 36/80\n",
      "84/84 - 38s - loss: 1.2979 - accuracy: 0.6113 - 38s/epoch - 451ms/step\n",
      "Epoch 37/80\n",
      "84/84 - 38s - loss: 1.2825 - accuracy: 0.6163 - 38s/epoch - 455ms/step\n",
      "Epoch 38/80\n",
      "84/84 - 38s - loss: 1.2651 - accuracy: 0.6210 - 38s/epoch - 452ms/step\n",
      "Epoch 39/80\n",
      "84/84 - 39s - loss: 1.2480 - accuracy: 0.6257 - 39s/epoch - 460ms/step\n",
      "Epoch 40/80\n",
      "84/84 - 38s - loss: 1.2252 - accuracy: 0.6321 - 38s/epoch - 449ms/step\n",
      "Epoch 41/80\n",
      "84/84 - 38s - loss: 1.2087 - accuracy: 0.6372 - 38s/epoch - 450ms/step\n",
      "Epoch 42/80\n",
      "84/84 - 38s - loss: 1.1881 - accuracy: 0.6429 - 38s/epoch - 453ms/step\n",
      "Epoch 43/80\n",
      "84/84 - 38s - loss: 1.1674 - accuracy: 0.6489 - 38s/epoch - 450ms/step\n",
      "Epoch 44/80\n",
      "84/84 - 38s - loss: 1.1492 - accuracy: 0.6542 - 38s/epoch - 449ms/step\n",
      "Epoch 45/80\n",
      "84/84 - 38s - loss: 1.1264 - accuracy: 0.6610 - 38s/epoch - 452ms/step\n",
      "Epoch 46/80\n",
      "84/84 - 38s - loss: 1.1085 - accuracy: 0.6674 - 38s/epoch - 452ms/step\n",
      "Epoch 47/80\n",
      "84/84 - 38s - loss: 1.0917 - accuracy: 0.6709 - 38s/epoch - 454ms/step\n",
      "Epoch 48/80\n",
      "84/84 - 38s - loss: 1.0704 - accuracy: 0.6765 - 38s/epoch - 451ms/step\n",
      "Epoch 49/80\n",
      "84/84 - 39s - loss: 1.0441 - accuracy: 0.6859 - 39s/epoch - 465ms/step\n",
      "Epoch 50/80\n",
      "84/84 - 39s - loss: 1.0314 - accuracy: 0.6887 - 39s/epoch - 459ms/step\n",
      "Epoch 51/80\n",
      "84/84 - 38s - loss: 1.0065 - accuracy: 0.6967 - 38s/epoch - 454ms/step\n",
      "Epoch 52/80\n",
      "84/84 - 38s - loss: 0.9829 - accuracy: 0.7047 - 38s/epoch - 452ms/step\n",
      "Epoch 53/80\n",
      "84/84 - 38s - loss: 0.9642 - accuracy: 0.7095 - 38s/epoch - 454ms/step\n",
      "Epoch 54/80\n",
      "84/84 - 38s - loss: 0.9389 - accuracy: 0.7182 - 38s/epoch - 456ms/step\n",
      "Epoch 55/80\n",
      "84/84 - 38s - loss: 0.9236 - accuracy: 0.7234 - 38s/epoch - 452ms/step\n",
      "Epoch 56/80\n",
      "84/84 - 38s - loss: 0.9006 - accuracy: 0.7296 - 38s/epoch - 454ms/step\n",
      "Epoch 57/80\n",
      "84/84 - 38s - loss: 0.8775 - accuracy: 0.7368 - 38s/epoch - 453ms/step\n",
      "Epoch 58/80\n",
      "84/84 - 38s - loss: 0.8584 - accuracy: 0.7435 - 38s/epoch - 456ms/step\n",
      "Epoch 59/80\n",
      "84/84 - 38s - loss: 0.8331 - accuracy: 0.7516 - 38s/epoch - 457ms/step\n",
      "Epoch 60/80\n",
      "84/84 - 38s - loss: 0.8102 - accuracy: 0.7590 - 38s/epoch - 454ms/step\n",
      "Epoch 61/80\n",
      "84/84 - 38s - loss: 0.7960 - accuracy: 0.7623 - 38s/epoch - 455ms/step\n",
      "Epoch 62/80\n",
      "84/84 - 38s - loss: 0.7690 - accuracy: 0.7726 - 38s/epoch - 453ms/step\n",
      "Epoch 63/80\n",
      "84/84 - 38s - loss: 0.7472 - accuracy: 0.7791 - 38s/epoch - 453ms/step\n",
      "Epoch 64/80\n",
      "84/84 - 38s - loss: 0.7293 - accuracy: 0.7846 - 38s/epoch - 454ms/step\n",
      "Epoch 65/80\n",
      "84/84 - 38s - loss: 0.7085 - accuracy: 0.7907 - 38s/epoch - 453ms/step\n",
      "Epoch 66/80\n",
      "84/84 - 38s - loss: 0.6909 - accuracy: 0.7968 - 38s/epoch - 456ms/step\n",
      "Epoch 67/80\n",
      "84/84 - 38s - loss: 0.6656 - accuracy: 0.8046 - 38s/epoch - 456ms/step\n",
      "Epoch 68/80\n",
      "84/84 - 38s - loss: 0.6478 - accuracy: 0.8113 - 38s/epoch - 450ms/step\n",
      "Epoch 69/80\n",
      "84/84 - 38s - loss: 0.6269 - accuracy: 0.8179 - 38s/epoch - 458ms/step\n",
      "Epoch 70/80\n",
      "84/84 - 38s - loss: 0.6063 - accuracy: 0.8252 - 38s/epoch - 453ms/step\n",
      "Epoch 71/80\n",
      "84/84 - 38s - loss: 0.5850 - accuracy: 0.8318 - 38s/epoch - 458ms/step\n",
      "Epoch 72/80\n",
      "84/84 - 39s - loss: 0.5712 - accuracy: 0.8363 - 39s/epoch - 463ms/step\n",
      "Epoch 73/80\n",
      "84/84 - 38s - loss: 0.5597 - accuracy: 0.8387 - 38s/epoch - 456ms/step\n",
      "Epoch 74/80\n",
      "84/84 - 38s - loss: 0.5502 - accuracy: 0.8415 - 38s/epoch - 457ms/step\n",
      "Epoch 75/80\n",
      "84/84 - 38s - loss: 0.5289 - accuracy: 0.8480 - 38s/epoch - 449ms/step\n",
      "Epoch 76/80\n",
      "84/84 - 38s - loss: 0.5067 - accuracy: 0.8567 - 38s/epoch - 456ms/step\n",
      "Epoch 77/80\n",
      "84/84 - 38s - loss: 0.4877 - accuracy: 0.8636 - 38s/epoch - 457ms/step\n",
      "Epoch 78/80\n",
      "84/84 - 38s - loss: 0.4709 - accuracy: 0.8686 - 38s/epoch - 456ms/step\n",
      "Epoch 79/80\n",
      "84/84 - 38s - loss: 0.4517 - accuracy: 0.8753 - 38s/epoch - 454ms/step\n",
      "Epoch 80/80\n",
      "84/84 - 38s - loss: 0.4382 - accuracy: 0.8792 - 38s/epoch - 453ms/step\n"
     ]
    },
    {
     "data": {
      "text/plain": [
       "<keras.src.callbacks.History at 0x28a91b9cd90>"
      ]
     },
     "execution_count": 13,
     "metadata": {},
     "output_type": "execute_result"
    }
   ],
   "source": [
    "from tensorflow.keras.models import Sequential\n",
    "from tensorflow.keras.layers import Dense, LSTM, TimeDistributed\n",
    "\n",
    "hidden_units = 256\n",
    "\n",
    "model = Sequential()\n",
    "model.add(LSTM(hidden_units, input_shape=(None, train_X.shape[2]), return_sequences=True))\n",
    "model.add(LSTM(hidden_units, return_sequences=True))\n",
    "model.add(TimeDistributed(Dense(vocab_size, activation='softmax')))\n",
    "\n",
    "model.compile(loss='categorical_crossentropy', optimizer='adam', metrics=['accuracy'])\n",
    "model.fit(train_X, train_y, epochs=80, verbose=2)"
   ]
  },
  {
   "cell_type": "code",
   "execution_count": 14,
   "metadata": {},
   "outputs": [],
   "source": [
    "def sentence_generation(model, length):\n",
    "    # 문자에 대한 랜덤한 정수 생성\n",
    "    ix = [np.random.randint(vocab_size)]\n",
    "\n",
    "    # 랜덤한 정수로부터 맵핑되는 문자 생성\n",
    "    y_char = [index_to_char[ix[-1]]]\n",
    "    print(ix[-1],'번 문자',y_char[-1],'로 예측을 시작!')\n",
    "\n",
    "    # (1, length, 55) 크기의 X 생성. 즉, LSTM의 입력 시퀀스 생성\n",
    "    X = np.zeros((1, length, vocab_size))\n",
    "\n",
    "    for i in range(length):\n",
    "        # X[0][i][예측한 문자의 인덱스] = 1, 즉, 예측 문자를 다음 입력 시퀀스에 추가\n",
    "        X[0][i][ix[-1]] = 1\n",
    "        print(index_to_char[ix[-1]], end=\"\")\n",
    "        ix = np.argmax(model.predict(X[:, :i+1, :])[0], 1)\n",
    "        y_char.append(index_to_char[ix[-1]])\n",
    "    return ('').join(y_char)"
   ]
  },
  {
   "cell_type": "code",
   "execution_count": 15,
   "metadata": {},
   "outputs": [
    {
     "name": "stdout",
     "output_type": "stream",
     "text": [
      "18 번 문자 4 로 예측을 시작!\n",
      "1/1 [==============================] - 1s 1s/step\n",
      "1/1 [==============================] - 1s 1s/step\n",
      "1/1 [==============================] - 0s 29ms/step\n",
      "1/1 [==============================] - 0s 24ms/step\n",
      "1/1 [==============================] - 0s 32ms/step\n",
      "1/1 [==============================] - 0s 32ms/step\n",
      "1/1 [==============================] - 0s 29ms/step\n",
      "1/1 [==============================] - 0s 32ms/step\n",
      "1/1 [==============================] - 0s 29ms/step\n",
      "1/1 [==============================] - 0s 31ms/step\n",
      "1/1 [==============================] - 0s 33ms/step\n",
      "1/1 [==============================] - 0s 39ms/step\n",
      "1/1 [==============================] - 0s 31ms/step\n",
      "1/1 [==============================] - 0s 35ms/step\n",
      "1/1 [==============================] - 0s 36ms/step\n",
      "1/1 [==============================] - 0s 31ms/step\n",
      "1/1 [==============================] - 0s 36ms/step\n",
      "1/1 [==============================] - 0s 39ms/step\n",
      "1/1 [==============================] - 0s 34ms/step\n",
      "1/1 [==============================] - 0s 39ms/step\n",
      "1/1 [==============================] - 0s 35ms/step\n",
      "1/1 [==============================] - 0s 32ms/step\n",
      "1/1 [==============================] - 0s 34ms/step\n",
      "1/1 [==============================] - 0s 35ms/step\n",
      "1/1 [==============================] - 0s 54ms/step\n",
      "1/1 [==============================] - 0s 34ms/step\n",
      "1/1 [==============================] - 0s 32ms/step\n",
      "1/1 [==============================] - 0s 33ms/step\n",
      "1/1 [==============================] - 0s 34ms/step\n",
      "1/1 [==============================] - 0s 39ms/step\n",
      "1/1 [==============================] - 0s 33ms/step\n",
      "1/1 [==============================] - 0s 43ms/step\n",
      "1/1 [==============================] - 0s 31ms/step\n",
      "1/1 [==============================] - 0s 37ms/step\n",
      "1/1 [==============================] - 0s 38ms/step\n",
      "1/1 [==============================] - 0s 41ms/step\n",
      "1/1 [==============================] - 0s 44ms/step\n",
      "1/1 [==============================] - 0s 34ms/step\n",
      "1/1 [==============================] - 0s 32ms/step\n",
      "1/1 [==============================] - 0s 40ms/step\n",
      "1/1 [==============================] - 0s 36ms/step\n",
      "1/1 [==============================] - 0s 36ms/step\n",
      "1/1 [==============================] - 0s 47ms/step\n",
      "1/1 [==============================] - 0s 34ms/step\n",
      "1/1 [==============================] - 0s 46ms/step\n",
      "1/1 [==============================] - 0s 37ms/step\n",
      "1/1 [==============================] - 0s 43ms/step\n",
      "1/1 [==============================] - 0s 36ms/step\n",
      "1/1 [==============================] - 0s 52ms/step\n",
      "1/1 [==============================] - 0s 40ms/step\n",
      "1/1 [==============================] - 0s 41ms/step\n",
      "1/1 [==============================] - 0s 42ms/step\n",
      "1/1 [==============================] - 0s 41ms/step\n",
      "1/1 [==============================] - 0s 49ms/step\n",
      "1/1 [==============================] - 0s 42ms/step\n",
      "1/1 [==============================] - 0s 42ms/step\n",
      "1/1 [==============================] - 0s 49ms/step\n",
      "1/1 [==============================] - 0s 49ms/step\n",
      "1/1 [==============================] - 0s 49ms/step\n",
      "1/1 [==============================] - 0s 42ms/step\n",
      "1/1 [==============================] - 0s 46ms/step\n",
      "1/1 [==============================] - 0s 49ms/step\n",
      "1/1 [==============================] - 0s 40ms/step\n",
      "1/1 [==============================] - 0s 40ms/step\n",
      "1/1 [==============================] - 0s 56ms/step\n",
      "1/1 [==============================] - 0s 47ms/step\n",
      "1/1 [==============================] - 0s 49ms/step\n",
      "1/1 [==============================] - 0s 52ms/step\n",
      "1/1 [==============================] - 0s 50ms/step\n",
      "1/1 [==============================] - 0s 47ms/step\n",
      "1/1 [==============================] - 0s 56ms/step\n",
      "1/1 [==============================] - 0s 47ms/step\n",
      "1/1 [==============================] - 0s 54ms/step\n",
      "1/1 [==============================] - 0s 53ms/step\n",
      "1/1 [==============================] - 0s 45ms/step\n",
      "1/1 [==============================] - 0s 50ms/step\n",
      "1/1 [==============================] - 0s 56ms/step\n",
      "1/1 [==============================] - 0s 46ms/step\n",
      "1/1 [==============================] - 0s 55ms/step\n",
      "1/1 [==============================] - 0s 45ms/step\n",
      "1/1 [==============================] - 0s 53ms/step\n",
      "1/1 [==============================] - 0s 53ms/step\n",
      "1/1 [==============================] - 0s 66ms/step\n",
      "1/1 [==============================] - 0s 52ms/step\n",
      "1/1 [==============================] - 0s 54ms/step\n",
      "1/1 [==============================] - 0s 51ms/step\n",
      "1/1 [==============================] - 0s 49ms/step\n",
      "1/1 [==============================] - 0s 49ms/step\n",
      "1/1 [==============================] - 0s 53ms/step\n",
      "1/1 [==============================] - 0s 54ms/step\n",
      "1/1 [==============================] - 0s 59ms/step\n",
      "1/1 [==============================] - 0s 55ms/step\n",
      "1/1 [==============================] - 0s 59ms/step\n",
      "1/1 [==============================] - 0s 54ms/step\n",
      "1/1 [==============================] - 0s 59ms/step\n",
      "1/1 [==============================] - 0s 62ms/step\n",
      "1/1 [==============================] - 0s 52ms/step\n",
      "1/1 [==============================] - 0s 56ms/step\n",
      "1/1 [==============================] - 0s 61ms/step\n",
      "1/1 [==============================] - 0s 57ms/step\n",
      "4 and the dormouse sulaioud of lives and saddence of thingsh i thought you donation. then the questio\n"
     ]
    }
   ],
   "source": [
    "result = sentence_generation(model, 100)\n",
    "print(result)"
   ]
  },
  {
   "cell_type": "markdown",
   "metadata": {},
   "source": [
    "## 2. 문자 단위 RNN(Char RNN)으로 텍스트 생성하기"
   ]
  },
  {
   "cell_type": "markdown",
   "metadata": {},
   "source": [
    "### 데이터에 대한 이해와 전처리"
   ]
  },
  {
   "cell_type": "code",
   "execution_count": 16,
   "metadata": {},
   "outputs": [],
   "source": [
    "import numpy as np\n",
    "from tensorflow.keras.utils import to_categorical"
   ]
  },
  {
   "cell_type": "code",
   "execution_count": 17,
   "metadata": {},
   "outputs": [],
   "source": [
    "raw_text = '''\n",
    "I get on with life as a programmer,\n",
    "I like to contemplate beer.\n",
    "But when I start to daydream,\n",
    "My mind turns straight to wine.\n",
    "\n",
    "Do I love wine more than beer?\n",
    "\n",
    "I like to use words about beer.\n",
    "But when I stop my talking,\n",
    "My mind turns straight to wine.\n",
    "\n",
    "I hate bugs and errors.\n",
    "But I just think back to wine,\n",
    "And I'm happy once again.\n",
    "\n",
    "I like to hang out with programming and deep learning.\n",
    "But when left alone,\n",
    "My mind turns straight to wine.\n",
    "'''"
   ]
  },
  {
   "cell_type": "code",
   "execution_count": 18,
   "metadata": {},
   "outputs": [
    {
     "name": "stdout",
     "output_type": "stream",
     "text": [
      "I get on with life as a programmer, I like to contemplate beer. But when I start to daydream, My mind turns straight to wine. Do I love wine more than beer? I like to use words about beer. But when I stop my talking, My mind turns straight to wine. I hate bugs and errors. But I just think back to wine, And I'm happy once again. I like to hang out with programming and deep learning. But when left alone, My mind turns straight to wine.\n"
     ]
    }
   ],
   "source": [
    "tokens = raw_text.split()\n",
    "raw_text = ' '.join(tokens)\n",
    "print(raw_text)"
   ]
  },
  {
   "cell_type": "code",
   "execution_count": 19,
   "metadata": {},
   "outputs": [
    {
     "name": "stdout",
     "output_type": "stream",
     "text": [
      "문자 집합 : [' ', \"'\", ',', '.', '?', 'A', 'B', 'D', 'I', 'M', 'a', 'b', 'c', 'd', 'e', 'f', 'g', 'h', 'i', 'j', 'k', 'l', 'm', 'n', 'o', 'p', 'r', 's', 't', 'u', 'v', 'w', 'y']\n",
      "문자 집합의 크기 : 33\n"
     ]
    }
   ],
   "source": [
    "# 중복을 제거한 문자 집합 생성\n",
    "char_vocab = sorted(list(set(raw_text)))\n",
    "vocab_size = len(char_vocab)\n",
    "print('문자 집합 :',char_vocab)\n",
    "print ('문자 집합의 크기 : {}'.format(vocab_size))"
   ]
  },
  {
   "cell_type": "code",
   "execution_count": 20,
   "metadata": {},
   "outputs": [
    {
     "name": "stdout",
     "output_type": "stream",
     "text": [
      "{' ': 0, \"'\": 1, ',': 2, '.': 3, '?': 4, 'A': 5, 'B': 6, 'D': 7, 'I': 8, 'M': 9, 'a': 10, 'b': 11, 'c': 12, 'd': 13, 'e': 14, 'f': 15, 'g': 16, 'h': 17, 'i': 18, 'j': 19, 'k': 20, 'l': 21, 'm': 22, 'n': 23, 'o': 24, 'p': 25, 'r': 26, 's': 27, 't': 28, 'u': 29, 'v': 30, 'w': 31, 'y': 32}\n"
     ]
    }
   ],
   "source": [
    "char_to_index = dict((char, index) for index, char in enumerate(char_vocab)) # 문자에 고유한 정수 인덱스 부여\n",
    "print(char_to_index)"
   ]
  },
  {
   "cell_type": "markdown",
   "metadata": {},
   "source": [
    "이번 실습의 문자 집합의 경우 훈련 데이터에 등장한 알파벳의 대, 소문자를 구분하고 구두점과 공백을 포함하였습니다. 이제 훈련에 사용할 문장 샘플들을 만들어보겠습니다. 여기서는 RNN을 이용한 생성한 텍스트 챕터와 유사하게 데이터를 구성합니다. 다만, 단위가 문자 단위라는 점이 다릅니다. 예를 들어 훈련 데이터에 student라는 단어가 있고, 입력 시퀀스의 길이를 5라고 한다면 입력 시퀀스와 예측해야하는 문자는 다음과 같이 구성됩니다. 5개의 입력 문자 시퀀스로부터 다음 문자 시퀀스를 예측하는 것입니다. 즉, RNN의 시점(timesteps)은 5번입니다.\n",
    "- stude -> n\n",
    "- tuden -> t"
   ]
  },
  {
   "cell_type": "code",
   "execution_count": 21,
   "metadata": {},
   "outputs": [
    {
     "name": "stdout",
     "output_type": "stream",
     "text": [
      "총 훈련 샘플의 수: 426\n"
     ]
    }
   ],
   "source": [
    "length = 11\n",
    "sequences = []\n",
    "for i in range(length, len(raw_text)):\n",
    "    seq = raw_text[i-length:i] # 길이 11의 문자열을 지속적으로 만든다.\n",
    "    sequences.append(seq)\n",
    "print('총 훈련 샘플의 수: %d' % len(sequences))\n"
   ]
  },
  {
   "cell_type": "code",
   "execution_count": 22,
   "metadata": {},
   "outputs": [
    {
     "data": {
      "text/plain": [
       "['I get on wi',\n",
       " ' get on wit',\n",
       " 'get on with',\n",
       " 'et on with ',\n",
       " 't on with l',\n",
       " ' on with li',\n",
       " 'on with lif',\n",
       " 'n with life',\n",
       " ' with life ',\n",
       " 'with life a']"
      ]
     },
     "execution_count": 22,
     "metadata": {},
     "output_type": "execute_result"
    }
   ],
   "source": [
    "sequences[:10]"
   ]
  },
  {
   "cell_type": "code",
   "execution_count": 23,
   "metadata": {},
   "outputs": [],
   "source": [
    "encoded_sequences = []\n",
    "for sequence in sequences: # 전체 데이터에서 문장 샘플을 1개씩 꺼낸다.\n",
    "    encoded_sequence = [char_to_index[char] for char in sequence] # 문장 샘플에서 각 문자에 대해서 정수 인코딩을 수행.\n",
    "    encoded_sequences.append(encoded_sequence)"
   ]
  },
  {
   "cell_type": "code",
   "execution_count": 24,
   "metadata": {},
   "outputs": [
    {
     "data": {
      "text/plain": [
       "[[8, 0, 16, 14, 28, 0, 24, 23, 0, 31, 18],\n",
       " [0, 16, 14, 28, 0, 24, 23, 0, 31, 18, 28],\n",
       " [16, 14, 28, 0, 24, 23, 0, 31, 18, 28, 17],\n",
       " [14, 28, 0, 24, 23, 0, 31, 18, 28, 17, 0],\n",
       " [28, 0, 24, 23, 0, 31, 18, 28, 17, 0, 21]]"
      ]
     },
     "execution_count": 24,
     "metadata": {},
     "output_type": "execute_result"
    }
   ],
   "source": [
    "encoded_sequences[:5]"
   ]
  },
  {
   "cell_type": "code",
   "execution_count": 25,
   "metadata": {},
   "outputs": [],
   "source": [
    "encoded_sequences = np.array(encoded_sequences)\n",
    "\n",
    "# 맨 마지막 위치의 문자를 분리\n",
    "X_data = encoded_sequences[:,:-1]\n",
    "# 맨 마지막 위치의 문자를 저장\n",
    "y_data = encoded_sequences[:,-1]"
   ]
  },
  {
   "cell_type": "code",
   "execution_count": 26,
   "metadata": {},
   "outputs": [
    {
     "name": "stdout",
     "output_type": "stream",
     "text": [
      "[[ 8  0 16 14 28  0 24 23  0 31]\n",
      " [ 0 16 14 28  0 24 23  0 31 18]\n",
      " [16 14 28  0 24 23  0 31 18 28]\n",
      " [14 28  0 24 23  0 31 18 28 17]\n",
      " [28  0 24 23  0 31 18 28 17  0]]\n",
      "[18 28 17  0 21]\n"
     ]
    }
   ],
   "source": [
    "print(X_data[:5])\n",
    "print(y_data[:5])"
   ]
  },
  {
   "cell_type": "code",
   "execution_count": 27,
   "metadata": {},
   "outputs": [],
   "source": [
    "# 원-핫 인코딩\n",
    "X_data_one_hot = [to_categorical(encoded, num_classes=vocab_size) for encoded in X_data]\n",
    "X_data_one_hot = np.array(X_data_one_hot)\n",
    "y_data_one_hot = to_categorical(y_data, num_classes=vocab_size)"
   ]
  },
  {
   "cell_type": "code",
   "execution_count": 28,
   "metadata": {},
   "outputs": [
    {
     "name": "stdout",
     "output_type": "stream",
     "text": [
      "(426, 10, 33)\n"
     ]
    }
   ],
   "source": [
    "print(X_data_one_hot.shape)"
   ]
  },
  {
   "cell_type": "markdown",
   "metadata": {},
   "source": [
    "### 모델 설계하기"
   ]
  },
  {
   "cell_type": "markdown",
   "metadata": {},
   "source": [
    "하이퍼파라미터인 은닉 상태의 크기는 64입니다. 모델은 다 대 일 구조의 LSTM을 사용합니다. 전결합층(Fully Connected Layer)을 출력층으로 문자 집합 크기만큼의 뉴런을 배치하여 모델을 설계합니다. 해당 모델은 마지막 시점에서 모든 가능한 문자 중 하나의 문자를 예측하는 다중 클래스 분류 문제를 수행하는 모델입니다. 다중 클래스 분류 문제의 경우, 출력층에 소프트맥스 회귀를 사용해야 하므로 활성화 함수로는 소프트맥스 함수를 사용하고, 손실 함수로 크로스 엔트로피 함수를 사용하여 100 에포크를 수행합니다."
   ]
  },
  {
   "cell_type": "code",
   "execution_count": 29,
   "metadata": {},
   "outputs": [
    {
     "name": "stdout",
     "output_type": "stream",
     "text": [
      "Epoch 1/100\n",
      "14/14 - 3s - loss: 3.4767 - accuracy: 0.0915 - 3s/epoch - 187ms/step\n",
      "Epoch 2/100\n",
      "14/14 - 0s - loss: 3.3841 - accuracy: 0.1972 - 120ms/epoch - 9ms/step\n",
      "Epoch 3/100\n",
      "14/14 - 0s - loss: 3.1185 - accuracy: 0.1995 - 118ms/epoch - 8ms/step\n",
      "Epoch 4/100\n",
      "14/14 - 0s - loss: 3.0315 - accuracy: 0.1972 - 104ms/epoch - 7ms/step\n",
      "Epoch 5/100\n",
      "14/14 - 0s - loss: 2.9766 - accuracy: 0.1972 - 104ms/epoch - 7ms/step\n",
      "Epoch 6/100\n",
      "14/14 - 0s - loss: 2.9430 - accuracy: 0.1972 - 113ms/epoch - 8ms/step\n",
      "Epoch 7/100\n",
      "14/14 - 0s - loss: 2.9279 - accuracy: 0.1972 - 110ms/epoch - 8ms/step\n",
      "Epoch 8/100\n",
      "14/14 - 0s - loss: 2.9081 - accuracy: 0.1972 - 110ms/epoch - 8ms/step\n",
      "Epoch 9/100\n",
      "14/14 - 0s - loss: 2.8942 - accuracy: 0.1972 - 109ms/epoch - 8ms/step\n",
      "Epoch 10/100\n",
      "14/14 - 0s - loss: 2.8671 - accuracy: 0.1972 - 112ms/epoch - 8ms/step\n",
      "Epoch 11/100\n",
      "14/14 - 0s - loss: 2.8445 - accuracy: 0.1972 - 104ms/epoch - 7ms/step\n",
      "Epoch 12/100\n",
      "14/14 - 0s - loss: 2.8147 - accuracy: 0.1972 - 107ms/epoch - 8ms/step\n",
      "Epoch 13/100\n",
      "14/14 - 0s - loss: 2.7757 - accuracy: 0.2042 - 105ms/epoch - 8ms/step\n",
      "Epoch 14/100\n",
      "14/14 - 0s - loss: 2.7469 - accuracy: 0.2113 - 109ms/epoch - 8ms/step\n",
      "Epoch 15/100\n",
      "14/14 - 0s - loss: 2.7064 - accuracy: 0.2277 - 111ms/epoch - 8ms/step\n",
      "Epoch 16/100\n",
      "14/14 - 0s - loss: 2.6680 - accuracy: 0.2089 - 108ms/epoch - 8ms/step\n",
      "Epoch 17/100\n",
      "14/14 - 0s - loss: 2.6249 - accuracy: 0.2559 - 105ms/epoch - 7ms/step\n",
      "Epoch 18/100\n",
      "14/14 - 0s - loss: 2.5811 - accuracy: 0.2535 - 109ms/epoch - 8ms/step\n",
      "Epoch 19/100\n",
      "14/14 - 0s - loss: 2.5372 - accuracy: 0.2723 - 104ms/epoch - 7ms/step\n",
      "Epoch 20/100\n",
      "14/14 - 0s - loss: 2.4981 - accuracy: 0.2746 - 105ms/epoch - 8ms/step\n",
      "Epoch 21/100\n",
      "14/14 - 0s - loss: 2.4696 - accuracy: 0.2723 - 105ms/epoch - 7ms/step\n",
      "Epoch 22/100\n",
      "14/14 - 0s - loss: 2.4203 - accuracy: 0.2887 - 109ms/epoch - 8ms/step\n",
      "Epoch 23/100\n",
      "14/14 - 0s - loss: 2.3570 - accuracy: 0.3380 - 105ms/epoch - 8ms/step\n",
      "Epoch 24/100\n",
      "14/14 - 0s - loss: 2.3187 - accuracy: 0.3122 - 103ms/epoch - 7ms/step\n",
      "Epoch 25/100\n",
      "14/14 - 0s - loss: 2.2756 - accuracy: 0.3920 - 109ms/epoch - 8ms/step\n",
      "Epoch 26/100\n",
      "14/14 - 0s - loss: 2.2314 - accuracy: 0.3967 - 102ms/epoch - 7ms/step\n",
      "Epoch 27/100\n",
      "14/14 - 0s - loss: 2.1782 - accuracy: 0.3662 - 103ms/epoch - 7ms/step\n",
      "Epoch 28/100\n",
      "14/14 - 0s - loss: 2.1313 - accuracy: 0.3920 - 105ms/epoch - 8ms/step\n",
      "Epoch 29/100\n",
      "14/14 - 0s - loss: 2.0879 - accuracy: 0.4249 - 103ms/epoch - 7ms/step\n",
      "Epoch 30/100\n",
      "14/14 - 0s - loss: 2.0428 - accuracy: 0.4225 - 103ms/epoch - 7ms/step\n",
      "Epoch 31/100\n",
      "14/14 - 0s - loss: 2.0223 - accuracy: 0.4272 - 99ms/epoch - 7ms/step\n",
      "Epoch 32/100\n",
      "14/14 - 0s - loss: 1.9683 - accuracy: 0.4507 - 100ms/epoch - 7ms/step\n",
      "Epoch 33/100\n",
      "14/14 - 0s - loss: 1.9147 - accuracy: 0.4695 - 105ms/epoch - 7ms/step\n",
      "Epoch 34/100\n",
      "14/14 - 0s - loss: 1.8798 - accuracy: 0.4836 - 102ms/epoch - 7ms/step\n",
      "Epoch 35/100\n",
      "14/14 - 0s - loss: 1.8603 - accuracy: 0.5117 - 102ms/epoch - 7ms/step\n",
      "Epoch 36/100\n",
      "14/14 - 0s - loss: 1.7955 - accuracy: 0.5164 - 100ms/epoch - 7ms/step\n",
      "Epoch 37/100\n",
      "14/14 - 0s - loss: 1.7540 - accuracy: 0.5423 - 102ms/epoch - 7ms/step\n",
      "Epoch 38/100\n",
      "14/14 - 0s - loss: 1.7003 - accuracy: 0.5610 - 101ms/epoch - 7ms/step\n",
      "Epoch 39/100\n",
      "14/14 - 0s - loss: 1.6680 - accuracy: 0.5634 - 102ms/epoch - 7ms/step\n",
      "Epoch 40/100\n",
      "14/14 - 0s - loss: 1.6370 - accuracy: 0.5775 - 103ms/epoch - 7ms/step\n",
      "Epoch 41/100\n",
      "14/14 - 0s - loss: 1.5972 - accuracy: 0.5986 - 105ms/epoch - 8ms/step\n",
      "Epoch 42/100\n",
      "14/14 - 0s - loss: 1.5729 - accuracy: 0.5892 - 102ms/epoch - 7ms/step\n",
      "Epoch 43/100\n",
      "14/14 - 0s - loss: 1.5245 - accuracy: 0.6033 - 110ms/epoch - 8ms/step\n",
      "Epoch 44/100\n",
      "14/14 - 0s - loss: 1.4969 - accuracy: 0.6127 - 103ms/epoch - 7ms/step\n",
      "Epoch 45/100\n",
      "14/14 - 0s - loss: 1.4541 - accuracy: 0.6432 - 108ms/epoch - 8ms/step\n",
      "Epoch 46/100\n",
      "14/14 - 0s - loss: 1.4131 - accuracy: 0.6455 - 100ms/epoch - 7ms/step\n",
      "Epoch 47/100\n",
      "14/14 - 0s - loss: 1.3622 - accuracy: 0.6502 - 112ms/epoch - 8ms/step\n",
      "Epoch 48/100\n",
      "14/14 - 0s - loss: 1.3289 - accuracy: 0.6925 - 102ms/epoch - 7ms/step\n",
      "Epoch 49/100\n",
      "14/14 - 0s - loss: 1.3007 - accuracy: 0.6901 - 104ms/epoch - 7ms/step\n",
      "Epoch 50/100\n",
      "14/14 - 0s - loss: 1.2654 - accuracy: 0.7019 - 100ms/epoch - 7ms/step\n",
      "Epoch 51/100\n",
      "14/14 - 0s - loss: 1.2219 - accuracy: 0.7113 - 103ms/epoch - 7ms/step\n",
      "Epoch 52/100\n",
      "14/14 - 0s - loss: 1.2053 - accuracy: 0.7324 - 102ms/epoch - 7ms/step\n",
      "Epoch 53/100\n",
      "14/14 - 0s - loss: 1.1537 - accuracy: 0.7371 - 99ms/epoch - 7ms/step\n",
      "Epoch 54/100\n",
      "14/14 - 0s - loss: 1.1516 - accuracy: 0.7183 - 105ms/epoch - 8ms/step\n",
      "Epoch 55/100\n",
      "14/14 - 0s - loss: 1.1106 - accuracy: 0.7465 - 100ms/epoch - 7ms/step\n",
      "Epoch 56/100\n",
      "14/14 - 0s - loss: 1.0787 - accuracy: 0.7559 - 102ms/epoch - 7ms/step\n",
      "Epoch 57/100\n",
      "14/14 - 0s - loss: 1.0333 - accuracy: 0.7700 - 101ms/epoch - 7ms/step\n",
      "Epoch 58/100\n",
      "14/14 - 0s - loss: 0.9986 - accuracy: 0.7746 - 98ms/epoch - 7ms/step\n",
      "Epoch 59/100\n",
      "14/14 - 0s - loss: 0.9689 - accuracy: 0.7840 - 107ms/epoch - 8ms/step\n",
      "Epoch 60/100\n",
      "14/14 - 0s - loss: 0.9349 - accuracy: 0.8075 - 103ms/epoch - 7ms/step\n",
      "Epoch 61/100\n",
      "14/14 - 0s - loss: 0.9084 - accuracy: 0.7981 - 107ms/epoch - 8ms/step\n",
      "Epoch 62/100\n",
      "14/14 - 0s - loss: 0.9167 - accuracy: 0.8028 - 104ms/epoch - 7ms/step\n",
      "Epoch 63/100\n",
      "14/14 - 0s - loss: 0.8802 - accuracy: 0.8310 - 104ms/epoch - 7ms/step\n",
      "Epoch 64/100\n",
      "14/14 - 0s - loss: 0.8317 - accuracy: 0.8263 - 105ms/epoch - 8ms/step\n",
      "Epoch 65/100\n",
      "14/14 - 0s - loss: 0.8186 - accuracy: 0.8380 - 103ms/epoch - 7ms/step\n",
      "Epoch 66/100\n",
      "14/14 - 0s - loss: 0.7931 - accuracy: 0.8451 - 104ms/epoch - 7ms/step\n",
      "Epoch 67/100\n",
      "14/14 - 0s - loss: 0.7695 - accuracy: 0.8427 - 104ms/epoch - 7ms/step\n",
      "Epoch 68/100\n",
      "14/14 - 0s - loss: 0.7347 - accuracy: 0.8638 - 103ms/epoch - 7ms/step\n",
      "Epoch 69/100\n",
      "14/14 - 0s - loss: 0.7085 - accuracy: 0.8756 - 108ms/epoch - 8ms/step\n",
      "Epoch 70/100\n",
      "14/14 - 0s - loss: 0.6901 - accuracy: 0.8826 - 102ms/epoch - 7ms/step\n",
      "Epoch 71/100\n",
      "14/14 - 0s - loss: 0.6737 - accuracy: 0.8826 - 101ms/epoch - 7ms/step\n",
      "Epoch 72/100\n",
      "14/14 - 0s - loss: 0.6462 - accuracy: 0.8850 - 101ms/epoch - 7ms/step\n",
      "Epoch 73/100\n",
      "14/14 - 0s - loss: 0.6227 - accuracy: 0.9061 - 102ms/epoch - 7ms/step\n",
      "Epoch 74/100\n",
      "14/14 - 0s - loss: 0.6015 - accuracy: 0.9085 - 100ms/epoch - 7ms/step\n",
      "Epoch 75/100\n",
      "14/14 - 0s - loss: 0.5811 - accuracy: 0.9272 - 103ms/epoch - 7ms/step\n",
      "Epoch 76/100\n",
      "14/14 - 0s - loss: 0.5681 - accuracy: 0.9178 - 97ms/epoch - 7ms/step\n",
      "Epoch 77/100\n",
      "14/14 - 0s - loss: 0.5562 - accuracy: 0.9272 - 103ms/epoch - 7ms/step\n",
      "Epoch 78/100\n",
      "14/14 - 0s - loss: 0.5362 - accuracy: 0.9319 - 103ms/epoch - 7ms/step\n",
      "Epoch 79/100\n",
      "14/14 - 0s - loss: 0.5195 - accuracy: 0.9225 - 101ms/epoch - 7ms/step\n",
      "Epoch 80/100\n",
      "14/14 - 0s - loss: 0.5090 - accuracy: 0.9319 - 97ms/epoch - 7ms/step\n",
      "Epoch 81/100\n",
      "14/14 - 0s - loss: 0.4837 - accuracy: 0.9390 - 101ms/epoch - 7ms/step\n",
      "Epoch 82/100\n",
      "14/14 - 0s - loss: 0.4802 - accuracy: 0.9366 - 100ms/epoch - 7ms/step\n",
      "Epoch 83/100\n",
      "14/14 - 0s - loss: 0.4632 - accuracy: 0.9390 - 100ms/epoch - 7ms/step\n",
      "Epoch 84/100\n",
      "14/14 - 0s - loss: 0.4490 - accuracy: 0.9437 - 101ms/epoch - 7ms/step\n",
      "Epoch 85/100\n",
      "14/14 - 0s - loss: 0.4330 - accuracy: 0.9437 - 100ms/epoch - 7ms/step\n",
      "Epoch 86/100\n",
      "14/14 - 0s - loss: 0.4117 - accuracy: 0.9601 - 98ms/epoch - 7ms/step\n",
      "Epoch 87/100\n",
      "14/14 - 0s - loss: 0.3996 - accuracy: 0.9554 - 98ms/epoch - 7ms/step\n",
      "Epoch 88/100\n",
      "14/14 - 0s - loss: 0.3869 - accuracy: 0.9601 - 99ms/epoch - 7ms/step\n",
      "Epoch 89/100\n",
      "14/14 - 0s - loss: 0.3835 - accuracy: 0.9460 - 101ms/epoch - 7ms/step\n",
      "Epoch 90/100\n",
      "14/14 - 0s - loss: 0.3612 - accuracy: 0.9624 - 98ms/epoch - 7ms/step\n",
      "Epoch 91/100\n",
      "14/14 - 0s - loss: 0.3608 - accuracy: 0.9671 - 102ms/epoch - 7ms/step\n",
      "Epoch 92/100\n",
      "14/14 - 0s - loss: 0.3446 - accuracy: 0.9624 - 100ms/epoch - 7ms/step\n",
      "Epoch 93/100\n",
      "14/14 - 0s - loss: 0.3357 - accuracy: 0.9671 - 99ms/epoch - 7ms/step\n",
      "Epoch 94/100\n",
      "14/14 - 0s - loss: 0.3274 - accuracy: 0.9648 - 99ms/epoch - 7ms/step\n",
      "Epoch 95/100\n",
      "14/14 - 0s - loss: 0.3161 - accuracy: 0.9601 - 97ms/epoch - 7ms/step\n",
      "Epoch 96/100\n",
      "14/14 - 0s - loss: 0.3130 - accuracy: 0.9695 - 108ms/epoch - 8ms/step\n",
      "Epoch 97/100\n",
      "14/14 - 0s - loss: 0.2977 - accuracy: 0.9648 - 101ms/epoch - 7ms/step\n",
      "Epoch 98/100\n",
      "14/14 - 0s - loss: 0.2893 - accuracy: 0.9695 - 98ms/epoch - 7ms/step\n",
      "Epoch 99/100\n",
      "14/14 - 0s - loss: 0.2807 - accuracy: 0.9718 - 101ms/epoch - 7ms/step\n",
      "Epoch 100/100\n",
      "14/14 - 0s - loss: 0.2780 - accuracy: 0.9671 - 100ms/epoch - 7ms/step\n"
     ]
    },
    {
     "data": {
      "text/plain": [
       "<keras.src.callbacks.History at 0x28a92014c10>"
      ]
     },
     "execution_count": 29,
     "metadata": {},
     "output_type": "execute_result"
    }
   ],
   "source": [
    "from tensorflow.keras.models import Sequential\n",
    "from tensorflow.keras.layers import Dense, LSTM\n",
    "from tensorflow.keras.preprocessing.sequence import pad_sequences\n",
    "\n",
    "hidden_units = 64\n",
    "\n",
    "model = Sequential()\n",
    "model.add(LSTM(hidden_units, input_shape=(X_data_one_hot.shape[1], X_data_one_hot.shape[2])))\n",
    "model.add(Dense(vocab_size, activation='softmax'))\n",
    "\n",
    "model.compile(loss='categorical_crossentropy', optimizer='adam', metrics=['accuracy'])\n",
    "model.fit(X_data_one_hot, y_data_one_hot, epochs=100, verbose=2)"
   ]
  },
  {
   "cell_type": "code",
   "execution_count": 30,
   "metadata": {},
   "outputs": [],
   "source": [
    "def sentence_generation(model, char_to_index, seq_length, seed_text, n):\n",
    "\n",
    "    # 초기 시퀀스\n",
    "    init_text = seed_text\n",
    "    sentence = ''\n",
    "\n",
    "    # 다음 문자 예측은 총 n번만 반복.\n",
    "    for _ in range(n):\n",
    "        encoded = [char_to_index[char] for char in seed_text] # 현재 시퀀스에 대한 정수 인코딩\n",
    "        encoded = pad_sequences([encoded], maxlen=seq_length, padding='pre') # 데이터에 대한 패딩\n",
    "        encoded = to_categorical(encoded, num_classes=len(char_to_index))\n",
    "\n",
    "        # 입력한 X(현재 시퀀스)에 대해서 y를 예측하고 y(예측한 문자)를 result에 저장.\n",
    "        result = model.predict(encoded, verbose=0)\n",
    "        result = np.argmax(result, axis=1)\n",
    "\n",
    "        for char, index in char_to_index.items():\n",
    "            if index == result:\n",
    "                break\n",
    "\n",
    "        # 현재 시퀀스 + 예측 문자를 현재 시퀀스로 변경\n",
    "        seed_text = seed_text + char\n",
    "\n",
    "        # 예측 문자를 문장에 저장\n",
    "        sentence = sentence + char\n",
    "\n",
    "    # n번의 다음 문자 예측이 끝나면 최종 완성된 문장을 리턴.\n",
    "    sentence = init_text + sentence\n",
    "    return sentence"
   ]
  },
  {
   "cell_type": "code",
   "execution_count": 31,
   "metadata": {},
   "outputs": [
    {
     "name": "stdout",
     "output_type": "stream",
     "text": [
      "I get on with life as a programmer, I like to oange. li t hee s saik t tooo nee.. llt weee\n"
     ]
    }
   ],
   "source": [
    "print(sentence_generation(model, char_to_index, 10, 'I get on w', 80))"
   ]
  }
 ],
 "metadata": {
  "kernelspec": {
   "display_name": "py_3_10_4",
   "language": "python",
   "name": "python3"
  },
  "language_info": {
   "codemirror_mode": {
    "name": "ipython",
    "version": 3
   },
   "file_extension": ".py",
   "mimetype": "text/x-python",
   "name": "python",
   "nbconvert_exporter": "python",
   "pygments_lexer": "ipython3",
   "version": "3.10.4"
  },
  "orig_nbformat": 4
 },
 "nbformat": 4,
 "nbformat_minor": 2
}
