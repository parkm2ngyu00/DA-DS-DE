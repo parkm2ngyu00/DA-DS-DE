{
 "cells": [
  {
   "cell_type": "markdown",
   "metadata": {},
   "source": [
    "### 스칼라"
   ]
  },
  {
   "cell_type": "code",
   "execution_count": 1,
   "metadata": {},
   "outputs": [
    {
     "data": {
      "text/html": [
       "<div>\n",
       "<style scoped>\n",
       "    .dataframe tbody tr th:only-of-type {\n",
       "        vertical-align: middle;\n",
       "    }\n",
       "\n",
       "    .dataframe tbody tr th {\n",
       "        vertical-align: top;\n",
       "    }\n",
       "\n",
       "    .dataframe thead th {\n",
       "        text-align: right;\n",
       "    }\n",
       "</style>\n",
       "<table border=\"1\" class=\"dataframe\">\n",
       "  <thead>\n",
       "    <tr style=\"text-align: right;\">\n",
       "      <th></th>\n",
       "      <th>CRIM</th>\n",
       "      <th>ZN</th>\n",
       "      <th>INDUS</th>\n",
       "      <th>CHAS</th>\n",
       "      <th>NOX</th>\n",
       "      <th>RM</th>\n",
       "      <th>AGE</th>\n",
       "      <th>DIS</th>\n",
       "      <th>RAD</th>\n",
       "      <th>TAX</th>\n",
       "      <th>PTRATIO</th>\n",
       "      <th>B</th>\n",
       "      <th>LSTAT</th>\n",
       "      <th>MEDV</th>\n",
       "    </tr>\n",
       "  </thead>\n",
       "  <tbody>\n",
       "    <tr>\n",
       "      <th>0</th>\n",
       "      <td>0.00632</td>\n",
       "      <td>18.0</td>\n",
       "      <td>2.31</td>\n",
       "      <td>0</td>\n",
       "      <td>0.538</td>\n",
       "      <td>6.575</td>\n",
       "      <td>65.2</td>\n",
       "      <td>4.0900</td>\n",
       "      <td>1</td>\n",
       "      <td>296</td>\n",
       "      <td>15.3</td>\n",
       "      <td>396.90</td>\n",
       "      <td>4.98</td>\n",
       "      <td>24.0</td>\n",
       "    </tr>\n",
       "    <tr>\n",
       "      <th>1</th>\n",
       "      <td>0.02731</td>\n",
       "      <td>0.0</td>\n",
       "      <td>7.07</td>\n",
       "      <td>0</td>\n",
       "      <td>0.469</td>\n",
       "      <td>6.421</td>\n",
       "      <td>78.9</td>\n",
       "      <td>4.9671</td>\n",
       "      <td>2</td>\n",
       "      <td>242</td>\n",
       "      <td>17.8</td>\n",
       "      <td>396.90</td>\n",
       "      <td>9.14</td>\n",
       "      <td>21.6</td>\n",
       "    </tr>\n",
       "    <tr>\n",
       "      <th>2</th>\n",
       "      <td>0.02729</td>\n",
       "      <td>0.0</td>\n",
       "      <td>7.07</td>\n",
       "      <td>0</td>\n",
       "      <td>0.469</td>\n",
       "      <td>7.185</td>\n",
       "      <td>61.1</td>\n",
       "      <td>4.9671</td>\n",
       "      <td>2</td>\n",
       "      <td>242</td>\n",
       "      <td>17.8</td>\n",
       "      <td>392.83</td>\n",
       "      <td>4.03</td>\n",
       "      <td>34.7</td>\n",
       "    </tr>\n",
       "    <tr>\n",
       "      <th>3</th>\n",
       "      <td>0.03237</td>\n",
       "      <td>0.0</td>\n",
       "      <td>2.18</td>\n",
       "      <td>0</td>\n",
       "      <td>0.458</td>\n",
       "      <td>6.998</td>\n",
       "      <td>45.8</td>\n",
       "      <td>6.0622</td>\n",
       "      <td>3</td>\n",
       "      <td>222</td>\n",
       "      <td>18.7</td>\n",
       "      <td>394.63</td>\n",
       "      <td>2.94</td>\n",
       "      <td>33.4</td>\n",
       "    </tr>\n",
       "    <tr>\n",
       "      <th>4</th>\n",
       "      <td>0.06905</td>\n",
       "      <td>0.0</td>\n",
       "      <td>2.18</td>\n",
       "      <td>0</td>\n",
       "      <td>0.458</td>\n",
       "      <td>7.147</td>\n",
       "      <td>54.2</td>\n",
       "      <td>6.0622</td>\n",
       "      <td>3</td>\n",
       "      <td>222</td>\n",
       "      <td>18.7</td>\n",
       "      <td>396.90</td>\n",
       "      <td>5.33</td>\n",
       "      <td>36.2</td>\n",
       "    </tr>\n",
       "    <tr>\n",
       "      <th>...</th>\n",
       "      <td>...</td>\n",
       "      <td>...</td>\n",
       "      <td>...</td>\n",
       "      <td>...</td>\n",
       "      <td>...</td>\n",
       "      <td>...</td>\n",
       "      <td>...</td>\n",
       "      <td>...</td>\n",
       "      <td>...</td>\n",
       "      <td>...</td>\n",
       "      <td>...</td>\n",
       "      <td>...</td>\n",
       "      <td>...</td>\n",
       "      <td>...</td>\n",
       "    </tr>\n",
       "    <tr>\n",
       "      <th>501</th>\n",
       "      <td>0.06263</td>\n",
       "      <td>0.0</td>\n",
       "      <td>11.93</td>\n",
       "      <td>0</td>\n",
       "      <td>0.573</td>\n",
       "      <td>6.593</td>\n",
       "      <td>69.1</td>\n",
       "      <td>2.4786</td>\n",
       "      <td>1</td>\n",
       "      <td>273</td>\n",
       "      <td>21.0</td>\n",
       "      <td>391.99</td>\n",
       "      <td>9.67</td>\n",
       "      <td>22.4</td>\n",
       "    </tr>\n",
       "    <tr>\n",
       "      <th>502</th>\n",
       "      <td>0.04527</td>\n",
       "      <td>0.0</td>\n",
       "      <td>11.93</td>\n",
       "      <td>0</td>\n",
       "      <td>0.573</td>\n",
       "      <td>6.120</td>\n",
       "      <td>76.7</td>\n",
       "      <td>2.2875</td>\n",
       "      <td>1</td>\n",
       "      <td>273</td>\n",
       "      <td>21.0</td>\n",
       "      <td>396.90</td>\n",
       "      <td>9.08</td>\n",
       "      <td>20.6</td>\n",
       "    </tr>\n",
       "    <tr>\n",
       "      <th>503</th>\n",
       "      <td>0.06076</td>\n",
       "      <td>0.0</td>\n",
       "      <td>11.93</td>\n",
       "      <td>0</td>\n",
       "      <td>0.573</td>\n",
       "      <td>6.976</td>\n",
       "      <td>91.0</td>\n",
       "      <td>2.1675</td>\n",
       "      <td>1</td>\n",
       "      <td>273</td>\n",
       "      <td>21.0</td>\n",
       "      <td>396.90</td>\n",
       "      <td>5.64</td>\n",
       "      <td>23.9</td>\n",
       "    </tr>\n",
       "    <tr>\n",
       "      <th>504</th>\n",
       "      <td>0.10959</td>\n",
       "      <td>0.0</td>\n",
       "      <td>11.93</td>\n",
       "      <td>0</td>\n",
       "      <td>0.573</td>\n",
       "      <td>6.794</td>\n",
       "      <td>89.3</td>\n",
       "      <td>2.3889</td>\n",
       "      <td>1</td>\n",
       "      <td>273</td>\n",
       "      <td>21.0</td>\n",
       "      <td>393.45</td>\n",
       "      <td>6.48</td>\n",
       "      <td>22.0</td>\n",
       "    </tr>\n",
       "    <tr>\n",
       "      <th>505</th>\n",
       "      <td>0.04741</td>\n",
       "      <td>0.0</td>\n",
       "      <td>11.93</td>\n",
       "      <td>0</td>\n",
       "      <td>0.573</td>\n",
       "      <td>6.030</td>\n",
       "      <td>80.8</td>\n",
       "      <td>2.5050</td>\n",
       "      <td>1</td>\n",
       "      <td>273</td>\n",
       "      <td>21.0</td>\n",
       "      <td>396.90</td>\n",
       "      <td>7.88</td>\n",
       "      <td>11.9</td>\n",
       "    </tr>\n",
       "  </tbody>\n",
       "</table>\n",
       "<p>506 rows × 14 columns</p>\n",
       "</div>"
      ],
      "text/plain": [
       "        CRIM    ZN  INDUS  CHAS    NOX     RM   AGE     DIS  RAD  TAX  \\\n",
       "0    0.00632  18.0   2.31     0  0.538  6.575  65.2  4.0900    1  296   \n",
       "1    0.02731   0.0   7.07     0  0.469  6.421  78.9  4.9671    2  242   \n",
       "2    0.02729   0.0   7.07     0  0.469  7.185  61.1  4.9671    2  242   \n",
       "3    0.03237   0.0   2.18     0  0.458  6.998  45.8  6.0622    3  222   \n",
       "4    0.06905   0.0   2.18     0  0.458  7.147  54.2  6.0622    3  222   \n",
       "..       ...   ...    ...   ...    ...    ...   ...     ...  ...  ...   \n",
       "501  0.06263   0.0  11.93     0  0.573  6.593  69.1  2.4786    1  273   \n",
       "502  0.04527   0.0  11.93     0  0.573  6.120  76.7  2.2875    1  273   \n",
       "503  0.06076   0.0  11.93     0  0.573  6.976  91.0  2.1675    1  273   \n",
       "504  0.10959   0.0  11.93     0  0.573  6.794  89.3  2.3889    1  273   \n",
       "505  0.04741   0.0  11.93     0  0.573  6.030  80.8  2.5050    1  273   \n",
       "\n",
       "     PTRATIO       B  LSTAT  MEDV  \n",
       "0       15.3  396.90   4.98  24.0  \n",
       "1       17.8  396.90   9.14  21.6  \n",
       "2       17.8  392.83   4.03  34.7  \n",
       "3       18.7  394.63   2.94  33.4  \n",
       "4       18.7  396.90   5.33  36.2  \n",
       "..       ...     ...    ...   ...  \n",
       "501     21.0  391.99   9.67  22.4  \n",
       "502     21.0  396.90   9.08  20.6  \n",
       "503     21.0  396.90   5.64  23.9  \n",
       "504     21.0  393.45   6.48  22.0  \n",
       "505     21.0  396.90   7.88  11.9  \n",
       "\n",
       "[506 rows x 14 columns]"
      ]
     },
     "execution_count": 1,
     "metadata": {},
     "output_type": "execute_result"
    }
   ],
   "source": [
    "import numpy as np\n",
    "import pandas as pd\n",
    "\n",
    "df = pd.read_csv('../data/house_prices.csv')\n",
    "df"
   ]
  },
  {
   "cell_type": "code",
   "execution_count": 2,
   "metadata": {},
   "outputs": [
    {
     "data": {
      "text/plain": [
       "0.00632"
      ]
     },
     "execution_count": 2,
     "metadata": {},
     "output_type": "execute_result"
    }
   ],
   "source": [
    "df.iloc[0, 0]"
   ]
  },
  {
   "cell_type": "code",
   "execution_count": 5,
   "metadata": {},
   "outputs": [
    {
     "data": {
      "text/plain": [
       "0.458"
      ]
     },
     "execution_count": 5,
     "metadata": {},
     "output_type": "execute_result"
    }
   ],
   "source": [
    "df.iloc[4, 4]"
   ]
  },
  {
   "cell_type": "markdown",
   "metadata": {},
   "source": [
    "### 벡터"
   ]
  },
  {
   "cell_type": "code",
   "execution_count": 6,
   "metadata": {},
   "outputs": [
    {
     "data": {
      "text/plain": [
       "0      24.0\n",
       "1      21.6\n",
       "2      34.7\n",
       "3      33.4\n",
       "4      36.2\n",
       "       ... \n",
       "501    22.4\n",
       "502    20.6\n",
       "503    23.9\n",
       "504    22.0\n",
       "505    11.9\n",
       "Name: MEDV, Length: 506, dtype: float64"
      ]
     },
     "execution_count": 6,
     "metadata": {},
     "output_type": "execute_result"
    }
   ],
   "source": [
    "df.iloc[:, -1]"
   ]
  },
  {
   "cell_type": "code",
   "execution_count": 7,
   "metadata": {},
   "outputs": [
    {
     "data": {
      "text/plain": [
       "0      0.00632\n",
       "1      0.02731\n",
       "2      0.02729\n",
       "3      0.03237\n",
       "4      0.06905\n",
       "        ...   \n",
       "501    0.06263\n",
       "502    0.04527\n",
       "503    0.06076\n",
       "504    0.10959\n",
       "505    0.04741\n",
       "Name: CRIM, Length: 506, dtype: float64"
      ]
     },
     "execution_count": 7,
     "metadata": {},
     "output_type": "execute_result"
    }
   ],
   "source": [
    "df['CRIM']"
   ]
  },
  {
   "cell_type": "code",
   "execution_count": 8,
   "metadata": {},
   "outputs": [
    {
     "data": {
      "text/plain": [
       "0      0.54432\n",
       "1      0.49631\n",
       "2      0.49629\n",
       "3      0.49037\n",
       "4      0.52705\n",
       "        ...   \n",
       "501    0.63563\n",
       "502    0.61827\n",
       "503    0.63376\n",
       "504    0.68259\n",
       "505    0.62041\n",
       "Length: 506, dtype: float64"
      ]
     },
     "execution_count": 8,
     "metadata": {},
     "output_type": "execute_result"
    }
   ],
   "source": [
    "df['CRIM'] + df['NOX']"
   ]
  },
  {
   "cell_type": "markdown",
   "metadata": {},
   "source": [
    "### 행렬"
   ]
  },
  {
   "cell_type": "markdown",
   "metadata": {},
   "source": [
    "#### 전치 행렬 & 대칭 행렬 실습"
   ]
  },
  {
   "cell_type": "code",
   "execution_count": 9,
   "metadata": {},
   "outputs": [
    {
     "data": {
      "text/plain": [
       "Index(['CRIM', 'ZN', 'INDUS', 'CHAS', 'NOX', 'RM', 'AGE', 'DIS', 'RAD', 'TAX',\n",
       "       'PTRATIO', 'B', 'LSTAT', 'MEDV'],\n",
       "      dtype='object')"
      ]
     },
     "execution_count": 9,
     "metadata": {},
     "output_type": "execute_result"
    }
   ],
   "source": [
    "df.columns"
   ]
  },
  {
   "cell_type": "code",
   "execution_count": 10,
   "metadata": {},
   "outputs": [
    {
     "data": {
      "text/html": [
       "<div>\n",
       "<style scoped>\n",
       "    .dataframe tbody tr th:only-of-type {\n",
       "        vertical-align: middle;\n",
       "    }\n",
       "\n",
       "    .dataframe tbody tr th {\n",
       "        vertical-align: top;\n",
       "    }\n",
       "\n",
       "    .dataframe thead th {\n",
       "        text-align: right;\n",
       "    }\n",
       "</style>\n",
       "<table border=\"1\" class=\"dataframe\">\n",
       "  <thead>\n",
       "    <tr style=\"text-align: right;\">\n",
       "      <th></th>\n",
       "      <th>CRIM</th>\n",
       "      <th>NOX</th>\n",
       "      <th>RM</th>\n",
       "      <th>AGE</th>\n",
       "      <th>TAX</th>\n",
       "    </tr>\n",
       "  </thead>\n",
       "  <tbody>\n",
       "    <tr>\n",
       "      <th>0</th>\n",
       "      <td>0.00632</td>\n",
       "      <td>0.538</td>\n",
       "      <td>6.575</td>\n",
       "      <td>65.2</td>\n",
       "      <td>296</td>\n",
       "    </tr>\n",
       "    <tr>\n",
       "      <th>1</th>\n",
       "      <td>0.02731</td>\n",
       "      <td>0.469</td>\n",
       "      <td>6.421</td>\n",
       "      <td>78.9</td>\n",
       "      <td>242</td>\n",
       "    </tr>\n",
       "    <tr>\n",
       "      <th>2</th>\n",
       "      <td>0.02729</td>\n",
       "      <td>0.469</td>\n",
       "      <td>7.185</td>\n",
       "      <td>61.1</td>\n",
       "      <td>242</td>\n",
       "    </tr>\n",
       "    <tr>\n",
       "      <th>3</th>\n",
       "      <td>0.03237</td>\n",
       "      <td>0.458</td>\n",
       "      <td>6.998</td>\n",
       "      <td>45.8</td>\n",
       "      <td>222</td>\n",
       "    </tr>\n",
       "    <tr>\n",
       "      <th>4</th>\n",
       "      <td>0.06905</td>\n",
       "      <td>0.458</td>\n",
       "      <td>7.147</td>\n",
       "      <td>54.2</td>\n",
       "      <td>222</td>\n",
       "    </tr>\n",
       "    <tr>\n",
       "      <th>...</th>\n",
       "      <td>...</td>\n",
       "      <td>...</td>\n",
       "      <td>...</td>\n",
       "      <td>...</td>\n",
       "      <td>...</td>\n",
       "    </tr>\n",
       "    <tr>\n",
       "      <th>501</th>\n",
       "      <td>0.06263</td>\n",
       "      <td>0.573</td>\n",
       "      <td>6.593</td>\n",
       "      <td>69.1</td>\n",
       "      <td>273</td>\n",
       "    </tr>\n",
       "    <tr>\n",
       "      <th>502</th>\n",
       "      <td>0.04527</td>\n",
       "      <td>0.573</td>\n",
       "      <td>6.120</td>\n",
       "      <td>76.7</td>\n",
       "      <td>273</td>\n",
       "    </tr>\n",
       "    <tr>\n",
       "      <th>503</th>\n",
       "      <td>0.06076</td>\n",
       "      <td>0.573</td>\n",
       "      <td>6.976</td>\n",
       "      <td>91.0</td>\n",
       "      <td>273</td>\n",
       "    </tr>\n",
       "    <tr>\n",
       "      <th>504</th>\n",
       "      <td>0.10959</td>\n",
       "      <td>0.573</td>\n",
       "      <td>6.794</td>\n",
       "      <td>89.3</td>\n",
       "      <td>273</td>\n",
       "    </tr>\n",
       "    <tr>\n",
       "      <th>505</th>\n",
       "      <td>0.04741</td>\n",
       "      <td>0.573</td>\n",
       "      <td>6.030</td>\n",
       "      <td>80.8</td>\n",
       "      <td>273</td>\n",
       "    </tr>\n",
       "  </tbody>\n",
       "</table>\n",
       "<p>506 rows × 5 columns</p>\n",
       "</div>"
      ],
      "text/plain": [
       "        CRIM    NOX     RM   AGE  TAX\n",
       "0    0.00632  0.538  6.575  65.2  296\n",
       "1    0.02731  0.469  6.421  78.9  242\n",
       "2    0.02729  0.469  7.185  61.1  242\n",
       "3    0.03237  0.458  6.998  45.8  222\n",
       "4    0.06905  0.458  7.147  54.2  222\n",
       "..       ...    ...    ...   ...  ...\n",
       "501  0.06263  0.573  6.593  69.1  273\n",
       "502  0.04527  0.573  6.120  76.7  273\n",
       "503  0.06076  0.573  6.976  91.0  273\n",
       "504  0.10959  0.573  6.794  89.3  273\n",
       "505  0.04741  0.573  6.030  80.8  273\n",
       "\n",
       "[506 rows x 5 columns]"
      ]
     },
     "execution_count": 10,
     "metadata": {},
     "output_type": "execute_result"
    }
   ],
   "source": [
    "X = df[['CRIM', 'NOX', 'RM', 'AGE', 'TAX']]\n",
    "X"
   ]
  },
  {
   "cell_type": "code",
   "execution_count": 13,
   "metadata": {},
   "outputs": [
    {
     "data": {
      "text/html": [
       "<div>\n",
       "<style scoped>\n",
       "    .dataframe tbody tr th:only-of-type {\n",
       "        vertical-align: middle;\n",
       "    }\n",
       "\n",
       "    .dataframe tbody tr th {\n",
       "        vertical-align: top;\n",
       "    }\n",
       "\n",
       "    .dataframe thead th {\n",
       "        text-align: right;\n",
       "    }\n",
       "</style>\n",
       "<table border=\"1\" class=\"dataframe\">\n",
       "  <thead>\n",
       "    <tr style=\"text-align: right;\">\n",
       "      <th></th>\n",
       "      <th>0</th>\n",
       "      <th>1</th>\n",
       "      <th>2</th>\n",
       "      <th>3</th>\n",
       "      <th>4</th>\n",
       "      <th>5</th>\n",
       "      <th>6</th>\n",
       "      <th>7</th>\n",
       "      <th>8</th>\n",
       "      <th>9</th>\n",
       "      <th>...</th>\n",
       "      <th>496</th>\n",
       "      <th>497</th>\n",
       "      <th>498</th>\n",
       "      <th>499</th>\n",
       "      <th>500</th>\n",
       "      <th>501</th>\n",
       "      <th>502</th>\n",
       "      <th>503</th>\n",
       "      <th>504</th>\n",
       "      <th>505</th>\n",
       "    </tr>\n",
       "  </thead>\n",
       "  <tbody>\n",
       "    <tr>\n",
       "      <th>CRIM</th>\n",
       "      <td>0.00632</td>\n",
       "      <td>0.02731</td>\n",
       "      <td>0.02729</td>\n",
       "      <td>0.03237</td>\n",
       "      <td>0.06905</td>\n",
       "      <td>0.02985</td>\n",
       "      <td>0.08829</td>\n",
       "      <td>0.14455</td>\n",
       "      <td>0.21124</td>\n",
       "      <td>0.17004</td>\n",
       "      <td>...</td>\n",
       "      <td>0.2896</td>\n",
       "      <td>0.26838</td>\n",
       "      <td>0.23912</td>\n",
       "      <td>0.17783</td>\n",
       "      <td>0.22438</td>\n",
       "      <td>0.06263</td>\n",
       "      <td>0.04527</td>\n",
       "      <td>0.06076</td>\n",
       "      <td>0.10959</td>\n",
       "      <td>0.04741</td>\n",
       "    </tr>\n",
       "    <tr>\n",
       "      <th>NOX</th>\n",
       "      <td>0.53800</td>\n",
       "      <td>0.46900</td>\n",
       "      <td>0.46900</td>\n",
       "      <td>0.45800</td>\n",
       "      <td>0.45800</td>\n",
       "      <td>0.45800</td>\n",
       "      <td>0.52400</td>\n",
       "      <td>0.52400</td>\n",
       "      <td>0.52400</td>\n",
       "      <td>0.52400</td>\n",
       "      <td>...</td>\n",
       "      <td>0.5850</td>\n",
       "      <td>0.58500</td>\n",
       "      <td>0.58500</td>\n",
       "      <td>0.58500</td>\n",
       "      <td>0.58500</td>\n",
       "      <td>0.57300</td>\n",
       "      <td>0.57300</td>\n",
       "      <td>0.57300</td>\n",
       "      <td>0.57300</td>\n",
       "      <td>0.57300</td>\n",
       "    </tr>\n",
       "    <tr>\n",
       "      <th>RM</th>\n",
       "      <td>6.57500</td>\n",
       "      <td>6.42100</td>\n",
       "      <td>7.18500</td>\n",
       "      <td>6.99800</td>\n",
       "      <td>7.14700</td>\n",
       "      <td>6.43000</td>\n",
       "      <td>6.01200</td>\n",
       "      <td>6.17200</td>\n",
       "      <td>5.63100</td>\n",
       "      <td>6.00400</td>\n",
       "      <td>...</td>\n",
       "      <td>5.3900</td>\n",
       "      <td>5.79400</td>\n",
       "      <td>6.01900</td>\n",
       "      <td>5.56900</td>\n",
       "      <td>6.02700</td>\n",
       "      <td>6.59300</td>\n",
       "      <td>6.12000</td>\n",
       "      <td>6.97600</td>\n",
       "      <td>6.79400</td>\n",
       "      <td>6.03000</td>\n",
       "    </tr>\n",
       "    <tr>\n",
       "      <th>AGE</th>\n",
       "      <td>65.20000</td>\n",
       "      <td>78.90000</td>\n",
       "      <td>61.10000</td>\n",
       "      <td>45.80000</td>\n",
       "      <td>54.20000</td>\n",
       "      <td>58.70000</td>\n",
       "      <td>66.60000</td>\n",
       "      <td>96.10000</td>\n",
       "      <td>100.00000</td>\n",
       "      <td>85.90000</td>\n",
       "      <td>...</td>\n",
       "      <td>72.9000</td>\n",
       "      <td>70.60000</td>\n",
       "      <td>65.30000</td>\n",
       "      <td>73.50000</td>\n",
       "      <td>79.70000</td>\n",
       "      <td>69.10000</td>\n",
       "      <td>76.70000</td>\n",
       "      <td>91.00000</td>\n",
       "      <td>89.30000</td>\n",
       "      <td>80.80000</td>\n",
       "    </tr>\n",
       "    <tr>\n",
       "      <th>TAX</th>\n",
       "      <td>296.00000</td>\n",
       "      <td>242.00000</td>\n",
       "      <td>242.00000</td>\n",
       "      <td>222.00000</td>\n",
       "      <td>222.00000</td>\n",
       "      <td>222.00000</td>\n",
       "      <td>311.00000</td>\n",
       "      <td>311.00000</td>\n",
       "      <td>311.00000</td>\n",
       "      <td>311.00000</td>\n",
       "      <td>...</td>\n",
       "      <td>391.0000</td>\n",
       "      <td>391.00000</td>\n",
       "      <td>391.00000</td>\n",
       "      <td>391.00000</td>\n",
       "      <td>391.00000</td>\n",
       "      <td>273.00000</td>\n",
       "      <td>273.00000</td>\n",
       "      <td>273.00000</td>\n",
       "      <td>273.00000</td>\n",
       "      <td>273.00000</td>\n",
       "    </tr>\n",
       "  </tbody>\n",
       "</table>\n",
       "<p>5 rows × 506 columns</p>\n",
       "</div>"
      ],
      "text/plain": [
       "            0          1          2          3          4          5    \\\n",
       "CRIM    0.00632    0.02731    0.02729    0.03237    0.06905    0.02985   \n",
       "NOX     0.53800    0.46900    0.46900    0.45800    0.45800    0.45800   \n",
       "RM      6.57500    6.42100    7.18500    6.99800    7.14700    6.43000   \n",
       "AGE    65.20000   78.90000   61.10000   45.80000   54.20000   58.70000   \n",
       "TAX   296.00000  242.00000  242.00000  222.00000  222.00000  222.00000   \n",
       "\n",
       "            6          7          8          9    ...       496        497  \\\n",
       "CRIM    0.08829    0.14455    0.21124    0.17004  ...    0.2896    0.26838   \n",
       "NOX     0.52400    0.52400    0.52400    0.52400  ...    0.5850    0.58500   \n",
       "RM      6.01200    6.17200    5.63100    6.00400  ...    5.3900    5.79400   \n",
       "AGE    66.60000   96.10000  100.00000   85.90000  ...   72.9000   70.60000   \n",
       "TAX   311.00000  311.00000  311.00000  311.00000  ...  391.0000  391.00000   \n",
       "\n",
       "            498        499        500        501        502        503  \\\n",
       "CRIM    0.23912    0.17783    0.22438    0.06263    0.04527    0.06076   \n",
       "NOX     0.58500    0.58500    0.58500    0.57300    0.57300    0.57300   \n",
       "RM      6.01900    5.56900    6.02700    6.59300    6.12000    6.97600   \n",
       "AGE    65.30000   73.50000   79.70000   69.10000   76.70000   91.00000   \n",
       "TAX   391.00000  391.00000  391.00000  273.00000  273.00000  273.00000   \n",
       "\n",
       "            504        505  \n",
       "CRIM    0.10959    0.04741  \n",
       "NOX     0.57300    0.57300  \n",
       "RM      6.79400    6.03000  \n",
       "AGE    89.30000   80.80000  \n",
       "TAX   273.00000  273.00000  \n",
       "\n",
       "[5 rows x 506 columns]"
      ]
     },
     "execution_count": 13,
     "metadata": {},
     "output_type": "execute_result"
    }
   ],
   "source": [
    "X_t = np.transpose(X)\n",
    "X_t"
   ]
  },
  {
   "cell_type": "code",
   "execution_count": 14,
   "metadata": {},
   "outputs": [
    {
     "data": {
      "text/html": [
       "<div>\n",
       "<style scoped>\n",
       "    .dataframe tbody tr th:only-of-type {\n",
       "        vertical-align: middle;\n",
       "    }\n",
       "\n",
       "    .dataframe tbody tr th {\n",
       "        vertical-align: top;\n",
       "    }\n",
       "\n",
       "    .dataframe thead th {\n",
       "        text-align: right;\n",
       "    }\n",
       "</style>\n",
       "<table border=\"1\" class=\"dataframe\">\n",
       "  <thead>\n",
       "    <tr style=\"text-align: right;\">\n",
       "      <th></th>\n",
       "      <th>0</th>\n",
       "      <th>1</th>\n",
       "      <th>2</th>\n",
       "      <th>3</th>\n",
       "      <th>4</th>\n",
       "      <th>5</th>\n",
       "      <th>6</th>\n",
       "      <th>7</th>\n",
       "      <th>8</th>\n",
       "      <th>9</th>\n",
       "      <th>...</th>\n",
       "      <th>496</th>\n",
       "      <th>497</th>\n",
       "      <th>498</th>\n",
       "      <th>499</th>\n",
       "      <th>500</th>\n",
       "      <th>501</th>\n",
       "      <th>502</th>\n",
       "      <th>503</th>\n",
       "      <th>504</th>\n",
       "      <th>505</th>\n",
       "    </tr>\n",
       "  </thead>\n",
       "  <tbody>\n",
       "    <tr>\n",
       "      <th>CRIM</th>\n",
       "      <td>0.00632</td>\n",
       "      <td>0.02731</td>\n",
       "      <td>0.02729</td>\n",
       "      <td>0.03237</td>\n",
       "      <td>0.06905</td>\n",
       "      <td>0.02985</td>\n",
       "      <td>0.08829</td>\n",
       "      <td>0.14455</td>\n",
       "      <td>0.21124</td>\n",
       "      <td>0.17004</td>\n",
       "      <td>...</td>\n",
       "      <td>0.2896</td>\n",
       "      <td>0.26838</td>\n",
       "      <td>0.23912</td>\n",
       "      <td>0.17783</td>\n",
       "      <td>0.22438</td>\n",
       "      <td>0.06263</td>\n",
       "      <td>0.04527</td>\n",
       "      <td>0.06076</td>\n",
       "      <td>0.10959</td>\n",
       "      <td>0.04741</td>\n",
       "    </tr>\n",
       "    <tr>\n",
       "      <th>NOX</th>\n",
       "      <td>0.53800</td>\n",
       "      <td>0.46900</td>\n",
       "      <td>0.46900</td>\n",
       "      <td>0.45800</td>\n",
       "      <td>0.45800</td>\n",
       "      <td>0.45800</td>\n",
       "      <td>0.52400</td>\n",
       "      <td>0.52400</td>\n",
       "      <td>0.52400</td>\n",
       "      <td>0.52400</td>\n",
       "      <td>...</td>\n",
       "      <td>0.5850</td>\n",
       "      <td>0.58500</td>\n",
       "      <td>0.58500</td>\n",
       "      <td>0.58500</td>\n",
       "      <td>0.58500</td>\n",
       "      <td>0.57300</td>\n",
       "      <td>0.57300</td>\n",
       "      <td>0.57300</td>\n",
       "      <td>0.57300</td>\n",
       "      <td>0.57300</td>\n",
       "    </tr>\n",
       "    <tr>\n",
       "      <th>RM</th>\n",
       "      <td>6.57500</td>\n",
       "      <td>6.42100</td>\n",
       "      <td>7.18500</td>\n",
       "      <td>6.99800</td>\n",
       "      <td>7.14700</td>\n",
       "      <td>6.43000</td>\n",
       "      <td>6.01200</td>\n",
       "      <td>6.17200</td>\n",
       "      <td>5.63100</td>\n",
       "      <td>6.00400</td>\n",
       "      <td>...</td>\n",
       "      <td>5.3900</td>\n",
       "      <td>5.79400</td>\n",
       "      <td>6.01900</td>\n",
       "      <td>5.56900</td>\n",
       "      <td>6.02700</td>\n",
       "      <td>6.59300</td>\n",
       "      <td>6.12000</td>\n",
       "      <td>6.97600</td>\n",
       "      <td>6.79400</td>\n",
       "      <td>6.03000</td>\n",
       "    </tr>\n",
       "    <tr>\n",
       "      <th>AGE</th>\n",
       "      <td>65.20000</td>\n",
       "      <td>78.90000</td>\n",
       "      <td>61.10000</td>\n",
       "      <td>45.80000</td>\n",
       "      <td>54.20000</td>\n",
       "      <td>58.70000</td>\n",
       "      <td>66.60000</td>\n",
       "      <td>96.10000</td>\n",
       "      <td>100.00000</td>\n",
       "      <td>85.90000</td>\n",
       "      <td>...</td>\n",
       "      <td>72.9000</td>\n",
       "      <td>70.60000</td>\n",
       "      <td>65.30000</td>\n",
       "      <td>73.50000</td>\n",
       "      <td>79.70000</td>\n",
       "      <td>69.10000</td>\n",
       "      <td>76.70000</td>\n",
       "      <td>91.00000</td>\n",
       "      <td>89.30000</td>\n",
       "      <td>80.80000</td>\n",
       "    </tr>\n",
       "    <tr>\n",
       "      <th>TAX</th>\n",
       "      <td>296.00000</td>\n",
       "      <td>242.00000</td>\n",
       "      <td>242.00000</td>\n",
       "      <td>222.00000</td>\n",
       "      <td>222.00000</td>\n",
       "      <td>222.00000</td>\n",
       "      <td>311.00000</td>\n",
       "      <td>311.00000</td>\n",
       "      <td>311.00000</td>\n",
       "      <td>311.00000</td>\n",
       "      <td>...</td>\n",
       "      <td>391.0000</td>\n",
       "      <td>391.00000</td>\n",
       "      <td>391.00000</td>\n",
       "      <td>391.00000</td>\n",
       "      <td>391.00000</td>\n",
       "      <td>273.00000</td>\n",
       "      <td>273.00000</td>\n",
       "      <td>273.00000</td>\n",
       "      <td>273.00000</td>\n",
       "      <td>273.00000</td>\n",
       "    </tr>\n",
       "  </tbody>\n",
       "</table>\n",
       "<p>5 rows × 506 columns</p>\n",
       "</div>"
      ],
      "text/plain": [
       "            0          1          2          3          4          5    \\\n",
       "CRIM    0.00632    0.02731    0.02729    0.03237    0.06905    0.02985   \n",
       "NOX     0.53800    0.46900    0.46900    0.45800    0.45800    0.45800   \n",
       "RM      6.57500    6.42100    7.18500    6.99800    7.14700    6.43000   \n",
       "AGE    65.20000   78.90000   61.10000   45.80000   54.20000   58.70000   \n",
       "TAX   296.00000  242.00000  242.00000  222.00000  222.00000  222.00000   \n",
       "\n",
       "            6          7          8          9    ...       496        497  \\\n",
       "CRIM    0.08829    0.14455    0.21124    0.17004  ...    0.2896    0.26838   \n",
       "NOX     0.52400    0.52400    0.52400    0.52400  ...    0.5850    0.58500   \n",
       "RM      6.01200    6.17200    5.63100    6.00400  ...    5.3900    5.79400   \n",
       "AGE    66.60000   96.10000  100.00000   85.90000  ...   72.9000   70.60000   \n",
       "TAX   311.00000  311.00000  311.00000  311.00000  ...  391.0000  391.00000   \n",
       "\n",
       "            498        499        500        501        502        503  \\\n",
       "CRIM    0.23912    0.17783    0.22438    0.06263    0.04527    0.06076   \n",
       "NOX     0.58500    0.58500    0.58500    0.57300    0.57300    0.57300   \n",
       "RM      6.01900    5.56900    6.02700    6.59300    6.12000    6.97600   \n",
       "AGE    65.30000   73.50000   79.70000   69.10000   76.70000   91.00000   \n",
       "TAX   391.00000  391.00000  391.00000  273.00000  273.00000  273.00000   \n",
       "\n",
       "            504        505  \n",
       "CRIM    0.10959    0.04741  \n",
       "NOX     0.57300    0.57300  \n",
       "RM      6.79400    6.03000  \n",
       "AGE    89.30000   80.80000  \n",
       "TAX   273.00000  273.00000  \n",
       "\n",
       "[5 rows x 506 columns]"
      ]
     },
     "execution_count": 14,
     "metadata": {},
     "output_type": "execute_result"
    }
   ],
   "source": [
    "X_t = X.T\n",
    "X_t"
   ]
  },
  {
   "cell_type": "markdown",
   "metadata": {},
   "source": [
    "#### 행렬 곱 실습"
   ]
  },
  {
   "cell_type": "code",
   "execution_count": 15,
   "metadata": {},
   "outputs": [
    {
     "data": {
      "text/html": [
       "<div>\n",
       "<style scoped>\n",
       "    .dataframe tbody tr th:only-of-type {\n",
       "        vertical-align: middle;\n",
       "    }\n",
       "\n",
       "    .dataframe tbody tr th {\n",
       "        vertical-align: top;\n",
       "    }\n",
       "\n",
       "    .dataframe thead th {\n",
       "        text-align: right;\n",
       "    }\n",
       "</style>\n",
       "<table border=\"1\" class=\"dataframe\">\n",
       "  <thead>\n",
       "    <tr style=\"text-align: right;\">\n",
       "      <th></th>\n",
       "      <th>CRIM</th>\n",
       "      <th>NOX</th>\n",
       "      <th>RM</th>\n",
       "      <th>AGE</th>\n",
       "      <th>TAX</th>\n",
       "    </tr>\n",
       "  </thead>\n",
       "  <tbody>\n",
       "    <tr>\n",
       "      <th>CRIM</th>\n",
       "      <td>4.397034e+04</td>\n",
       "      <td>1226.123170</td>\n",
       "      <td>1.082195e+04</td>\n",
       "      <td>1.685150e+05</td>\n",
       "      <td>1.173073e+06</td>\n",
       "    </tr>\n",
       "    <tr>\n",
       "      <th>NOX</th>\n",
       "      <td>1.226123e+03</td>\n",
       "      <td>162.470380</td>\n",
       "      <td>1.751519e+03</td>\n",
       "      <td>2.045220e+04</td>\n",
       "      <td>1.211706e+05</td>\n",
       "    </tr>\n",
       "    <tr>\n",
       "      <th>RM</th>\n",
       "      <td>1.082195e+04</td>\n",
       "      <td>1751.519414</td>\n",
       "      <td>2.023460e+04</td>\n",
       "      <td>2.156702e+05</td>\n",
       "      <td>1.280740e+06</td>\n",
       "    </tr>\n",
       "    <tr>\n",
       "      <th>AGE</th>\n",
       "      <td>1.685150e+05</td>\n",
       "      <td>20452.201630</td>\n",
       "      <td>2.156702e+05</td>\n",
       "      <td>2.779615e+06</td>\n",
       "      <td>1.537874e+07</td>\n",
       "    </tr>\n",
       "    <tr>\n",
       "      <th>TAX</th>\n",
       "      <td>1.173073e+06</td>\n",
       "      <td>121170.623200</td>\n",
       "      <td>1.280740e+06</td>\n",
       "      <td>1.537874e+07</td>\n",
       "      <td>9.867314e+07</td>\n",
       "    </tr>\n",
       "  </tbody>\n",
       "</table>\n",
       "</div>"
      ],
      "text/plain": [
       "              CRIM            NOX            RM           AGE           TAX\n",
       "CRIM  4.397034e+04    1226.123170  1.082195e+04  1.685150e+05  1.173073e+06\n",
       "NOX   1.226123e+03     162.470380  1.751519e+03  2.045220e+04  1.211706e+05\n",
       "RM    1.082195e+04    1751.519414  2.023460e+04  2.156702e+05  1.280740e+06\n",
       "AGE   1.685150e+05   20452.201630  2.156702e+05  2.779615e+06  1.537874e+07\n",
       "TAX   1.173073e+06  121170.623200  1.280740e+06  1.537874e+07  9.867314e+07"
      ]
     },
     "execution_count": 15,
     "metadata": {},
     "output_type": "execute_result"
    }
   ],
   "source": [
    "X_t.dot(X)"
   ]
  },
  {
   "cell_type": "code",
   "execution_count": 16,
   "metadata": {},
   "outputs": [
    {
     "data": {
      "text/html": [
       "<div>\n",
       "<style scoped>\n",
       "    .dataframe tbody tr th:only-of-type {\n",
       "        vertical-align: middle;\n",
       "    }\n",
       "\n",
       "    .dataframe tbody tr th {\n",
       "        vertical-align: top;\n",
       "    }\n",
       "\n",
       "    .dataframe thead th {\n",
       "        text-align: right;\n",
       "    }\n",
       "</style>\n",
       "<table border=\"1\" class=\"dataframe\">\n",
       "  <thead>\n",
       "    <tr style=\"text-align: right;\">\n",
       "      <th></th>\n",
       "      <th>CRIM</th>\n",
       "      <th>NOX</th>\n",
       "      <th>RM</th>\n",
       "      <th>AGE</th>\n",
       "      <th>TAX</th>\n",
       "    </tr>\n",
       "  </thead>\n",
       "  <tbody>\n",
       "    <tr>\n",
       "      <th>CRIM</th>\n",
       "      <td>4.397034e+04</td>\n",
       "      <td>1226.123170</td>\n",
       "      <td>1.082195e+04</td>\n",
       "      <td>1.685150e+05</td>\n",
       "      <td>1.173073e+06</td>\n",
       "    </tr>\n",
       "    <tr>\n",
       "      <th>NOX</th>\n",
       "      <td>1.226123e+03</td>\n",
       "      <td>162.470380</td>\n",
       "      <td>1.751519e+03</td>\n",
       "      <td>2.045220e+04</td>\n",
       "      <td>1.211706e+05</td>\n",
       "    </tr>\n",
       "    <tr>\n",
       "      <th>RM</th>\n",
       "      <td>1.082195e+04</td>\n",
       "      <td>1751.519414</td>\n",
       "      <td>2.023460e+04</td>\n",
       "      <td>2.156702e+05</td>\n",
       "      <td>1.280740e+06</td>\n",
       "    </tr>\n",
       "    <tr>\n",
       "      <th>AGE</th>\n",
       "      <td>1.685150e+05</td>\n",
       "      <td>20452.201630</td>\n",
       "      <td>2.156702e+05</td>\n",
       "      <td>2.779615e+06</td>\n",
       "      <td>1.537874e+07</td>\n",
       "    </tr>\n",
       "    <tr>\n",
       "      <th>TAX</th>\n",
       "      <td>1.173073e+06</td>\n",
       "      <td>121170.623200</td>\n",
       "      <td>1.280740e+06</td>\n",
       "      <td>1.537874e+07</td>\n",
       "      <td>9.867314e+07</td>\n",
       "    </tr>\n",
       "  </tbody>\n",
       "</table>\n",
       "</div>"
      ],
      "text/plain": [
       "              CRIM            NOX            RM           AGE           TAX\n",
       "CRIM  4.397034e+04    1226.123170  1.082195e+04  1.685150e+05  1.173073e+06\n",
       "NOX   1.226123e+03     162.470380  1.751519e+03  2.045220e+04  1.211706e+05\n",
       "RM    1.082195e+04    1751.519414  2.023460e+04  2.156702e+05  1.280740e+06\n",
       "AGE   1.685150e+05   20452.201630  2.156702e+05  2.779615e+06  1.537874e+07\n",
       "TAX   1.173073e+06  121170.623200  1.280740e+06  1.537874e+07  9.867314e+07"
      ]
     },
     "execution_count": 16,
     "metadata": {},
     "output_type": "execute_result"
    }
   ],
   "source": [
    "X_t@X"
   ]
  },
  {
   "cell_type": "markdown",
   "metadata": {},
   "source": [
    "#### 행렬식"
   ]
  },
  {
   "cell_type": "code",
   "execution_count": 17,
   "metadata": {},
   "outputs": [
    {
     "data": {
      "text/plain": [
       "7.91431657769047e+21"
      ]
     },
     "execution_count": 17,
     "metadata": {},
     "output_type": "execute_result"
    }
   ],
   "source": [
    "XtX = X_t@X\n",
    "\n",
    "np.linalg.det(XtX)"
   ]
  },
  {
   "cell_type": "markdown",
   "metadata": {},
   "source": [
    "#### 역행렬"
   ]
  },
  {
   "cell_type": "code",
   "execution_count": 18,
   "metadata": {},
   "outputs": [
    {
     "name": "stdout",
     "output_type": "stream",
     "text": [
      "[[ 4.07613803e-05  1.32526683e-04  4.76832932e-05 -1.01889386e-06\n",
      "  -1.10744437e-06]\n",
      " [ 1.32526683e-04  3.44301609e-01 -1.30762150e-02 -8.56047279e-04\n",
      "  -1.21234099e-04]\n",
      " [ 4.76832932e-05 -1.30762150e-02  9.05341934e-04  1.73338529e-05\n",
      "   1.03814433e-06]\n",
      " [-1.01889386e-06 -8.56047279e-04  1.73338529e-05  5.35211609e-06\n",
      "   4.19638894e-09]\n",
      " [-1.10744437e-06 -1.21234099e-04  1.03814433e-06  4.19638894e-09\n",
      "   1.58047038e-07]]\n"
     ]
    }
   ],
   "source": [
    "XtX_inv = np.linalg.inv(XtX)\n",
    "\n",
    "print(XtX_inv)"
   ]
  },
  {
   "cell_type": "code",
   "execution_count": 19,
   "metadata": {},
   "outputs": [
    {
     "data": {
      "text/html": [
       "<div>\n",
       "<style scoped>\n",
       "    .dataframe tbody tr th:only-of-type {\n",
       "        vertical-align: middle;\n",
       "    }\n",
       "\n",
       "    .dataframe tbody tr th {\n",
       "        vertical-align: top;\n",
       "    }\n",
       "\n",
       "    .dataframe thead th {\n",
       "        text-align: right;\n",
       "    }\n",
       "</style>\n",
       "<table border=\"1\" class=\"dataframe\">\n",
       "  <thead>\n",
       "    <tr style=\"text-align: right;\">\n",
       "      <th></th>\n",
       "      <th>CRIM</th>\n",
       "      <th>NOX</th>\n",
       "      <th>RM</th>\n",
       "      <th>AGE</th>\n",
       "      <th>TAX</th>\n",
       "    </tr>\n",
       "  </thead>\n",
       "  <tbody>\n",
       "    <tr>\n",
       "      <th>0</th>\n",
       "      <td>1.000000e+00</td>\n",
       "      <td>-1.908474e-16</td>\n",
       "      <td>-2.440727e-15</td>\n",
       "      <td>-2.841986e-14</td>\n",
       "      <td>-1.216970e-13</td>\n",
       "    </tr>\n",
       "    <tr>\n",
       "      <th>1</th>\n",
       "      <td>-2.343027e-13</td>\n",
       "      <td>1.000000e+00</td>\n",
       "      <td>-2.188506e-13</td>\n",
       "      <td>-1.946254e-12</td>\n",
       "      <td>-1.407552e-11</td>\n",
       "    </tr>\n",
       "    <tr>\n",
       "      <th>2</th>\n",
       "      <td>1.156221e-14</td>\n",
       "      <td>6.227042e-16</td>\n",
       "      <td>1.000000e+00</td>\n",
       "      <td>7.401608e-14</td>\n",
       "      <td>4.504880e-13</td>\n",
       "    </tr>\n",
       "    <tr>\n",
       "      <th>3</th>\n",
       "      <td>5.615874e-16</td>\n",
       "      <td>5.415753e-17</td>\n",
       "      <td>7.001283e-16</td>\n",
       "      <td>1.000000e+00</td>\n",
       "      <td>5.473713e-14</td>\n",
       "    </tr>\n",
       "    <tr>\n",
       "      <th>4</th>\n",
       "      <td>2.418254e-17</td>\n",
       "      <td>2.123092e-18</td>\n",
       "      <td>5.398038e-17</td>\n",
       "      <td>9.681858e-16</td>\n",
       "      <td>1.000000e+00</td>\n",
       "    </tr>\n",
       "  </tbody>\n",
       "</table>\n",
       "</div>"
      ],
      "text/plain": [
       "           CRIM           NOX            RM           AGE           TAX\n",
       "0  1.000000e+00 -1.908474e-16 -2.440727e-15 -2.841986e-14 -1.216970e-13\n",
       "1 -2.343027e-13  1.000000e+00 -2.188506e-13 -1.946254e-12 -1.407552e-11\n",
       "2  1.156221e-14  6.227042e-16  1.000000e+00  7.401608e-14  4.504880e-13\n",
       "3  5.615874e-16  5.415753e-17  7.001283e-16  1.000000e+00  5.473713e-14\n",
       "4  2.418254e-17  2.123092e-18  5.398038e-17  9.681858e-16  1.000000e+00"
      ]
     },
     "execution_count": 19,
     "metadata": {},
     "output_type": "execute_result"
    }
   ],
   "source": [
    "XtX_inv @ XtX"
   ]
  },
  {
   "cell_type": "code",
   "execution_count": 20,
   "metadata": {},
   "outputs": [
    {
     "data": {
      "text/html": [
       "<div>\n",
       "<style scoped>\n",
       "    .dataframe tbody tr th:only-of-type {\n",
       "        vertical-align: middle;\n",
       "    }\n",
       "\n",
       "    .dataframe tbody tr th {\n",
       "        vertical-align: top;\n",
       "    }\n",
       "\n",
       "    .dataframe thead th {\n",
       "        text-align: right;\n",
       "    }\n",
       "</style>\n",
       "<table border=\"1\" class=\"dataframe\">\n",
       "  <thead>\n",
       "    <tr style=\"text-align: right;\">\n",
       "      <th></th>\n",
       "      <th>0</th>\n",
       "      <th>1</th>\n",
       "      <th>2</th>\n",
       "      <th>3</th>\n",
       "      <th>4</th>\n",
       "    </tr>\n",
       "  </thead>\n",
       "  <tbody>\n",
       "    <tr>\n",
       "      <th>CRIM</th>\n",
       "      <td>1.000000e+00</td>\n",
       "      <td>-7.643977e-14</td>\n",
       "      <td>-1.381674e-15</td>\n",
       "      <td>-4.241093e-16</td>\n",
       "      <td>5.193812e-17</td>\n",
       "    </tr>\n",
       "    <tr>\n",
       "      <th>NOX</th>\n",
       "      <td>-8.856692e-18</td>\n",
       "      <td>1.000000e+00</td>\n",
       "      <td>2.420336e-16</td>\n",
       "      <td>1.163556e-17</td>\n",
       "      <td>-2.476682e-18</td>\n",
       "    </tr>\n",
       "    <tr>\n",
       "      <th>RM</th>\n",
       "      <td>1.730192e-16</td>\n",
       "      <td>-4.334970e-15</td>\n",
       "      <td>1.000000e+00</td>\n",
       "      <td>-1.261543e-16</td>\n",
       "      <td>-2.928635e-17</td>\n",
       "    </tr>\n",
       "    <tr>\n",
       "      <th>AGE</th>\n",
       "      <td>6.126108e-16</td>\n",
       "      <td>-6.351444e-13</td>\n",
       "      <td>4.884368e-14</td>\n",
       "      <td>1.000000e+00</td>\n",
       "      <td>-2.194000e-16</td>\n",
       "    </tr>\n",
       "    <tr>\n",
       "      <th>TAX</th>\n",
       "      <td>2.829222e-15</td>\n",
       "      <td>4.488510e-13</td>\n",
       "      <td>1.467297e-14</td>\n",
       "      <td>-6.681938e-15</td>\n",
       "      <td>1.000000e+00</td>\n",
       "    </tr>\n",
       "  </tbody>\n",
       "</table>\n",
       "</div>"
      ],
      "text/plain": [
       "                 0             1             2             3             4\n",
       "CRIM  1.000000e+00 -7.643977e-14 -1.381674e-15 -4.241093e-16  5.193812e-17\n",
       "NOX  -8.856692e-18  1.000000e+00  2.420336e-16  1.163556e-17 -2.476682e-18\n",
       "RM    1.730192e-16 -4.334970e-15  1.000000e+00 -1.261543e-16 -2.928635e-17\n",
       "AGE   6.126108e-16 -6.351444e-13  4.884368e-14  1.000000e+00 -2.194000e-16\n",
       "TAX   2.829222e-15  4.488510e-13  1.467297e-14 -6.681938e-15  1.000000e+00"
      ]
     },
     "execution_count": 20,
     "metadata": {},
     "output_type": "execute_result"
    }
   ],
   "source": [
    "XtX @ XtX_inv"
   ]
  },
  {
   "cell_type": "markdown",
   "metadata": {},
   "source": [
    "#### 내적"
   ]
  },
  {
   "cell_type": "code",
   "execution_count": 21,
   "metadata": {},
   "outputs": [
    {
     "name": "stdout",
     "output_type": "stream",
     "text": [
      "1226.123170231\n"
     ]
    }
   ],
   "source": [
    "crim = df['CRIM']\n",
    "nox = df['NOX']\n",
    "\n",
    "res = np.inner(crim, nox)\n",
    "print(res)"
   ]
  },
  {
   "cell_type": "markdown",
   "metadata": {},
   "source": [
    "#### 고유값 분해"
   ]
  },
  {
   "cell_type": "code",
   "execution_count": 22,
   "metadata": {},
   "outputs": [
    {
     "data": {
      "text/html": [
       "<div>\n",
       "<style scoped>\n",
       "    .dataframe tbody tr th:only-of-type {\n",
       "        vertical-align: middle;\n",
       "    }\n",
       "\n",
       "    .dataframe tbody tr th {\n",
       "        vertical-align: top;\n",
       "    }\n",
       "\n",
       "    .dataframe thead th {\n",
       "        text-align: right;\n",
       "    }\n",
       "</style>\n",
       "<table border=\"1\" class=\"dataframe\">\n",
       "  <thead>\n",
       "    <tr style=\"text-align: right;\">\n",
       "      <th></th>\n",
       "      <th>CRIM</th>\n",
       "      <th>NOX</th>\n",
       "      <th>RM</th>\n",
       "      <th>AGE</th>\n",
       "      <th>TAX</th>\n",
       "    </tr>\n",
       "  </thead>\n",
       "  <tbody>\n",
       "    <tr>\n",
       "      <th>CRIM</th>\n",
       "      <td>4.397034e+04</td>\n",
       "      <td>1226.123170</td>\n",
       "      <td>1.082195e+04</td>\n",
       "      <td>1.685150e+05</td>\n",
       "      <td>1.173073e+06</td>\n",
       "    </tr>\n",
       "    <tr>\n",
       "      <th>NOX</th>\n",
       "      <td>1.226123e+03</td>\n",
       "      <td>162.470380</td>\n",
       "      <td>1.751519e+03</td>\n",
       "      <td>2.045220e+04</td>\n",
       "      <td>1.211706e+05</td>\n",
       "    </tr>\n",
       "    <tr>\n",
       "      <th>RM</th>\n",
       "      <td>1.082195e+04</td>\n",
       "      <td>1751.519414</td>\n",
       "      <td>2.023460e+04</td>\n",
       "      <td>2.156702e+05</td>\n",
       "      <td>1.280740e+06</td>\n",
       "    </tr>\n",
       "    <tr>\n",
       "      <th>AGE</th>\n",
       "      <td>1.685150e+05</td>\n",
       "      <td>20452.201630</td>\n",
       "      <td>2.156702e+05</td>\n",
       "      <td>2.779615e+06</td>\n",
       "      <td>1.537874e+07</td>\n",
       "    </tr>\n",
       "    <tr>\n",
       "      <th>TAX</th>\n",
       "      <td>1.173073e+06</td>\n",
       "      <td>121170.623200</td>\n",
       "      <td>1.280740e+06</td>\n",
       "      <td>1.537874e+07</td>\n",
       "      <td>9.867314e+07</td>\n",
       "    </tr>\n",
       "  </tbody>\n",
       "</table>\n",
       "</div>"
      ],
      "text/plain": [
       "              CRIM            NOX            RM           AGE           TAX\n",
       "CRIM  4.397034e+04    1226.123170  1.082195e+04  1.685150e+05  1.173073e+06\n",
       "NOX   1.226123e+03     162.470380  1.751519e+03  2.045220e+04  1.211706e+05\n",
       "RM    1.082195e+04    1751.519414  2.023460e+04  2.156702e+05  1.280740e+06\n",
       "AGE   1.685150e+05   20452.201630  2.156702e+05  2.779615e+06  1.537874e+07\n",
       "TAX   1.173073e+06  121170.623200  1.280740e+06  1.537874e+07  9.867314e+07"
      ]
     },
     "execution_count": 22,
     "metadata": {},
     "output_type": "execute_result"
    }
   ],
   "source": [
    "cov_x = X_t.dot(X)\n",
    "cov_x"
   ]
  },
  {
   "cell_type": "code",
   "execution_count": 23,
   "metadata": {},
   "outputs": [],
   "source": [
    "# 고유값 분해\n",
    "e, v = np.linalg.eig(cov_x)"
   ]
  },
  {
   "cell_type": "code",
   "execution_count": 26,
   "metadata": {},
   "outputs": [
    {
     "data": {
      "text/plain": [
       "array([1.01109837e+08, 3.74919516e+05, 2.99553705e+04, 2.40312204e+03,\n",
       "       2.90022330e+00])"
      ]
     },
     "execution_count": 26,
     "metadata": {},
     "output_type": "execute_result"
    }
   ],
   "source": [
    "# 고유값 (내림차순 정렬)\n",
    "e"
   ]
  },
  {
   "cell_type": "code",
   "execution_count": 27,
   "metadata": {},
   "outputs": [
    {
     "data": {
      "text/plain": [
       "array([[ 1.17248568e-02, -4.34541539e-02, -9.89273583e-01,\n",
       "         1.38967257e-01, -3.78876853e-04],\n",
       "       [ 1.21545113e-03,  3.97729110e-03,  5.48368537e-03,\n",
       "         3.74537281e-02, -9.99274663e-01],\n",
       "       [ 1.28461807e-02,  4.11504926e-02,  1.37240647e-01,\n",
       "         9.88869506e-01,  3.79962757e-02],\n",
       "       [ 1.54544362e-01,  9.86199762e-01, -4.66395497e-02,\n",
       "        -3.66695593e-02,  2.48287726e-03],\n",
       "       [ 9.87832003e-01, -1.54313263e-01,  1.72471505e-02,\n",
       "        -8.81831838e-03,  3.51466736e-04]])"
      ]
     },
     "execution_count": 27,
     "metadata": {},
     "output_type": "execute_result"
    }
   ],
   "source": [
    "# 고유 벡터\n",
    "v "
   ]
  },
  {
   "cell_type": "markdown",
   "metadata": {},
   "source": [
    "#### 특이값 분해"
   ]
  },
  {
   "cell_type": "code",
   "execution_count": 28,
   "metadata": {},
   "outputs": [],
   "source": [
    "# 특이값 분해\n",
    "u, s, vt = np.linalg.svd(cov_x)"
   ]
  },
  {
   "cell_type": "code",
   "execution_count": 29,
   "metadata": {},
   "outputs": [
    {
     "data": {
      "text/plain": [
       "array([[-1.17248568e-02,  4.34541539e-02,  9.89273583e-01,\n",
       "        -1.38967257e-01, -3.78876853e-04],\n",
       "       [-1.21545113e-03, -3.97729110e-03, -5.48368537e-03,\n",
       "        -3.74537281e-02, -9.99274663e-01],\n",
       "       [-1.28461807e-02, -4.11504926e-02, -1.37240647e-01,\n",
       "        -9.88869506e-01,  3.79962757e-02],\n",
       "       [-1.54544362e-01, -9.86199762e-01,  4.66395497e-02,\n",
       "         3.66695593e-02,  2.48287726e-03],\n",
       "       [-9.87832003e-01,  1.54313263e-01, -1.72471505e-02,\n",
       "         8.81831838e-03,  3.51466736e-04]])"
      ]
     },
     "execution_count": 29,
     "metadata": {},
     "output_type": "execute_result"
    }
   ],
   "source": [
    "u"
   ]
  },
  {
   "cell_type": "code",
   "execution_count": 31,
   "metadata": {},
   "outputs": [
    {
     "data": {
      "text/plain": [
       "array([1.01109837e+08, 3.74919516e+05, 2.99553705e+04, 2.40312204e+03,\n",
       "       2.90022330e+00])"
      ]
     },
     "execution_count": 31,
     "metadata": {},
     "output_type": "execute_result"
    }
   ],
   "source": [
    "s"
   ]
  },
  {
   "cell_type": "code",
   "execution_count": 30,
   "metadata": {},
   "outputs": [
    {
     "data": {
      "text/plain": [
       "array([[-1.17248568e-02, -1.21545113e-03, -1.28461807e-02,\n",
       "        -1.54544362e-01, -9.87832003e-01],\n",
       "       [ 4.34541539e-02, -3.97729110e-03, -4.11504926e-02,\n",
       "        -9.86199762e-01,  1.54313263e-01],\n",
       "       [ 9.89273583e-01, -5.48368537e-03, -1.37240647e-01,\n",
       "         4.66395497e-02, -1.72471505e-02],\n",
       "       [-1.38967257e-01, -3.74537281e-02, -9.88869506e-01,\n",
       "         3.66695593e-02,  8.81831838e-03],\n",
       "       [-3.78876853e-04, -9.99274663e-01,  3.79962757e-02,\n",
       "         2.48287726e-03,  3.51466736e-04]])"
      ]
     },
     "execution_count": 30,
     "metadata": {},
     "output_type": "execute_result"
    }
   ],
   "source": [
    "vt"
   ]
  },
  {
   "cell_type": "code",
   "execution_count": 32,
   "metadata": {},
   "outputs": [],
   "source": [
    "u2, s2, vt2 = np.linalg.svd(X)"
   ]
  },
  {
   "cell_type": "code",
   "execution_count": 33,
   "metadata": {},
   "outputs": [
    {
     "data": {
      "text/plain": [
       "array([[-0.03008946,  0.03086023,  0.01712144, ..., -0.00411115,\n",
       "        -0.00427013, -0.00365704],\n",
       "       [-0.02499491,  0.06652264,  0.00780423, ..., -0.05447262,\n",
       "        -0.05387641, -0.05180949],\n",
       "       [-0.02472231,  0.03790476,  0.0132068 , ..., -0.01726598,\n",
       "        -0.01167245,  0.01252377],\n",
       "       ...,\n",
       "       [-0.02822706,  0.07823426,  0.00788495, ...,  0.99280739,\n",
       "        -0.00687219, -0.00535758],\n",
       "       [-0.02820076,  0.07548049,  0.00791964, ..., -0.00689953,\n",
       "         0.99336613, -0.00536756],\n",
       "       [-0.02806907,  0.0617432 ,  0.00995976, ..., -0.00551636,\n",
       "        -0.00549819,  0.99463978]])"
      ]
     },
     "execution_count": 33,
     "metadata": {},
     "output_type": "execute_result"
    }
   ],
   "source": [
    "u2"
   ]
  },
  {
   "cell_type": "code",
   "execution_count": 34,
   "metadata": {},
   "outputs": [
    {
     "data": {
      "text/plain": [
       "array([1.00553387e+04, 6.12306718e+02, 1.73076199e+02, 4.90216487e+01,\n",
       "       1.70300420e+00])"
      ]
     },
     "execution_count": 34,
     "metadata": {},
     "output_type": "execute_result"
    }
   ],
   "source": [
    "s2"
   ]
  },
  {
   "cell_type": "code",
   "execution_count": 35,
   "metadata": {},
   "outputs": [
    {
     "data": {
      "text/plain": [
       "array([[-1.17248568e-02, -1.21545113e-03, -1.28461807e-02,\n",
       "        -1.54544362e-01, -9.87832003e-01],\n",
       "       [-4.34541539e-02,  3.97729110e-03,  4.11504926e-02,\n",
       "         9.86199762e-01, -1.54313263e-01],\n",
       "       [-9.89273583e-01,  5.48368537e-03,  1.37240647e-01,\n",
       "        -4.66395497e-02,  1.72471505e-02],\n",
       "       [-1.38967257e-01, -3.74537281e-02, -9.88869506e-01,\n",
       "         3.66695593e-02,  8.81831838e-03],\n",
       "       [-3.78876853e-04, -9.99274663e-01,  3.79962757e-02,\n",
       "         2.48287726e-03,  3.51466736e-04]])"
      ]
     },
     "execution_count": 35,
     "metadata": {},
     "output_type": "execute_result"
    }
   ],
   "source": [
    "vt2"
   ]
  },
  {
   "cell_type": "code",
   "execution_count": 36,
   "metadata": {},
   "outputs": [
    {
     "data": {
      "text/plain": [
       "array([1.01109837e+08, 3.74919516e+05, 2.99553705e+04, 2.40312204e+03,\n",
       "       2.90022330e+00])"
      ]
     },
     "execution_count": 36,
     "metadata": {},
     "output_type": "execute_result"
    }
   ],
   "source": [
    "np.square(s2)"
   ]
  },
  {
   "cell_type": "code",
   "execution_count": 37,
   "metadata": {},
   "outputs": [
    {
     "data": {
      "text/plain": [
       "array([1.01109837e+08, 3.74919516e+05, 2.99553705e+04, 2.40312204e+03,\n",
       "       2.90022330e+00])"
      ]
     },
     "execution_count": 37,
     "metadata": {},
     "output_type": "execute_result"
    }
   ],
   "source": [
    "s"
   ]
  }
 ],
 "metadata": {
  "kernelspec": {
   "display_name": "py_3_10_4",
   "language": "python",
   "name": "python3"
  },
  "language_info": {
   "codemirror_mode": {
    "name": "ipython",
    "version": 3
   },
   "file_extension": ".py",
   "mimetype": "text/x-python",
   "name": "python",
   "nbconvert_exporter": "python",
   "pygments_lexer": "ipython3",
   "version": "3.10.4"
  },
  "orig_nbformat": 4
 },
 "nbformat": 4,
 "nbformat_minor": 2
}
