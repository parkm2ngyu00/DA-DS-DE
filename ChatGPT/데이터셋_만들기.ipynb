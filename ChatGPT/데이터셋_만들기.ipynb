{
 "cells": [
  {
   "cell_type": "markdown",
   "metadata": {},
   "source": [
    "## 함수 호출 서울 날씨와 함께 사용"
   ]
  },
  {
   "cell_type": "code",
   "execution_count": null,
   "metadata": {},
   "outputs": [],
   "source": [
    "state_message_history = []\n",
    "system_content = \"\"\"\n",
    "다음은 리뷰에 대해 객관적인 아닌지를 판별하는 샘플 예시이다.\n",
    "\"“음.. 생각한것보다 음식이 짜서 놀랐습니다. 평소 간을 심심하게 먹는 저한테 맞는 곳은 아니네요. 그래도 간을 세게 드시는 분들은 입맛에 딱 맞을 것 같아요!”\", Yes\n",
    "“해물파전을 하는 맛집이래서 찾아왔더니 별로네요… 가지마세요.”,. No\n",
    "\"처음 음식을 봤을 때 굉장히 맛없어 보였는데 막상 먹어보니까 굉장히 맛있네요. 특히 채소의 맛이 일품입니다!  먹음직스러운 외관이 더해지면 정말 좋을 것 같습니다! 잘먹었어요~~\", Yes\n",
    "\"사장님이 불친절해요\", No\n",
    "이를 기반으로 샘플 10개를 만들어. csv 형태로 하되, 문장은 \" \"로 감싼다.\n",
    "\"\"\"\n",
    "state_message_history.append({\"role\": \"system\", \"content\": system_content})\n",
    "for i in range(10):\n",
    "    chat_response = chat_completion_request(state_message_history)\n",
    "    dataset = assistant_message = chat_response.json()[\"choices\"][0][\"message\"][\"content\"]\n",
    "    print(dataset)"
   ]
  }
 ],
 "metadata": {
  "language_info": {
   "name": "python"
  },
  "orig_nbformat": 4
 },
 "nbformat": 4,
 "nbformat_minor": 2
}
